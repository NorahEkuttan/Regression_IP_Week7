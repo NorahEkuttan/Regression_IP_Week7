{
  "nbformat": 4,
  "nbformat_minor": 0,
  "metadata": {
    "colab": {
      "name": "WEEK 7 core/Norah Ekuttan",
      "provenance": [],
      "collapsed_sections": [
        "kLG2VTrnTvYL",
        "XecOwPNorl2W",
        "J4wfHZwQrs-t",
        "a9BPYqunry97",
        "7KMRBJ7zr9HD",
        "zSGyg6kWsBUl",
        "iUNbvIvnT7ep",
        "OI3P3YnHUEBk",
        "ckfufNrcUHeH",
        "6XC_g-zKxe-r",
        "rF2ABPsHUtbZ",
        "vTbdjSrhVIiT",
        "lQ2G4ZPDVOXE",
        "xrmHVMVsVS--",
        "HPQviDmNtta8",
        "qjFHK1CKty7o",
        "HSsicSdvt4Zs"
      ],
      "toc_visible": true,
      "include_colab_link": true
    },
    "kernelspec": {
      "name": "python3",
      "display_name": "Python 3"
    }
  },
  "cells": [
    {
      "cell_type": "markdown",
      "metadata": {
        "id": "view-in-github",
        "colab_type": "text"
      },
      "source": [
        "<a href=\"https://colab.research.google.com/github/NorahEkuttan/Regression_IP_Week7/blob/main/WEEK_7_core_Norah_Ekuttan.ipynb\" target=\"_parent\"><img src=\"https://colab.research.google.com/assets/colab-badge.svg\" alt=\"Open In Colab\"/></a>"
      ]
    },
    {
      "cell_type": "markdown",
      "metadata": {
        "id": "xMxtPsqcTsSH"
      },
      "source": [
        "#           ***  NORAH NAROH WEEK 7 INDEPENDENT PROJECT ***\n"
      ]
    },
    {
      "cell_type": "markdown",
      "metadata": {
        "id": "kLG2VTrnTvYL"
      },
      "source": [
        "## 1. Defining the Question"
      ]
    },
    {
      "cell_type": "markdown",
      "metadata": {
        "id": "XecOwPNorl2W"
      },
      "source": [
        "### a) Specifying the Question"
      ]
    },
    {
      "cell_type": "markdown",
      "metadata": {
        "id": "8l3-hBO6bODP"
      },
      "source": [
        "\n",
        "As a Data Scientist, you work for Hass Consulting Company which is a real estate leader with over 25 years of experience. You have been tasked to study the factors that affect housing prices using the given information on real estate properties that was collected over the past few months. Later onwards, create a model that would allow the company to accurately predict the sale of prices upon being provided with the predictor variables.\n"
      ]
    },
    {
      "cell_type": "markdown",
      "metadata": {
        "id": "J4wfHZwQrs-t"
      },
      "source": [
        "### b) Defining the Metric for Success\n",
        "\n",
        "Create a model that would allow the company to accurately predict the sale of prices upon being provided with the predictor variables"
      ]
    },
    {
      "cell_type": "markdown",
      "metadata": {
        "id": "a9BPYqunry97"
      },
      "source": [
        "### c) Understanding the context "
      ]
    },
    {
      "cell_type": "markdown",
      "metadata": {
        "id": "7KMRBJ7zr9HD"
      },
      "source": [
        "### d) Recording the Experimental Design\n",
        "In this study, I'll be conducting Explorative Data Analysis, i.e Univariate, Bivariate analysis to get a scope of what my data entails\n",
        "\n",
        "\n",
        "For regression analysis, I'll implement the following regression techniques and compare their performances.\n",
        "\n",
        "Multiple Linear Regression\n",
        "\n",
        "Quantile Regression\n",
        "\n",
        "Ridge Regression\n",
        "\n",
        "\n",
        "Lasso Regression\n",
        "\n",
        "Elastic Net Regression"
      ]
    },
    {
      "cell_type": "markdown",
      "metadata": {
        "id": "zSGyg6kWsBUl"
      },
      "source": [
        "### e) Data Relevance"
      ]
    },
    {
      "cell_type": "markdown",
      "metadata": {
        "id": "iUNbvIvnT7ep"
      },
      "source": [
        "## 2. Reading the Data"
      ]
    },
    {
      "cell_type": "code",
      "metadata": {
        "id": "L8mCV1FLEClo"
      },
      "source": [
        "\n",
        "import pandas as pd\n",
        "import seaborn as sb\n",
        "import numpy as np\n",
        "import matplotlib\n",
        "from matplotlib import pyplot as plt"
      ],
      "execution_count": null,
      "outputs": []
    },
    {
      "cell_type": "code",
      "metadata": {
        "id": "XJn2KjW-WMlG",
        "colab": {
          "base_uri": "https://localhost:8080/"
        },
        "outputId": "7b0366d9-70d6-4a9c-ee19-39f2f7d6a219"
      },
      "source": [
        "# Loading the Dataset \n",
        "#Factors-affecting-housing-prices-analysis-IP-Week-7\n",
        "hp_df = pd.read_csv('/content/Independent Project Week 7 - house_data.csv')\n",
        "hp_df"
      ],
      "execution_count": null,
      "outputs": [
        {
          "output_type": "execute_result",
          "data": {
            "text/html": [
              "<div>\n",
              "<style scoped>\n",
              "    .dataframe tbody tr th:only-of-type {\n",
              "        vertical-align: middle;\n",
              "    }\n",
              "\n",
              "    .dataframe tbody tr th {\n",
              "        vertical-align: top;\n",
              "    }\n",
              "\n",
              "    .dataframe thead th {\n",
              "        text-align: right;\n",
              "    }\n",
              "</style>\n",
              "<table border=\"1\" class=\"dataframe\">\n",
              "  <thead>\n",
              "    <tr style=\"text-align: right;\">\n",
              "      <th></th>\n",
              "      <th>id</th>\n",
              "      <th>price</th>\n",
              "      <th>bedrooms</th>\n",
              "      <th>bathrooms</th>\n",
              "      <th>sqft_living</th>\n",
              "      <th>sqft_lot</th>\n",
              "      <th>floors</th>\n",
              "      <th>waterfront</th>\n",
              "      <th>view</th>\n",
              "      <th>condition</th>\n",
              "      <th>grade</th>\n",
              "      <th>sqft_above</th>\n",
              "      <th>sqft_basement</th>\n",
              "      <th>yr_built</th>\n",
              "      <th>yr_renovated</th>\n",
              "      <th>zipcode</th>\n",
              "      <th>lat</th>\n",
              "      <th>long</th>\n",
              "      <th>sqft_living15</th>\n",
              "      <th>sqft_lot15</th>\n",
              "    </tr>\n",
              "  </thead>\n",
              "  <tbody>\n",
              "    <tr>\n",
              "      <th>0</th>\n",
              "      <td>7129300520</td>\n",
              "      <td>221900.0</td>\n",
              "      <td>3</td>\n",
              "      <td>1.00</td>\n",
              "      <td>1180</td>\n",
              "      <td>5650</td>\n",
              "      <td>1.0</td>\n",
              "      <td>0</td>\n",
              "      <td>0</td>\n",
              "      <td>3</td>\n",
              "      <td>7</td>\n",
              "      <td>1180</td>\n",
              "      <td>0</td>\n",
              "      <td>1955</td>\n",
              "      <td>0</td>\n",
              "      <td>98178</td>\n",
              "      <td>47.5112</td>\n",
              "      <td>-122.257</td>\n",
              "      <td>1340</td>\n",
              "      <td>5650</td>\n",
              "    </tr>\n",
              "    <tr>\n",
              "      <th>1</th>\n",
              "      <td>6414100192</td>\n",
              "      <td>538000.0</td>\n",
              "      <td>3</td>\n",
              "      <td>2.25</td>\n",
              "      <td>2570</td>\n",
              "      <td>7242</td>\n",
              "      <td>2.0</td>\n",
              "      <td>0</td>\n",
              "      <td>0</td>\n",
              "      <td>3</td>\n",
              "      <td>7</td>\n",
              "      <td>2170</td>\n",
              "      <td>400</td>\n",
              "      <td>1951</td>\n",
              "      <td>1991</td>\n",
              "      <td>98125</td>\n",
              "      <td>47.7210</td>\n",
              "      <td>-122.319</td>\n",
              "      <td>1690</td>\n",
              "      <td>7639</td>\n",
              "    </tr>\n",
              "    <tr>\n",
              "      <th>2</th>\n",
              "      <td>5631500400</td>\n",
              "      <td>180000.0</td>\n",
              "      <td>2</td>\n",
              "      <td>1.00</td>\n",
              "      <td>770</td>\n",
              "      <td>10000</td>\n",
              "      <td>1.0</td>\n",
              "      <td>0</td>\n",
              "      <td>0</td>\n",
              "      <td>3</td>\n",
              "      <td>6</td>\n",
              "      <td>770</td>\n",
              "      <td>0</td>\n",
              "      <td>1933</td>\n",
              "      <td>0</td>\n",
              "      <td>98028</td>\n",
              "      <td>47.7379</td>\n",
              "      <td>-122.233</td>\n",
              "      <td>2720</td>\n",
              "      <td>8062</td>\n",
              "    </tr>\n",
              "    <tr>\n",
              "      <th>3</th>\n",
              "      <td>2487200875</td>\n",
              "      <td>604000.0</td>\n",
              "      <td>4</td>\n",
              "      <td>3.00</td>\n",
              "      <td>1960</td>\n",
              "      <td>5000</td>\n",
              "      <td>1.0</td>\n",
              "      <td>0</td>\n",
              "      <td>0</td>\n",
              "      <td>5</td>\n",
              "      <td>7</td>\n",
              "      <td>1050</td>\n",
              "      <td>910</td>\n",
              "      <td>1965</td>\n",
              "      <td>0</td>\n",
              "      <td>98136</td>\n",
              "      <td>47.5208</td>\n",
              "      <td>-122.393</td>\n",
              "      <td>1360</td>\n",
              "      <td>5000</td>\n",
              "    </tr>\n",
              "    <tr>\n",
              "      <th>4</th>\n",
              "      <td>1954400510</td>\n",
              "      <td>510000.0</td>\n",
              "      <td>3</td>\n",
              "      <td>2.00</td>\n",
              "      <td>1680</td>\n",
              "      <td>8080</td>\n",
              "      <td>1.0</td>\n",
              "      <td>0</td>\n",
              "      <td>0</td>\n",
              "      <td>3</td>\n",
              "      <td>8</td>\n",
              "      <td>1680</td>\n",
              "      <td>0</td>\n",
              "      <td>1987</td>\n",
              "      <td>0</td>\n",
              "      <td>98074</td>\n",
              "      <td>47.6168</td>\n",
              "      <td>-122.045</td>\n",
              "      <td>1800</td>\n",
              "      <td>7503</td>\n",
              "    </tr>\n",
              "    <tr>\n",
              "      <th>...</th>\n",
              "      <td>...</td>\n",
              "      <td>...</td>\n",
              "      <td>...</td>\n",
              "      <td>...</td>\n",
              "      <td>...</td>\n",
              "      <td>...</td>\n",
              "      <td>...</td>\n",
              "      <td>...</td>\n",
              "      <td>...</td>\n",
              "      <td>...</td>\n",
              "      <td>...</td>\n",
              "      <td>...</td>\n",
              "      <td>...</td>\n",
              "      <td>...</td>\n",
              "      <td>...</td>\n",
              "      <td>...</td>\n",
              "      <td>...</td>\n",
              "      <td>...</td>\n",
              "      <td>...</td>\n",
              "      <td>...</td>\n",
              "    </tr>\n",
              "    <tr>\n",
              "      <th>21608</th>\n",
              "      <td>263000018</td>\n",
              "      <td>360000.0</td>\n",
              "      <td>3</td>\n",
              "      <td>2.50</td>\n",
              "      <td>1530</td>\n",
              "      <td>1131</td>\n",
              "      <td>3.0</td>\n",
              "      <td>0</td>\n",
              "      <td>0</td>\n",
              "      <td>3</td>\n",
              "      <td>8</td>\n",
              "      <td>1530</td>\n",
              "      <td>0</td>\n",
              "      <td>2009</td>\n",
              "      <td>0</td>\n",
              "      <td>98103</td>\n",
              "      <td>47.6993</td>\n",
              "      <td>-122.346</td>\n",
              "      <td>1530</td>\n",
              "      <td>1509</td>\n",
              "    </tr>\n",
              "    <tr>\n",
              "      <th>21609</th>\n",
              "      <td>6600060120</td>\n",
              "      <td>400000.0</td>\n",
              "      <td>4</td>\n",
              "      <td>2.50</td>\n",
              "      <td>2310</td>\n",
              "      <td>5813</td>\n",
              "      <td>2.0</td>\n",
              "      <td>0</td>\n",
              "      <td>0</td>\n",
              "      <td>3</td>\n",
              "      <td>8</td>\n",
              "      <td>2310</td>\n",
              "      <td>0</td>\n",
              "      <td>2014</td>\n",
              "      <td>0</td>\n",
              "      <td>98146</td>\n",
              "      <td>47.5107</td>\n",
              "      <td>-122.362</td>\n",
              "      <td>1830</td>\n",
              "      <td>7200</td>\n",
              "    </tr>\n",
              "    <tr>\n",
              "      <th>21610</th>\n",
              "      <td>1523300141</td>\n",
              "      <td>402101.0</td>\n",
              "      <td>2</td>\n",
              "      <td>0.75</td>\n",
              "      <td>1020</td>\n",
              "      <td>1350</td>\n",
              "      <td>2.0</td>\n",
              "      <td>0</td>\n",
              "      <td>0</td>\n",
              "      <td>3</td>\n",
              "      <td>7</td>\n",
              "      <td>1020</td>\n",
              "      <td>0</td>\n",
              "      <td>2009</td>\n",
              "      <td>0</td>\n",
              "      <td>98144</td>\n",
              "      <td>47.5944</td>\n",
              "      <td>-122.299</td>\n",
              "      <td>1020</td>\n",
              "      <td>2007</td>\n",
              "    </tr>\n",
              "    <tr>\n",
              "      <th>21611</th>\n",
              "      <td>291310100</td>\n",
              "      <td>400000.0</td>\n",
              "      <td>3</td>\n",
              "      <td>2.50</td>\n",
              "      <td>1600</td>\n",
              "      <td>2388</td>\n",
              "      <td>2.0</td>\n",
              "      <td>0</td>\n",
              "      <td>0</td>\n",
              "      <td>3</td>\n",
              "      <td>8</td>\n",
              "      <td>1600</td>\n",
              "      <td>0</td>\n",
              "      <td>2004</td>\n",
              "      <td>0</td>\n",
              "      <td>98027</td>\n",
              "      <td>47.5345</td>\n",
              "      <td>-122.069</td>\n",
              "      <td>1410</td>\n",
              "      <td>1287</td>\n",
              "    </tr>\n",
              "    <tr>\n",
              "      <th>21612</th>\n",
              "      <td>1523300157</td>\n",
              "      <td>325000.0</td>\n",
              "      <td>2</td>\n",
              "      <td>0.75</td>\n",
              "      <td>1020</td>\n",
              "      <td>1076</td>\n",
              "      <td>2.0</td>\n",
              "      <td>0</td>\n",
              "      <td>0</td>\n",
              "      <td>3</td>\n",
              "      <td>7</td>\n",
              "      <td>1020</td>\n",
              "      <td>0</td>\n",
              "      <td>2008</td>\n",
              "      <td>0</td>\n",
              "      <td>98144</td>\n",
              "      <td>47.5941</td>\n",
              "      <td>-122.299</td>\n",
              "      <td>1020</td>\n",
              "      <td>1357</td>\n",
              "    </tr>\n",
              "  </tbody>\n",
              "</table>\n",
              "<p>21613 rows × 20 columns</p>\n",
              "</div>"
            ],
            "text/plain": [
              "               id     price  bedrooms  ...     long  sqft_living15  sqft_lot15\n",
              "0      7129300520  221900.0         3  ... -122.257           1340        5650\n",
              "1      6414100192  538000.0         3  ... -122.319           1690        7639\n",
              "2      5631500400  180000.0         2  ... -122.233           2720        8062\n",
              "3      2487200875  604000.0         4  ... -122.393           1360        5000\n",
              "4      1954400510  510000.0         3  ... -122.045           1800        7503\n",
              "...           ...       ...       ...  ...      ...            ...         ...\n",
              "21608   263000018  360000.0         3  ... -122.346           1530        1509\n",
              "21609  6600060120  400000.0         4  ... -122.362           1830        7200\n",
              "21610  1523300141  402101.0         2  ... -122.299           1020        2007\n",
              "21611   291310100  400000.0         3  ... -122.069           1410        1287\n",
              "21612  1523300157  325000.0         2  ... -122.299           1020        1357\n",
              "\n",
              "[21613 rows x 20 columns]"
            ]
          },
          "metadata": {
            "tags": []
          },
          "execution_count": 134
        }
      ]
    },
    {
      "cell_type": "markdown",
      "metadata": {
        "id": "OI3P3YnHUEBk"
      },
      "source": [
        "## 3. Checking the Data"
      ]
    },
    {
      "cell_type": "code",
      "metadata": {
        "id": "YjSVNwgptHxY",
        "colab": {
          "base_uri": "https://localhost:8080/"
        },
        "outputId": "437add8c-d5f8-43fa-a675-057169f7bc15"
      },
      "source": [
        "# Determining the no. of records in our dataset\n",
        "#\n",
        "hp_df.shape"
      ],
      "execution_count": null,
      "outputs": [
        {
          "output_type": "execute_result",
          "data": {
            "text/plain": [
              "(21613, 20)"
            ]
          },
          "metadata": {
            "tags": []
          },
          "execution_count": 135
        }
      ]
    },
    {
      "cell_type": "code",
      "metadata": {
        "id": "xHhTw5eKWr0n",
        "colab": {
          "base_uri": "https://localhost:8080/"
        },
        "outputId": "43185882-b7e3-4fb6-b4c5-a0b970d0616c"
      },
      "source": [
        "# Previewing the top of our dataset\n",
        "#\n",
        "hp_df.head()"
      ],
      "execution_count": null,
      "outputs": [
        {
          "output_type": "execute_result",
          "data": {
            "text/html": [
              "<div>\n",
              "<style scoped>\n",
              "    .dataframe tbody tr th:only-of-type {\n",
              "        vertical-align: middle;\n",
              "    }\n",
              "\n",
              "    .dataframe tbody tr th {\n",
              "        vertical-align: top;\n",
              "    }\n",
              "\n",
              "    .dataframe thead th {\n",
              "        text-align: right;\n",
              "    }\n",
              "</style>\n",
              "<table border=\"1\" class=\"dataframe\">\n",
              "  <thead>\n",
              "    <tr style=\"text-align: right;\">\n",
              "      <th></th>\n",
              "      <th>id</th>\n",
              "      <th>price</th>\n",
              "      <th>bedrooms</th>\n",
              "      <th>bathrooms</th>\n",
              "      <th>sqft_living</th>\n",
              "      <th>sqft_lot</th>\n",
              "      <th>floors</th>\n",
              "      <th>waterfront</th>\n",
              "      <th>view</th>\n",
              "      <th>condition</th>\n",
              "      <th>grade</th>\n",
              "      <th>sqft_above</th>\n",
              "      <th>sqft_basement</th>\n",
              "      <th>yr_built</th>\n",
              "      <th>yr_renovated</th>\n",
              "      <th>zipcode</th>\n",
              "      <th>lat</th>\n",
              "      <th>long</th>\n",
              "      <th>sqft_living15</th>\n",
              "      <th>sqft_lot15</th>\n",
              "    </tr>\n",
              "  </thead>\n",
              "  <tbody>\n",
              "    <tr>\n",
              "      <th>0</th>\n",
              "      <td>7129300520</td>\n",
              "      <td>221900.0</td>\n",
              "      <td>3</td>\n",
              "      <td>1.00</td>\n",
              "      <td>1180</td>\n",
              "      <td>5650</td>\n",
              "      <td>1.0</td>\n",
              "      <td>0</td>\n",
              "      <td>0</td>\n",
              "      <td>3</td>\n",
              "      <td>7</td>\n",
              "      <td>1180</td>\n",
              "      <td>0</td>\n",
              "      <td>1955</td>\n",
              "      <td>0</td>\n",
              "      <td>98178</td>\n",
              "      <td>47.5112</td>\n",
              "      <td>-122.257</td>\n",
              "      <td>1340</td>\n",
              "      <td>5650</td>\n",
              "    </tr>\n",
              "    <tr>\n",
              "      <th>1</th>\n",
              "      <td>6414100192</td>\n",
              "      <td>538000.0</td>\n",
              "      <td>3</td>\n",
              "      <td>2.25</td>\n",
              "      <td>2570</td>\n",
              "      <td>7242</td>\n",
              "      <td>2.0</td>\n",
              "      <td>0</td>\n",
              "      <td>0</td>\n",
              "      <td>3</td>\n",
              "      <td>7</td>\n",
              "      <td>2170</td>\n",
              "      <td>400</td>\n",
              "      <td>1951</td>\n",
              "      <td>1991</td>\n",
              "      <td>98125</td>\n",
              "      <td>47.7210</td>\n",
              "      <td>-122.319</td>\n",
              "      <td>1690</td>\n",
              "      <td>7639</td>\n",
              "    </tr>\n",
              "    <tr>\n",
              "      <th>2</th>\n",
              "      <td>5631500400</td>\n",
              "      <td>180000.0</td>\n",
              "      <td>2</td>\n",
              "      <td>1.00</td>\n",
              "      <td>770</td>\n",
              "      <td>10000</td>\n",
              "      <td>1.0</td>\n",
              "      <td>0</td>\n",
              "      <td>0</td>\n",
              "      <td>3</td>\n",
              "      <td>6</td>\n",
              "      <td>770</td>\n",
              "      <td>0</td>\n",
              "      <td>1933</td>\n",
              "      <td>0</td>\n",
              "      <td>98028</td>\n",
              "      <td>47.7379</td>\n",
              "      <td>-122.233</td>\n",
              "      <td>2720</td>\n",
              "      <td>8062</td>\n",
              "    </tr>\n",
              "    <tr>\n",
              "      <th>3</th>\n",
              "      <td>2487200875</td>\n",
              "      <td>604000.0</td>\n",
              "      <td>4</td>\n",
              "      <td>3.00</td>\n",
              "      <td>1960</td>\n",
              "      <td>5000</td>\n",
              "      <td>1.0</td>\n",
              "      <td>0</td>\n",
              "      <td>0</td>\n",
              "      <td>5</td>\n",
              "      <td>7</td>\n",
              "      <td>1050</td>\n",
              "      <td>910</td>\n",
              "      <td>1965</td>\n",
              "      <td>0</td>\n",
              "      <td>98136</td>\n",
              "      <td>47.5208</td>\n",
              "      <td>-122.393</td>\n",
              "      <td>1360</td>\n",
              "      <td>5000</td>\n",
              "    </tr>\n",
              "    <tr>\n",
              "      <th>4</th>\n",
              "      <td>1954400510</td>\n",
              "      <td>510000.0</td>\n",
              "      <td>3</td>\n",
              "      <td>2.00</td>\n",
              "      <td>1680</td>\n",
              "      <td>8080</td>\n",
              "      <td>1.0</td>\n",
              "      <td>0</td>\n",
              "      <td>0</td>\n",
              "      <td>3</td>\n",
              "      <td>8</td>\n",
              "      <td>1680</td>\n",
              "      <td>0</td>\n",
              "      <td>1987</td>\n",
              "      <td>0</td>\n",
              "      <td>98074</td>\n",
              "      <td>47.6168</td>\n",
              "      <td>-122.045</td>\n",
              "      <td>1800</td>\n",
              "      <td>7503</td>\n",
              "    </tr>\n",
              "  </tbody>\n",
              "</table>\n",
              "</div>"
            ],
            "text/plain": [
              "           id     price  bedrooms  ...     long  sqft_living15  sqft_lot15\n",
              "0  7129300520  221900.0         3  ... -122.257           1340        5650\n",
              "1  6414100192  538000.0         3  ... -122.319           1690        7639\n",
              "2  5631500400  180000.0         2  ... -122.233           2720        8062\n",
              "3  2487200875  604000.0         4  ... -122.393           1360        5000\n",
              "4  1954400510  510000.0         3  ... -122.045           1800        7503\n",
              "\n",
              "[5 rows x 20 columns]"
            ]
          },
          "metadata": {
            "tags": []
          },
          "execution_count": 136
        }
      ]
    },
    {
      "cell_type": "code",
      "metadata": {
        "id": "e9AzGcZFrIIr",
        "colab": {
          "base_uri": "https://localhost:8080/"
        },
        "outputId": "5f17cf31-eba9-4f1b-a650-f7258ffaffe9"
      },
      "source": [
        "# Previewing the bottom of our dataset\n",
        "# \n",
        "hp_df.tail()"
      ],
      "execution_count": null,
      "outputs": [
        {
          "output_type": "execute_result",
          "data": {
            "text/html": [
              "<div>\n",
              "<style scoped>\n",
              "    .dataframe tbody tr th:only-of-type {\n",
              "        vertical-align: middle;\n",
              "    }\n",
              "\n",
              "    .dataframe tbody tr th {\n",
              "        vertical-align: top;\n",
              "    }\n",
              "\n",
              "    .dataframe thead th {\n",
              "        text-align: right;\n",
              "    }\n",
              "</style>\n",
              "<table border=\"1\" class=\"dataframe\">\n",
              "  <thead>\n",
              "    <tr style=\"text-align: right;\">\n",
              "      <th></th>\n",
              "      <th>id</th>\n",
              "      <th>price</th>\n",
              "      <th>bedrooms</th>\n",
              "      <th>bathrooms</th>\n",
              "      <th>sqft_living</th>\n",
              "      <th>sqft_lot</th>\n",
              "      <th>floors</th>\n",
              "      <th>waterfront</th>\n",
              "      <th>view</th>\n",
              "      <th>condition</th>\n",
              "      <th>grade</th>\n",
              "      <th>sqft_above</th>\n",
              "      <th>sqft_basement</th>\n",
              "      <th>yr_built</th>\n",
              "      <th>yr_renovated</th>\n",
              "      <th>zipcode</th>\n",
              "      <th>lat</th>\n",
              "      <th>long</th>\n",
              "      <th>sqft_living15</th>\n",
              "      <th>sqft_lot15</th>\n",
              "    </tr>\n",
              "  </thead>\n",
              "  <tbody>\n",
              "    <tr>\n",
              "      <th>21608</th>\n",
              "      <td>263000018</td>\n",
              "      <td>360000.0</td>\n",
              "      <td>3</td>\n",
              "      <td>2.50</td>\n",
              "      <td>1530</td>\n",
              "      <td>1131</td>\n",
              "      <td>3.0</td>\n",
              "      <td>0</td>\n",
              "      <td>0</td>\n",
              "      <td>3</td>\n",
              "      <td>8</td>\n",
              "      <td>1530</td>\n",
              "      <td>0</td>\n",
              "      <td>2009</td>\n",
              "      <td>0</td>\n",
              "      <td>98103</td>\n",
              "      <td>47.6993</td>\n",
              "      <td>-122.346</td>\n",
              "      <td>1530</td>\n",
              "      <td>1509</td>\n",
              "    </tr>\n",
              "    <tr>\n",
              "      <th>21609</th>\n",
              "      <td>6600060120</td>\n",
              "      <td>400000.0</td>\n",
              "      <td>4</td>\n",
              "      <td>2.50</td>\n",
              "      <td>2310</td>\n",
              "      <td>5813</td>\n",
              "      <td>2.0</td>\n",
              "      <td>0</td>\n",
              "      <td>0</td>\n",
              "      <td>3</td>\n",
              "      <td>8</td>\n",
              "      <td>2310</td>\n",
              "      <td>0</td>\n",
              "      <td>2014</td>\n",
              "      <td>0</td>\n",
              "      <td>98146</td>\n",
              "      <td>47.5107</td>\n",
              "      <td>-122.362</td>\n",
              "      <td>1830</td>\n",
              "      <td>7200</td>\n",
              "    </tr>\n",
              "    <tr>\n",
              "      <th>21610</th>\n",
              "      <td>1523300141</td>\n",
              "      <td>402101.0</td>\n",
              "      <td>2</td>\n",
              "      <td>0.75</td>\n",
              "      <td>1020</td>\n",
              "      <td>1350</td>\n",
              "      <td>2.0</td>\n",
              "      <td>0</td>\n",
              "      <td>0</td>\n",
              "      <td>3</td>\n",
              "      <td>7</td>\n",
              "      <td>1020</td>\n",
              "      <td>0</td>\n",
              "      <td>2009</td>\n",
              "      <td>0</td>\n",
              "      <td>98144</td>\n",
              "      <td>47.5944</td>\n",
              "      <td>-122.299</td>\n",
              "      <td>1020</td>\n",
              "      <td>2007</td>\n",
              "    </tr>\n",
              "    <tr>\n",
              "      <th>21611</th>\n",
              "      <td>291310100</td>\n",
              "      <td>400000.0</td>\n",
              "      <td>3</td>\n",
              "      <td>2.50</td>\n",
              "      <td>1600</td>\n",
              "      <td>2388</td>\n",
              "      <td>2.0</td>\n",
              "      <td>0</td>\n",
              "      <td>0</td>\n",
              "      <td>3</td>\n",
              "      <td>8</td>\n",
              "      <td>1600</td>\n",
              "      <td>0</td>\n",
              "      <td>2004</td>\n",
              "      <td>0</td>\n",
              "      <td>98027</td>\n",
              "      <td>47.5345</td>\n",
              "      <td>-122.069</td>\n",
              "      <td>1410</td>\n",
              "      <td>1287</td>\n",
              "    </tr>\n",
              "    <tr>\n",
              "      <th>21612</th>\n",
              "      <td>1523300157</td>\n",
              "      <td>325000.0</td>\n",
              "      <td>2</td>\n",
              "      <td>0.75</td>\n",
              "      <td>1020</td>\n",
              "      <td>1076</td>\n",
              "      <td>2.0</td>\n",
              "      <td>0</td>\n",
              "      <td>0</td>\n",
              "      <td>3</td>\n",
              "      <td>7</td>\n",
              "      <td>1020</td>\n",
              "      <td>0</td>\n",
              "      <td>2008</td>\n",
              "      <td>0</td>\n",
              "      <td>98144</td>\n",
              "      <td>47.5941</td>\n",
              "      <td>-122.299</td>\n",
              "      <td>1020</td>\n",
              "      <td>1357</td>\n",
              "    </tr>\n",
              "  </tbody>\n",
              "</table>\n",
              "</div>"
            ],
            "text/plain": [
              "               id     price  bedrooms  ...     long  sqft_living15  sqft_lot15\n",
              "21608   263000018  360000.0         3  ... -122.346           1530        1509\n",
              "21609  6600060120  400000.0         4  ... -122.362           1830        7200\n",
              "21610  1523300141  402101.0         2  ... -122.299           1020        2007\n",
              "21611   291310100  400000.0         3  ... -122.069           1410        1287\n",
              "21612  1523300157  325000.0         2  ... -122.299           1020        1357\n",
              "\n",
              "[5 rows x 20 columns]"
            ]
          },
          "metadata": {
            "tags": []
          },
          "execution_count": 137
        }
      ]
    },
    {
      "cell_type": "code",
      "metadata": {
        "id": "n8-dW4sQWzbc",
        "colab": {
          "base_uri": "https://localhost:8080/"
        },
        "outputId": "4db8801f-15c1-412d-8e36-dcaa2cb64ae2"
      },
      "source": [
        "# Checking whether each column has an appropriate datatype\n",
        "#\n",
        "hp_df.dtypes"
      ],
      "execution_count": null,
      "outputs": [
        {
          "output_type": "execute_result",
          "data": {
            "text/plain": [
              "id                 int64\n",
              "price            float64\n",
              "bedrooms           int64\n",
              "bathrooms        float64\n",
              "sqft_living        int64\n",
              "sqft_lot           int64\n",
              "floors           float64\n",
              "waterfront         int64\n",
              "view               int64\n",
              "condition          int64\n",
              "grade              int64\n",
              "sqft_above         int64\n",
              "sqft_basement      int64\n",
              "yr_built           int64\n",
              "yr_renovated       int64\n",
              "zipcode            int64\n",
              "lat              float64\n",
              "long             float64\n",
              "sqft_living15      int64\n",
              "sqft_lot15         int64\n",
              "dtype: object"
            ]
          },
          "metadata": {
            "tags": []
          },
          "execution_count": 138
        }
      ]
    },
    {
      "cell_type": "code",
      "metadata": {
        "colab": {
          "base_uri": "https://localhost:8080/"
        },
        "id": "4QSPDLElEwIk",
        "outputId": "d9b11308-8bcb-4ada-bcff-987b182795af"
      },
      "source": [
        "hp_df.info()"
      ],
      "execution_count": null,
      "outputs": [
        {
          "output_type": "stream",
          "text": [
            "<class 'pandas.core.frame.DataFrame'>\n",
            "RangeIndex: 21613 entries, 0 to 21612\n",
            "Data columns (total 20 columns):\n",
            " #   Column         Non-Null Count  Dtype  \n",
            "---  ------         --------------  -----  \n",
            " 0   id             21613 non-null  int64  \n",
            " 1   price          21613 non-null  float64\n",
            " 2   bedrooms       21613 non-null  int64  \n",
            " 3   bathrooms      21613 non-null  float64\n",
            " 4   sqft_living    21613 non-null  int64  \n",
            " 5   sqft_lot       21613 non-null  int64  \n",
            " 6   floors         21613 non-null  float64\n",
            " 7   waterfront     21613 non-null  int64  \n",
            " 8   view           21613 non-null  int64  \n",
            " 9   condition      21613 non-null  int64  \n",
            " 10  grade          21613 non-null  int64  \n",
            " 11  sqft_above     21613 non-null  int64  \n",
            " 12  sqft_basement  21613 non-null  int64  \n",
            " 13  yr_built       21613 non-null  int64  \n",
            " 14  yr_renovated   21613 non-null  int64  \n",
            " 15  zipcode        21613 non-null  int64  \n",
            " 16  lat            21613 non-null  float64\n",
            " 17  long           21613 non-null  float64\n",
            " 18  sqft_living15  21613 non-null  int64  \n",
            " 19  sqft_lot15     21613 non-null  int64  \n",
            "dtypes: float64(5), int64(15)\n",
            "memory usage: 3.3 MB\n"
          ],
          "name": "stdout"
        }
      ]
    },
    {
      "cell_type": "code",
      "metadata": {
        "colab": {
          "base_uri": "https://localhost:8080/"
        },
        "id": "BRQpSsLMFIx6",
        "outputId": "f0ae149c-f953-43cf-9e35-96a1d79776d7"
      },
      "source": [
        "hp_df.isnull().sum()\n",
        "#we do not have any null values in our data"
      ],
      "execution_count": null,
      "outputs": [
        {
          "output_type": "execute_result",
          "data": {
            "text/plain": [
              "id               0\n",
              "price            0\n",
              "bedrooms         0\n",
              "bathrooms        0\n",
              "sqft_living      0\n",
              "sqft_lot         0\n",
              "floors           0\n",
              "waterfront       0\n",
              "view             0\n",
              "condition        0\n",
              "grade            0\n",
              "sqft_above       0\n",
              "sqft_basement    0\n",
              "yr_built         0\n",
              "yr_renovated     0\n",
              "zipcode          0\n",
              "lat              0\n",
              "long             0\n",
              "sqft_living15    0\n",
              "sqft_lot15       0\n",
              "dtype: int64"
            ]
          },
          "metadata": {
            "tags": []
          },
          "execution_count": 140
        }
      ]
    },
    {
      "cell_type": "code",
      "metadata": {
        "colab": {
          "base_uri": "https://localhost:8080/"
        },
        "id": "vAg8pZPEFQb9",
        "outputId": "01a07559-79c8-4e5c-801a-ab4716eeb888"
      },
      "source": [
        "hp_df.duplicated().sum()\n",
        "#we have 3 duplicated values so we dropped them"
      ],
      "execution_count": null,
      "outputs": [
        {
          "output_type": "execute_result",
          "data": {
            "text/plain": [
              "3"
            ]
          },
          "metadata": {
            "tags": []
          },
          "execution_count": 141
        }
      ]
    },
    {
      "cell_type": "code",
      "metadata": {
        "id": "r8jQeegpFaT8"
      },
      "source": [
        "hp_df =hp_df.drop_duplicates()"
      ],
      "execution_count": null,
      "outputs": []
    },
    {
      "cell_type": "code",
      "metadata": {
        "colab": {
          "base_uri": "https://localhost:8080/"
        },
        "id": "T0UcQO76pCID",
        "outputId": "10f4aabc-33ea-42c2-8759-169c1962c6f3"
      },
      "source": [
        "hp_df.duplicated().sum()"
      ],
      "execution_count": null,
      "outputs": [
        {
          "output_type": "execute_result",
          "data": {
            "text/plain": [
              "0"
            ]
          },
          "metadata": {
            "tags": []
          },
          "execution_count": 143
        }
      ]
    },
    {
      "cell_type": "markdown",
      "metadata": {
        "id": "ckfufNrcUHeH"
      },
      "source": [
        "## 4. External Data Source Validation"
      ]
    },
    {
      "cell_type": "markdown",
      "metadata": {
        "id": "6L4sl_0WXlbg"
      },
      "source": [
        "Making sure your data matches something outside of the dataset is very important. It allows you to ensure that the measurements are roughly in line with what they should be and it serves as a check on what other things might be wrong in your dataset. External validation can often be as simple as checking your data against a single number, as we will do here."
      ]
    },
    {
      "cell_type": "markdown",
      "metadata": {
        "id": "6XC_g-zKxe-r"
      },
      "source": [
        "### a.Validation\n",
        "It is Important for us to specify the feature variable and the target variable.\n",
        "\n",
        "Target varibale is the price\n",
        "\n",
        "feature variable is the bedrooms ,bathrooms,sqft_living, sqft_lot,\n",
        "       floors, waterfront, view, condition, grade, sqft_above,\n",
        "       sqft_basement, yr_built, yr_renovated, zipcode, lat, long,\n",
        "       sqft_living15, sqft_lot15],\n",
        "      dtype='object')"
      ]
    },
    {
      "cell_type": "markdown",
      "metadata": {
        "id": "FlBMxEDBUc9B"
      },
      "source": [
        "## 5. Tidying the Dataset"
      ]
    },
    {
      "cell_type": "code",
      "metadata": {
        "id": "5o_bQcT5W3Wz",
        "colab": {
          "base_uri": "https://localhost:8080/"
        },
        "outputId": "7962ccac-1f10-4e2c-fc50-41ca8f796a5e"
      },
      "source": [
        "# Checking for Outliers\n",
        "#\n",
        "hp_df.columns\n"
      ],
      "execution_count": null,
      "outputs": [
        {
          "output_type": "execute_result",
          "data": {
            "text/plain": [
              "Index(['id', 'price', 'bedrooms', 'bathrooms', 'sqft_living', 'sqft_lot',\n",
              "       'floors', 'waterfront', 'view', 'condition', 'grade', 'sqft_above',\n",
              "       'sqft_basement', 'yr_built', 'yr_renovated', 'zipcode', 'lat', 'long',\n",
              "       'sqft_living15', 'sqft_lot15'],\n",
              "      dtype='object')"
            ]
          },
          "metadata": {
            "tags": []
          },
          "execution_count": 144
        }
      ]
    },
    {
      "cell_type": "code",
      "metadata": {
        "colab": {
          "base_uri": "https://localhost:8080/",
          "height": 476
        },
        "id": "AZdEIWGGjv6M",
        "outputId": "6c6d91b0-467b-4a53-9233-bdb10d98c8e8"
      },
      "source": [
        "#checking the outliers for the fifa data\n",
        "fig,((ax1, ax2), (ax3, ax4)) = plt.subplots(2,2, figsize=(19, 7))\n",
        "fig.suptitle('Boxplots')\n",
        "sb.boxplot(hp_d, ax=ax1)\n",
        "sb.boxplot(hp_df['bedroomsf['price']'], ax=ax2)\n",
        "sb.boxplot(hp_df['sqft_living'], ax=ax3)\n",
        "sb.boxplot(hp_df['sqft_lot'], ax=ax4)\n"
      ],
      "execution_count": null,
      "outputs": [
        {
          "output_type": "execute_result",
          "data": {
            "text/plain": [
              "<matplotlib.axes._subplots.AxesSubplot at 0x7f08fed3bd10>"
            ]
          },
          "metadata": {
            "tags": []
          },
          "execution_count": 145
        },
        {
          "output_type": "display_data",
          "data": {
            "image/png": "[encoded data removed]",
            "text/plain": [
              "<Figure size 1368x504 with 4 Axes>"
            ]
          },
          "metadata": {
            "tags": [],
            "needs_background": "light"
          }
        }
      ]
    },
    {
      "cell_type": "code",
      "metadata": {
        "colab": {
          "base_uri": "https://localhost:8080/",
          "height": 475
        },
        "id": "4RTJGZS5q5vq",
        "outputId": "3347aba2-6121-451f-daf0-e83fbae5c333"
      },
      "source": [
        "fig,((ax1, ax2), (ax3, ax4)) = plt.subplots(2,2, figsize=(19, 7))\n",
        "fig.suptitle('Boxplots')\n",
        "sb.boxplot(hp_df['floors'], ax=ax1)\n",
        "sb.boxplot(hp_df['waterfront'], ax=ax2)\n",
        "sb.boxplot(hp_df['view'], ax=ax3)\n",
        "sb.boxplot(hp_df['condition'], ax=ax4)"
      ],
      "execution_count": null,
      "outputs": [
        {
          "output_type": "execute_result",
          "data": {
            "text/plain": [
              "<matplotlib.axes._subplots.AxesSubplot at 0x7f08feb6e1d0>"
            ]
          },
          "metadata": {
            "tags": []
          },
          "execution_count": 146
        },
        {
          "output_type": "display_data",
          "data": {
            "image/png": "[encoded data removed]",
            "text/plain": [
              "<Figure size 1368x504 with 4 Axes>"
            ]
          },
          "metadata": {
            "tags": [],
            "needs_background": "light"
          }
        }
      ]
    },
    {
      "cell_type": "code",
      "metadata": {
        "id": "HyBYmaGfrPBz"
      },
      "source": [
        ""
      ],
      "execution_count": null,
      "outputs": []
    },
    {
      "cell_type": "code",
      "metadata": {
        "colab": {
          "base_uri": "https://localhost:8080/",
          "height": 473
        },
        "id": "BPkgWmrurKlK",
        "outputId": "e8ceb623-c452-42e5-e252-e06274981c5a"
      },
      "source": [
        "fig,((ax1, ax2), (ax3, ax4)) = plt.subplots(2,2, figsize=(19, 7))\n",
        "fig.suptitle('Boxplots')\n",
        "sb.boxplot(hp_df['grade'], ax=ax1)\n",
        "sb.boxplot(hp_df['sqft_above'], ax=ax2)\n",
        "sb.boxplot(hp_df['sqft_basement'], ax=ax3)\n",
        "sb.boxplot(hp_df['yr_built'], ax=ax4)"
      ],
      "execution_count": null,
      "outputs": [
        {
          "output_type": "execute_result",
          "data": {
            "text/plain": [
              "<matplotlib.axes._subplots.AxesSubplot at 0x7f08fe9915d0>"
            ]
          },
          "metadata": {
            "tags": []
          },
          "execution_count": 147
        },
        {
          "output_type": "display_data",
          "data": {
            "image/png": "[encoded data removed]",
            "text/plain": [
              "<Figure size 1368x504 with 4 Axes>"
            ]
          },
          "metadata": {
            "tags": [],
            "needs_background": "light"
          }
        }
      ]
    },
    {
      "cell_type": "code",
      "metadata": {
        "colab": {
          "base_uri": "https://localhost:8080/",
          "height": 475
        },
        "id": "2nZaPhvkreGj",
        "outputId": "f14c3505-ce44-4ebb-f993-6ec70b467497"
      },
      "source": [
        "fig,((ax1, ax2), (ax3, ax4)) = plt.subplots(2,2, figsize=(19, 7))\n",
        "fig.suptitle('Boxplots')\n",
        "sb.boxplot(hp_df['yr_renovated'], ax=ax1)\n",
        "sb.boxplot(hp_df['zipcode'], ax=ax2)\n",
        "sb.boxplot(hp_df['lat'], ax=ax3)\n",
        "sb.boxplot(hp_df['long'], ax=ax4)"
      ],
      "execution_count": null,
      "outputs": [
        {
          "output_type": "execute_result",
          "data": {
            "text/plain": [
              "<matplotlib.axes._subplots.AxesSubplot at 0x7f08fe825490>"
            ]
          },
          "metadata": {
            "tags": []
          },
          "execution_count": 148
        },
        {
          "output_type": "display_data",
          "data": {
            "image/png": "[encoded data removed]",
            "text/plain": [
              "<Figure size 1368x504 with 4 Axes>"
            ]
          },
          "metadata": {
            "tags": [],
            "needs_background": "light"
          }
        }
      ]
    },
    {
      "cell_type": "code",
      "metadata": {
        "colab": {
          "base_uri": "https://localhost:8080/",
          "height": 475
        },
        "id": "h-cVNXqGrygU",
        "outputId": "12e6e7b5-8f7d-4915-fb02-00d1643ba5e5"
      },
      "source": [
        "fig,((ax1, ax2), (ax3, ax4)) = plt.subplots(2,2, figsize=(19, 7))\n",
        "fig.suptitle('Boxplots')\n",
        "sb.boxplot(hp_df['sqft_living15'], ax=ax1)\n",
        "sb.boxplot(hp_df['sqft_lot15'], ax=ax2)\n",
        "sb.boxplot(hp_df['bathrooms'], ax=ax3)\n",
        "sb.boxplot(hp_df['id'], ax=ax4)"
      ],
      "execution_count": null,
      "outputs": [
        {
          "output_type": "execute_result",
          "data": {
            "text/plain": [
              "<matplotlib.axes._subplots.AxesSubplot at 0x7f09026eaed0>"
            ]
          },
          "metadata": {
            "tags": []
          },
          "execution_count": 149
        },
        {
          "output_type": "display_data",
          "data": {
            "image/png": "[encoded data removed]",
            "text/plain": [
              "<Figure size 1368x504 with 4 Axes>"
            ]
          },
          "metadata": {
            "tags": [],
            "needs_background": "light"
          }
        }
      ]
    },
    {
      "cell_type": "markdown",
      "metadata": {
        "id": "bIGneOs9X1Ty"
      },
      "source": [
        "Conclusion\n",
        "\n",
        "Our data is now clean and with no outliers"
      ]
    },
    {
      "cell_type": "markdown",
      "metadata": {
        "id": "rF2ABPsHUtbZ"
      },
      "source": [
        "## 6. Exploratory Analysis"
      ]
    },
    {
      "cell_type": "markdown",
      "metadata": {
        "id": "GWon8nQfsYBi"
      },
      "source": [
        "# UNIVARIATE ANALYSIS"
      ]
    },
    {
      "cell_type": "markdown",
      "metadata": {
        "id": "lXZxreqTxRp9"
      },
      "source": [
        "### Categorical Variable "
      ]
    },
    {
      "cell_type": "markdown",
      "metadata": {
        "id": "TcSg-zqPxcoB"
      },
      "source": [
        "Frequency Table "
      ]
    },
    {
      "cell_type": "code",
      "metadata": {
        "id": "qR7lbCMy4buF",
        "colab": {
          "base_uri": "https://localhost:8080/"
        },
        "outputId": "51e4cb67-103f-4416-fb0a-5b724fb35c34"
      },
      "source": [
        "hp_df.columns"
      ],
      "execution_count": null,
      "outputs": [
        {
          "output_type": "execute_result",
          "data": {
            "text/plain": [
              "Index(['id', 'price', 'bedrooms', 'bathrooms', 'sqft_living', 'sqft_lot',\n",
              "       'floors', 'waterfront', 'view', 'condition', 'grade', 'sqft_above',\n",
              "       'sqft_basement', 'yr_built', 'yr_renovated', 'zipcode', 'lat', 'long',\n",
              "       'sqft_living15', 'sqft_lot15'],\n",
              "      dtype='object')"
            ]
          },
          "metadata": {
            "tags": []
          },
          "execution_count": 150
        }
      ]
    },
    {
      "cell_type": "code",
      "metadata": {
        "id": "1TwgrqG64YP9",
        "colab": {
          "base_uri": "https://localhost:8080/"
        },
        "outputId": "d94afe29-9a23-4009-c2cf-b0118c972ba5"
      },
      "source": [
        "hp_df.yr_built.value_counts()"
      ],
      "execution_count": null,
      "outputs": [
        {
          "output_type": "execute_result",
          "data": {
            "text/plain": [
              "2014    559\n",
              "2006    454\n",
              "2005    450\n",
              "2004    433\n",
              "2003    422\n",
              "       ... \n",
              "1933     30\n",
              "1901     29\n",
              "1902     27\n",
              "1935     24\n",
              "1934     21\n",
              "Name: yr_built, Length: 116, dtype: int64"
            ]
          },
          "metadata": {
            "tags": []
          },
          "execution_count": 151
        }
      ]
    },
    {
      "cell_type": "code",
      "metadata": {
        "id": "0XM6gTg04Z0x",
        "colab": {
          "base_uri": "https://localhost:8080/"
        },
        "outputId": "ef93ede5-8491-4363-a6de-bbaca9484e69"
      },
      "source": [
        "hp_df.yr_renovated.value_counts()"
      ],
      "execution_count": null,
      "outputs": [
        {
          "output_type": "execute_result",
          "data": {
            "text/plain": [
              "0       20697\n",
              "2014       91\n",
              "2013       37\n",
              "2003       36\n",
              "2000       35\n",
              "        ...  \n",
              "1934        1\n",
              "1959        1\n",
              "1951        1\n",
              "1948        1\n",
              "1944        1\n",
              "Name: yr_renovated, Length: 70, dtype: int64"
            ]
          },
          "metadata": {
            "tags": []
          },
          "execution_count": 152
        }
      ]
    },
    {
      "cell_type": "code",
      "metadata": {
        "id": "NXaqXpBzsXIO",
        "colab": {
          "base_uri": "https://localhost:8080/"
        },
        "outputId": "384757b5-5a10-42b5-f996-93a60f65b0fb"
      },
      "source": [
        "hp_df.view.value_counts()"
      ],
      "execution_count": null,
      "outputs": [
        {
          "output_type": "execute_result",
          "data": {
            "text/plain": [
              "0    19487\n",
              "2      963\n",
              "3      509\n",
              "1      332\n",
              "4      319\n",
              "Name: view, dtype: int64"
            ]
          },
          "metadata": {
            "tags": []
          },
          "execution_count": 153
        }
      ]
    },
    {
      "cell_type": "code",
      "metadata": {
        "id": "j-swSyRUuzgB",
        "colab": {
          "base_uri": "https://localhost:8080/"
        },
        "outputId": "1a240d12-13e7-44b3-de8c-4811bdb03c2f"
      },
      "source": [
        "hp_df.condition.value_counts()"
      ],
      "execution_count": null,
      "outputs": [
        {
          "output_type": "execute_result",
          "data": {
            "text/plain": [
              "3    14029\n",
              "4     5678\n",
              "5     1701\n",
              "2      172\n",
              "1       30\n",
              "Name: condition, dtype: int64"
            ]
          },
          "metadata": {
            "tags": []
          },
          "execution_count": 154
        }
      ]
    },
    {
      "cell_type": "markdown",
      "metadata": {
        "id": "ksk28Xm2xz2q"
      },
      "source": [
        "Bar charts"
      ]
    },
    {
      "cell_type": "code",
      "metadata": {
        "id": "e_h9bxmkx8BW",
        "colab": {
          "base_uri": "https://localhost:8080/",
          "height": 279
        },
        "outputId": "417b981a-ddfd-4de5-c407-9bee71fea0f1"
      },
      "source": [
        "hp_df['condition'].value_counts().plot(kind='bar')\n",
        "fig=plt.figure(figsize=(14,9))\n",
        "plt.show()"
      ],
      "execution_count": null,
      "outputs": [
        {
          "output_type": "display_data",
          "data": {
            "image/png": "[encoded data removed]",
            "text/plain": [
              "<Figure size 432x288 with 1 Axes>"
            ]
          },
          "metadata": {
            "tags": [],
            "needs_background": "light"
          }
        },
        {
          "output_type": "display_data",
          "data": {
            "text/plain": [
              "<Figure size 1008x648 with 0 Axes>"
            ]
          },
          "metadata": {
            "tags": []
          }
        }
      ]
    },
    {
      "cell_type": "code",
      "metadata": {
        "id": "5nnRToniXGDK",
        "colab": {
          "base_uri": "https://localhost:8080/",
          "height": 279
        },
        "outputId": "b49cdbc6-96e5-4ff3-84ef-e6bfe9d1befe"
      },
      "source": [
        "# Ploting the univariate summaries and recording our observations\n",
        "#\n",
        "hp_df['view'].value_counts().plot(kind='bar')\n",
        "fig=plt.figure(figsize=(14,9))\n",
        "plt.show()"
      ],
      "execution_count": null,
      "outputs": [
        {
          "output_type": "display_data",
          "data": {
            "image/png": "[encoded data removed]",
            "text/plain": [
              "<Figure size 432x288 with 1 Axes>"
            ]
          },
          "metadata": {
            "tags": [],
            "needs_background": "light"
          }
        },
        {
          "output_type": "display_data",
          "data": {
            "text/plain": [
              "<Figure size 1008x648 with 0 Axes>"
            ]
          },
          "metadata": {
            "tags": []
          }
        }
      ]
    },
    {
      "cell_type": "markdown",
      "metadata": {
        "id": "y-vIMHAczDDk"
      },
      "source": [
        "### Numerical Variables"
      ]
    },
    {
      "cell_type": "markdown",
      "metadata": {
        "id": "_3XIDqNCzPc9"
      },
      "source": [
        "### Measure of Central Tendency(mean mode and median)"
      ]
    },
    {
      "cell_type": "markdown",
      "metadata": {
        "id": "htCFizse0lRU"
      },
      "source": [
        ""
      ]
    },
    {
      "cell_type": "code",
      "metadata": {
        "id": "5mkN6lee0lx7",
        "colab": {
          "base_uri": "https://localhost:8080/"
        },
        "outputId": "354cb8fe-db0c-4e5a-f05c-35d70dc1cd8a"
      },
      "source": [
        "hp_df.columns"
      ],
      "execution_count": null,
      "outputs": [
        {
          "output_type": "execute_result",
          "data": {
            "text/plain": [
              "Index(['id', 'price', 'bedrooms', 'bathrooms', 'sqft_living', 'sqft_lot',\n",
              "       'floors', 'waterfront', 'view', 'condition', 'grade', 'sqft_above',\n",
              "       'sqft_basement', 'yr_built', 'yr_renovated', 'zipcode', 'lat', 'long',\n",
              "       'sqft_living15', 'sqft_lot15'],\n",
              "      dtype='object')"
            ]
          },
          "metadata": {
            "tags": []
          },
          "execution_count": 157
        }
      ]
    },
    {
      "cell_type": "code",
      "metadata": {
        "id": "_9Nept5-zMvP",
        "colab": {
          "base_uri": "https://localhost:8080/"
        },
        "outputId": "e818e4e1-c5bc-4c7c-f67b-cf45b77d5351"
      },
      "source": [
        "#getting the measure of central tendency and Standard deviation together with variance of price\n",
        "mean = hp_df[\"price\"].mean()\n",
        "median = hp_df[\"price\"].median()\n",
        "mode = hp_df[\"price\"].mode()\n",
        "std = hp_df[\"price\"].std()\n",
        "var = hp_df[\"price\"].var()\n",
        "max = hp_df[\"price\"].max()\n",
        "min = hp_df[\"price\"].min()\n",
        "range = max - min\n",
        "quantile = hp_df[\"price\"].quantile([0.25,0.5,0.75])\n",
        "print('The mean of price is',mean)\n",
        "print('The median of priceis',median)\n",
        "print('The mode of price is',mode)\n",
        "print('The standard deviation of price is',std)\n",
        "print('The variance of priceis',var)\n",
        "print('The Range of price is',range)\n",
        "print('The quantile of price is',quantile)"
      ],
      "execution_count": null,
      "outputs": [
        {
          "output_type": "stream",
          "text": [
            "The mean of price is 540178.9448403517\n",
            "The median of priceis 450000.0\n",
            "The mode of price is 0    350000.0\n",
            "1    450000.0\n",
            "dtype: float64\n",
            "The standard deviation of price is 367387.58505388984\n",
            "The variance of priceis 134973637651.72916\n",
            "The Range of price is 7625000.0\n",
            "The quantile of price is 0.25    321612.5\n",
            "0.50    450000.0\n",
            "0.75    645000.0\n",
            "Name: price, dtype: float64\n"
          ],
          "name": "stdout"
        }
      ]
    },
    {
      "cell_type": "markdown",
      "metadata": {
        "id": "NUQQCKZne53o"
      },
      "source": [
        "  The  mean value of price was 540178, this is the average value spent on construction"
      ]
    },
    {
      "cell_type": "code",
      "metadata": {
        "id": "YzDOxnpu0Wil",
        "colab": {
          "base_uri": "https://localhost:8080/"
        },
        "outputId": "9b6837a3-05e7-4298-f729-f001a1ba837f"
      },
      "source": [
        "#getting the measure of central tendency and Standard deviation together with variance of bedrooms\n",
        "mean = hp_df[\"bedrooms\"].mean()\n",
        "median = hp_df[\"bedrooms\"].median()\n",
        "mode = hp_df[\"bedrooms\"].mode()\n",
        "std = hp_df[\"bedrooms\"].std()\n",
        "var = hp_df[\"bedrooms\"].var()\n",
        "max = hp_df[\"bedrooms\"].max()\n",
        "min = hp_df[\"bedrooms\"].min()\n",
        "range = max - min\n",
        "quantile = hp_df[\"bedrooms\"].quantile([0.25,0.5,0.75])\n",
        "print('The mean is',mean)\n",
        "print('The median is',median)\n",
        "print('The mode is',mode)\n",
        "print('The standard deviation is',std)\n",
        "print('The variance is',var)\n",
        "print('The Range is',range)\n",
        "print('The quantile is',quantile)"
      ],
      "execution_count": null,
      "outputs": [
        {
          "output_type": "stream",
          "text": [
            "The mean is 3.370846830171217\n",
            "The median is 3.0\n",
            "The mode is 0    3\n",
            "dtype: int64\n",
            "The standard deviation is 0.9301096999846462\n",
            "The variance is 0.8651040540055286\n",
            "The Range is 33\n",
            "The quantile is 0.25    3.0\n",
            "0.50    3.0\n",
            "0.75    4.0\n",
            "Name: bedrooms, dtype: float64\n"
          ],
          "name": "stdout"
        }
      ]
    },
    {
      "cell_type": "code",
      "metadata": {
        "id": "Ya29FGXO0XVa",
        "colab": {
          "base_uri": "https://localhost:8080/"
        },
        "outputId": "f0b98dea-42d7-43f0-fb59-73825da89794"
      },
      "source": [
        "#getting the measure of central tendency and Standard deviation together with variance of bathroom\n",
        "mean = hp_df[\"bathrooms\"].mean()\n",
        "median = hp_df[\"bathrooms\"].median()\n",
        "mode = hp_df[\"bathrooms\"].mode()\n",
        "std = hp_df[\"bathrooms\"].std()\n",
        "var = hp_df[\"bathrooms\"].var()\n",
        "max = hp_df[\"bathrooms\"].max()\n",
        "min = hp_df[\"bathrooms\"].min()\n",
        "range = max - min\n",
        "quantile = hp_df[\"bathrooms\"].quantile([0.25,0.5,0.75])\n",
        "print('The mean is',mean)\n",
        "print('The median is',median)\n",
        "print('The mode is',mode)\n",
        "print('The standard deviation is',std)\n",
        "print('The variance is',var)\n",
        "print('The Range is',range)\n",
        "print('The quantile is',quantile)"
      ],
      "execution_count": null,
      "outputs": [
        {
          "output_type": "stream",
          "text": [
            "The mean is 2.114738546968996\n",
            "The median is 2.25\n",
            "The mode is 0    2.5\n",
            "dtype: float64\n",
            "The standard deviation is 0.770203702285374\n",
            "The variance is 0.593213743014097\n",
            "The Range is 8.0\n",
            "The quantile is 0.25    1.75\n",
            "0.50    2.25\n",
            "0.75    2.50\n",
            "Name: bathrooms, dtype: float64\n"
          ],
          "name": "stdout"
        }
      ]
    },
    {
      "cell_type": "code",
      "metadata": {
        "id": "NiZhzBmw0ZYe",
        "colab": {
          "base_uri": "https://localhost:8080/"
        },
        "outputId": "14c57cc9-723e-4b45-f4db-e1a137aa7975"
      },
      "source": [
        "\n",
        "mean = hp_df[\"sqft_living\"].mean()\n",
        "median = hp_df[\"sqft_living\"].median()\n",
        "mode = hp_df[\"sqft_living\"].mode()\n",
        "std = hp_df[\"sqft_living\"].std()\n",
        "var = hp_df[\"sqft_living\"].var()\n",
        "max = hp_df[\"sqft_living\"].max()\n",
        "min = hp_df[\"sqft_living\"].min()\n",
        "range = max - min\n",
        "quantile = hp_df[\"sqft_living\"].quantile([0.25,0.5,0.75])\n",
        "print('The mean is',mean)\n",
        "print('The median is',median)\n",
        "print('The mode is',mode)\n",
        "print('The standard deviation is',std)\n",
        "print('The variance is',var)\n",
        "print('The Range is',range)\n",
        "print('The quantile is',quantile)"
      ],
      "execution_count": null,
      "outputs": [
        {
          "output_type": "stream",
          "text": [
            "The mean is 2079.881212401666\n",
            "The median is 1910.0\n",
            "The mode is 0    1300\n",
            "dtype: int64\n",
            "The standard deviation is 918.5002986169898\n",
            "The variance is 843642.7985594993\n",
            "The Range is 13250\n",
            "The quantile is 0.25    1425.5\n",
            "0.50    1910.0\n",
            "0.75    2550.0\n",
            "Name: sqft_living, dtype: float64\n"
          ],
          "name": "stdout"
        }
      ]
    },
    {
      "cell_type": "code",
      "metadata": {
        "id": "mrh9r9350bcU",
        "colab": {
          "base_uri": "https://localhost:8080/"
        },
        "outputId": "211dc616-dfea-4db8-b84f-7fd2b6429046"
      },
      "source": [
        "mean = hp_df[\"sqft_lot\"].mean()\n",
        "median = hp_df[\"sqft_lot\"].median()\n",
        "mode = hp_df[\"sqft_lot\"].mode()\n",
        "std = hp_df[\"sqft_lot\"].std()\n",
        "var = hp_df[\"sqft_lot\"].var()\n",
        "max = hp_df[\"sqft_lot\"].max()\n",
        "min = hp_df[\"sqft_lot\"].min()\n",
        "range = max - min\n",
        "quantile = hp_df[\"sqft_lot\"].quantile([0.25,0.5,0.75])\n",
        "print('The mean is',mean)\n",
        "print('The median is',median)\n",
        "print('The mode is',mode)\n",
        "print('The standard deviation is',std)\n",
        "print('The variance is',var)\n",
        "print('The Range is',range)\n",
        "print('The quantile is',quantile)"
      ],
      "execution_count": null,
      "outputs": [
        {
          "output_type": "stream",
          "text": [
            "The mean is 15108.289819527996\n",
            "The median is 7619.0\n",
            "The mode is 0    5000\n",
            "dtype: int64\n",
            "The standard deviation is 41423.2267370033\n",
            "The variance is 1715883713.305185\n",
            "The Range is 1650839\n",
            "The quantile is 0.25     5040.00\n",
            "0.50     7619.00\n",
            "0.75    10688.75\n",
            "Name: sqft_lot, dtype: float64\n"
          ],
          "name": "stdout"
        }
      ]
    },
    {
      "cell_type": "code",
      "metadata": {
        "id": "_cJPXnwA0cDM",
        "colab": {
          "base_uri": "https://localhost:8080/"
        },
        "outputId": "8dfccaed-a5c0-420d-de8c-d7dfb84cde5e"
      },
      "source": [
        "mean = hp_df[\"waterfront\"].mean()\n",
        "median = hp_df[\"waterfront\"].median()\n",
        "mode = hp_df[\"waterfront\"].mode()\n",
        "std = hp_df[\"waterfront\"].std()\n",
        "var = hp_df[\"waterfront\"].var()\n",
        "max = hp_df[\"waterfront\"].max()\n",
        "min = hp_df[\"waterfront\"].min()\n",
        "range = max - min\n",
        "quantile = hp_df[\"waterfront\"].quantile([0.25,0.5,0.75])\n",
        "print('The mean is',mean)\n",
        "print('The median is',median)\n",
        "print('The mode is',mode)\n",
        "print('The standard deviation is',std)\n",
        "print('The variance is',var)\n",
        "print('The Range is',range)\n",
        "print('The quantile is',quantile)"
      ],
      "execution_count": null,
      "outputs": [
        {
          "output_type": "stream",
          "text": [
            "The mean is 0.007542804257288292\n",
            "The median is 0.0\n",
            "The mode is 0    0\n",
            "dtype: int64\n",
            "The standard deviation is 0.08652315751754107\n",
            "The variance is 0.007486256786805223\n",
            "The Range is 1\n",
            "The quantile is 0.25    0.0\n",
            "0.50    0.0\n",
            "0.75    0.0\n",
            "Name: waterfront, dtype: float64\n"
          ],
          "name": "stdout"
        }
      ]
    },
    {
      "cell_type": "code",
      "metadata": {
        "id": "ccDOxhLm0crd",
        "colab": {
          "base_uri": "https://localhost:8080/"
        },
        "outputId": "bb9b69c0-7a9e-4322-d2bb-df781ba4d7f4"
      },
      "source": [
        "ean = hp_df[\"floors\"].mean()\n",
        "median = hp_df[\"floors\"].median()\n",
        "mode = hp_df[\"floors\"].mode()\n",
        "std = hp_df[\"floors\"].std()\n",
        "var = hp_df[\"floors\"].var()\n",
        "max = hp_df[\"floors\"].max()\n",
        "min = hp_df[\"floors\"].min()\n",
        "range = max - min\n",
        "quantile = hp_df[\"floors\"].quantile([0.25,0.5,0.75])\n",
        "print('The mean is',mean)\n",
        "print('The median is',median)\n",
        "print('The mode is',mode)\n",
        "print('The standard deviation is',std)\n",
        "print('The variance is',var)\n",
        "print('The Range is',range)\n",
        "print('The quantile is',quantile)"
      ],
      "execution_count": null,
      "outputs": [
        {
          "output_type": "stream",
          "text": [
            "The mean is 0.007542804257288292\n",
            "The median is 1.5\n",
            "The mode is 0    1.0\n",
            "dtype: float64\n",
            "The standard deviation is 0.5399935009500416\n",
            "The variance is 0.2915929810682826\n",
            "The Range is 2.5\n",
            "The quantile is 0.25    1.0\n",
            "0.50    1.5\n",
            "0.75    2.0\n",
            "Name: floors, dtype: float64\n"
          ],
          "name": "stdout"
        }
      ]
    },
    {
      "cell_type": "code",
      "metadata": {
        "id": "CCnnqqfH0dP9",
        "colab": {
          "base_uri": "https://localhost:8080/"
        },
        "outputId": "a6bf4f80-5a87-404e-dd50-b7270c07ad46"
      },
      "source": [
        "ean = hp_df[\"sqft_above\"].mean()\n",
        "median = hp_df[\"sqft_above\"].median()\n",
        "mode = hp_df[\"sqft_above\"].mode()\n",
        "std = hp_df[\"sqft_above\"].std()\n",
        "var = hp_df[\"sqft_above\"].var()\n",
        "max = hp_df[\"sqft_above\"].max()\n",
        "min = hp_df[\"sqft_above\"].min()\n",
        "range = max - min\n",
        "quantile = hp_df[\"sqft_above\"].quantile([0.25,0.5,0.75])\n",
        "print('The mean is',mean)\n",
        "print('The median is',median)\n",
        "print('The mode is',mode)\n",
        "print('The standard deviation is',std)\n",
        "print('The variance is',var)\n",
        "print('The Range is',range)\n",
        "print('The quantile is',quantile)"
      ],
      "execution_count": null,
      "outputs": [
        {
          "output_type": "stream",
          "text": [
            "The mean is 0.007542804257288292\n",
            "The median is 1560.0\n",
            "The mode is 0    1300\n",
            "dtype: int64\n",
            "The standard deviation is 828.1387234173122\n",
            "The variance is 685813.7452232556\n",
            "The Range is 9120\n",
            "The quantile is 0.25    1190.0\n",
            "0.50    1560.0\n",
            "0.75    2210.0\n",
            "Name: sqft_above, dtype: float64\n"
          ],
          "name": "stdout"
        }
      ]
    },
    {
      "cell_type": "code",
      "metadata": {
        "id": "ltrUtU2q0dss",
        "colab": {
          "base_uri": "https://localhost:8080/"
        },
        "outputId": "e7139c3f-6a5a-4c25-805e-c7e39105783f"
      },
      "source": [
        "mean = hp_df[\"sqft_living15\"].mean()\n",
        "median = hp_df[\"sqft_living15\"].median()\n",
        "mode = hp_df[\"sqft_living15\"].mode()\n",
        "std = hp_df[\"sqft_living15\"].std()\n",
        "var = hp_df[\"sqft_living15\"].var()\n",
        "max = hp_df[\"sqft_living15\"].max()\n",
        "min = hp_df[\"sqft_living15\"].min()\n",
        "range = max - min\n",
        "quantile = hp_df[\"sqft_living15\"].quantile([0.25,0.5,0.75])\n",
        "print('The mean is',mean)\n",
        "print('The median is',median)\n",
        "print('The mode is',mode)\n",
        "print('The standard deviation is',std)\n",
        "print('The variance is',var)\n",
        "print('The Range is',range)\n",
        "print('The quantile is',quantile)"
      ],
      "execution_count": null,
      "outputs": [
        {
          "output_type": "stream",
          "text": [
            "The mean is 1986.5186950485886\n",
            "The median is 1840.0\n",
            "The mode is 0    1540\n",
            "dtype: int64\n",
            "The standard deviation is 685.4257806364748\n",
            "The variance is 469808.5007611208\n",
            "The Range is 5811\n",
            "The quantile is 0.25    1490.0\n",
            "0.50    1840.0\n",
            "0.75    2360.0\n",
            "Name: sqft_living15, dtype: float64\n"
          ],
          "name": "stdout"
        }
      ]
    },
    {
      "cell_type": "code",
      "metadata": {
        "id": "M_HOYRFc0ea2",
        "colab": {
          "base_uri": "https://localhost:8080/"
        },
        "outputId": "83342320-4391-406f-d3c7-5ddbb775aa89"
      },
      "source": [
        "mean = hp_df[\"sqft_basement\"].mean()\n",
        "median = hp_df[\"sqft_basement\"].median()\n",
        "mode = hp_df[\"sqft_basement\"].mode()\n",
        "std = hp_df[\"sqft_basement\"].std()\n",
        "var = hp_df[\"sqft_basement\"].var()\n",
        "max = hp_df[\"sqft_basement\"].max()\n",
        "min = hp_df[\"sqft_basement\"].min()\n",
        "range = max - min\n",
        "quantile = hp_df[\"sqft_basement\"].quantile([0.25,0.5,0.75])\n",
        "print('The mean is',mean)\n",
        "print('The median is',median)\n",
        "print('The mode is',mode)\n",
        "print('The standard deviation is',std)\n",
        "print('The variance is',var)\n",
        "print('The Range is',range)\n",
        "print('The quantile is',quantile)"
      ],
      "execution_count": null,
      "outputs": [
        {
          "output_type": "stream",
          "text": [
            "The mean is 291.53331790837575\n",
            "The median is 0.0\n",
            "The mode is 0    0\n",
            "dtype: int64\n",
            "The standard deviation is 442.5966986816738\n",
            "The variance is 195891.83768391635\n",
            "The Range is 4820\n",
            "The quantile is 0.25      0.0\n",
            "0.50      0.0\n",
            "0.75    560.0\n",
            "Name: sqft_basement, dtype: float64\n"
          ],
          "name": "stdout"
        }
      ]
    },
    {
      "cell_type": "code",
      "metadata": {
        "id": "7tS9Lpw20e6-",
        "colab": {
          "base_uri": "https://localhost:8080/"
        },
        "outputId": "bfdc2f13-af65-44ce-c98d-b97154ae8b08"
      },
      "source": [
        "mean = hp_df[\"sqft_lot15\"].mean()\n",
        "median = hp_df[\"sqft_lot15\"].median()\n",
        "mode = hp_df[\"sqft_lot15\"].mode()\n",
        "std = hp_df[\"sqft_lot15\"].std()\n",
        "var = hp_df[\"sqft_lot15\"].var()\n",
        "max = hp_df[\"sqft_lot15\"].max()\n",
        "min = hp_df[\"sqft_lot15\"].min()\n",
        "range = max - min\n",
        "quantile = hp_df[\"sqft_lot15\"].quantile([0.25,0.5,0.75])\n",
        "print('The mean is',mean)\n",
        "print('The median is',median)\n",
        "print('The mode is',mode)\n",
        "print('The standard deviation is',std)\n",
        "print('The variance is',var)\n",
        "print('The Range is',range)\n",
        "print('The quantile is',quantile)"
      ],
      "execution_count": null,
      "outputs": [
        {
          "output_type": "stream",
          "text": [
            "The mean is 12769.031975937067\n",
            "The median is 7620.0\n",
            "The mode is 0    5000\n",
            "dtype: int64\n",
            "The standard deviation is 27305.972463593964\n",
            "The variance is 745616132.1825517\n",
            "The Range is 870549\n",
            "The quantile is 0.25     5100.0\n",
            "0.50     7620.0\n",
            "0.75    10083.0\n",
            "Name: sqft_lot15, dtype: float64\n"
          ],
          "name": "stdout"
        }
      ]
    },
    {
      "cell_type": "code",
      "metadata": {
        "id": "7jbt4m593ugl",
        "colab": {
          "base_uri": "https://localhost:8080/"
        },
        "outputId": "d3b9f38b-3bc0-45c7-f0c0-0d606fdb8527"
      },
      "source": [
        "mean = hp_df[\"grade\"].mean()\n",
        "median = hp_df[\"grade\"].median()\n",
        "mode = hp_df[\"grade\"].mode()\n",
        "std = hp_df[\"grade\"].std()\n",
        "var = hp_df[\"grade\"].var()\n",
        "max = hp_df[\"grade\"].max()\n",
        "min = hp_df[\"grade\"].min()\n",
        "range = max - min\n",
        "quantile = hp_df[\"grade\"].quantile([0.25,0.5,0.75])\n",
        "print('The mean is',mean)\n",
        "print('The median is',median)\n",
        "print('The mode is',mode)\n",
        "print('The standard deviation is',std)\n",
        "print('The variance is',var)\n",
        "print('The Range is',range)\n",
        "print('The quantile is',quantile)"
      ],
      "execution_count": null,
      "outputs": [
        {
          "output_type": "stream",
          "text": [
            "The mean is 7.656779268857011\n",
            "The median is 7.0\n",
            "The mode is 0    7\n",
            "dtype: int64\n",
            "The standard deviation is 1.1755002014627765\n",
            "The variance is 1.3818007236390282\n",
            "The Range is 12\n",
            "The quantile is 0.25    7.0\n",
            "0.50    7.0\n",
            "0.75    8.0\n",
            "Name: grade, dtype: float64\n"
          ],
          "name": "stdout"
        }
      ]
    },
    {
      "cell_type": "markdown",
      "metadata": {
        "id": "FYsXPDJ6f77R"
      },
      "source": [
        "OBSERVATIONS\n",
        "Mean price for construction of a house is 540178\n",
        "\n",
        "Mean of the bathroom 2.11 which means that the houses have an average of 2 bathroom\n",
        "\n",
        "Mean of the bedroom 3.31 ,which shows that most house s have 3 bedroom\n",
        "\n",
        "Mean of the basement was  291 and the median and mose were 0 which show that most houses did not have a basement\n",
        "\n"
      ]
    },
    {
      "cell_type": "markdown",
      "metadata": {
        "id": "FHHgDpAx7g2H"
      },
      "source": [
        "# BIVARIATE ANALYSIS"
      ]
    },
    {
      "cell_type": "code",
      "metadata": {
        "colab": {
          "base_uri": "https://localhost:8080/",
          "height": 567
        },
        "id": "QYSPYvqq7jqT",
        "outputId": "3018ba86-a438-42c4-ec44-594636813d56"
      },
      "source": [
        "#finding correlation between variables in our dataset\n",
        "corr = hp_df.corr()\n",
        "plt.figure(figsize=(10,8))\n",
        "sb.heatmap(corr,xticklabels=corr.columns,yticklabels=corr.columns,linewidth=1.0,annot=False)\n",
        "plt.title('Correlation for the numerical variables',fontsize=18)\n",
        "plt.show()"
      ],
      "execution_count": null,
      "outputs": [
        {
          "output_type": "display_data",
          "data": {
            "image/png": "[encoded data removed]",
            "text/plain": [
              "<Figure size 720x576 with 2 Axes>"
            ]
          },
          "metadata": {
            "tags": [],
            "needs_background": "light"
          }
        }
      ]
    },
    {
      "cell_type": "code",
      "metadata": {
        "colab": {
          "base_uri": "https://localhost:8080/",
          "height": 679
        },
        "id": "iaFWHaDk74wj",
        "outputId": "a18da1d1-d920-4af5-b053-151124f8c544"
      },
      "source": [
        "hp_df.corr()"
      ],
      "execution_count": null,
      "outputs": [
        {
          "output_type": "execute_result",
          "data": {
            "text/html": [
              "<div>\n",
              "<style scoped>\n",
              "    .dataframe tbody tr th:only-of-type {\n",
              "        vertical-align: middle;\n",
              "    }\n",
              "\n",
              "    .dataframe tbody tr th {\n",
              "        vertical-align: top;\n",
              "    }\n",
              "\n",
              "    .dataframe thead th {\n",
              "        text-align: right;\n",
              "    }\n",
              "</style>\n",
              "<table border=\"1\" class=\"dataframe\">\n",
              "  <thead>\n",
              "    <tr style=\"text-align: right;\">\n",
              "      <th></th>\n",
              "      <th>id</th>\n",
              "      <th>price</th>\n",
              "      <th>bedrooms</th>\n",
              "      <th>bathrooms</th>\n",
              "      <th>sqft_living</th>\n",
              "      <th>sqft_lot</th>\n",
              "      <th>floors</th>\n",
              "      <th>waterfront</th>\n",
              "      <th>view</th>\n",
              "      <th>condition</th>\n",
              "      <th>grade</th>\n",
              "      <th>sqft_above</th>\n",
              "      <th>sqft_basement</th>\n",
              "      <th>yr_built</th>\n",
              "      <th>yr_renovated</th>\n",
              "      <th>zipcode</th>\n",
              "      <th>lat</th>\n",
              "      <th>long</th>\n",
              "      <th>sqft_living15</th>\n",
              "      <th>sqft_lot15</th>\n",
              "    </tr>\n",
              "  </thead>\n",
              "  <tbody>\n",
              "    <tr>\n",
              "      <th>id</th>\n",
              "      <td>1.000000</td>\n",
              "      <td>-0.016803</td>\n",
              "      <td>0.001354</td>\n",
              "      <td>0.005093</td>\n",
              "      <td>-0.012239</td>\n",
              "      <td>-0.132101</td>\n",
              "      <td>0.018482</td>\n",
              "      <td>-0.002717</td>\n",
              "      <td>0.011785</td>\n",
              "      <td>-0.023686</td>\n",
              "      <td>0.008093</td>\n",
              "      <td>-0.010857</td>\n",
              "      <td>-0.005084</td>\n",
              "      <td>0.021218</td>\n",
              "      <td>-0.016688</td>\n",
              "      <td>-0.008129</td>\n",
              "      <td>-0.001861</td>\n",
              "      <td>0.020776</td>\n",
              "      <td>-0.002869</td>\n",
              "      <td>-0.138778</td>\n",
              "    </tr>\n",
              "    <tr>\n",
              "      <th>price</th>\n",
              "      <td>-0.016803</td>\n",
              "      <td>1.000000</td>\n",
              "      <td>0.308346</td>\n",
              "      <td>0.525140</td>\n",
              "      <td>0.702046</td>\n",
              "      <td>0.089658</td>\n",
              "      <td>0.256793</td>\n",
              "      <td>0.266332</td>\n",
              "      <td>0.397466</td>\n",
              "      <td>0.036397</td>\n",
              "      <td>0.667478</td>\n",
              "      <td>0.605569</td>\n",
              "      <td>0.323849</td>\n",
              "      <td>0.053980</td>\n",
              "      <td>0.126503</td>\n",
              "      <td>-0.053162</td>\n",
              "      <td>0.306922</td>\n",
              "      <td>0.021567</td>\n",
              "      <td>0.585382</td>\n",
              "      <td>0.082457</td>\n",
              "    </tr>\n",
              "    <tr>\n",
              "      <th>bedrooms</th>\n",
              "      <td>0.001354</td>\n",
              "      <td>0.308346</td>\n",
              "      <td>1.000000</td>\n",
              "      <td>0.515935</td>\n",
              "      <td>0.576674</td>\n",
              "      <td>0.031699</td>\n",
              "      <td>0.175448</td>\n",
              "      <td>-0.006583</td>\n",
              "      <td>0.079433</td>\n",
              "      <td>0.028422</td>\n",
              "      <td>0.357003</td>\n",
              "      <td>0.477619</td>\n",
              "      <td>0.303077</td>\n",
              "      <td>0.154276</td>\n",
              "      <td>0.018695</td>\n",
              "      <td>-0.152721</td>\n",
              "      <td>-0.008953</td>\n",
              "      <td>0.129474</td>\n",
              "      <td>0.391633</td>\n",
              "      <td>0.029233</td>\n",
              "    </tr>\n",
              "    <tr>\n",
              "      <th>bathrooms</th>\n",
              "      <td>0.005093</td>\n",
              "      <td>0.525140</td>\n",
              "      <td>0.515935</td>\n",
              "      <td>1.000000</td>\n",
              "      <td>0.754688</td>\n",
              "      <td>0.087750</td>\n",
              "      <td>0.500669</td>\n",
              "      <td>0.063747</td>\n",
              "      <td>0.187891</td>\n",
              "      <td>-0.124940</td>\n",
              "      <td>0.664990</td>\n",
              "      <td>0.685351</td>\n",
              "      <td>0.283814</td>\n",
              "      <td>0.505997</td>\n",
              "      <td>0.050879</td>\n",
              "      <td>-0.203831</td>\n",
              "      <td>0.024590</td>\n",
              "      <td>0.223047</td>\n",
              "      <td>0.568665</td>\n",
              "      <td>0.087191</td>\n",
              "    </tr>\n",
              "    <tr>\n",
              "      <th>sqft_living</th>\n",
              "      <td>-0.012239</td>\n",
              "      <td>0.702046</td>\n",
              "      <td>0.576674</td>\n",
              "      <td>0.754688</td>\n",
              "      <td>1.000000</td>\n",
              "      <td>0.172830</td>\n",
              "      <td>0.353954</td>\n",
              "      <td>0.103820</td>\n",
              "      <td>0.284641</td>\n",
              "      <td>-0.058768</td>\n",
              "      <td>0.762719</td>\n",
              "      <td>0.876600</td>\n",
              "      <td>0.435054</td>\n",
              "      <td>0.318099</td>\n",
              "      <td>0.055314</td>\n",
              "      <td>-0.199435</td>\n",
              "      <td>0.052521</td>\n",
              "      <td>0.240221</td>\n",
              "      <td>0.756420</td>\n",
              "      <td>0.183285</td>\n",
              "    </tr>\n",
              "    <tr>\n",
              "      <th>sqft_lot</th>\n",
              "      <td>-0.132101</td>\n",
              "      <td>0.089658</td>\n",
              "      <td>0.031699</td>\n",
              "      <td>0.087750</td>\n",
              "      <td>0.172830</td>\n",
              "      <td>1.000000</td>\n",
              "      <td>-0.005171</td>\n",
              "      <td>0.021601</td>\n",
              "      <td>0.074753</td>\n",
              "      <td>-0.008967</td>\n",
              "      <td>0.113644</td>\n",
              "      <td>0.183527</td>\n",
              "      <td>0.015271</td>\n",
              "      <td>0.053105</td>\n",
              "      <td>0.007677</td>\n",
              "      <td>-0.129611</td>\n",
              "      <td>-0.085680</td>\n",
              "      <td>0.229552</td>\n",
              "      <td>0.144620</td>\n",
              "      <td>0.718556</td>\n",
              "    </tr>\n",
              "    <tr>\n",
              "      <th>floors</th>\n",
              "      <td>0.018482</td>\n",
              "      <td>0.256793</td>\n",
              "      <td>0.175448</td>\n",
              "      <td>0.500669</td>\n",
              "      <td>0.353954</td>\n",
              "      <td>-0.005171</td>\n",
              "      <td>1.000000</td>\n",
              "      <td>0.023711</td>\n",
              "      <td>0.029325</td>\n",
              "      <td>-0.263779</td>\n",
              "      <td>0.458151</td>\n",
              "      <td>0.523874</td>\n",
              "      <td>-0.245673</td>\n",
              "      <td>0.489347</td>\n",
              "      <td>0.006156</td>\n",
              "      <td>-0.059025</td>\n",
              "      <td>0.049593</td>\n",
              "      <td>0.125343</td>\n",
              "      <td>0.279861</td>\n",
              "      <td>-0.011250</td>\n",
              "    </tr>\n",
              "    <tr>\n",
              "      <th>waterfront</th>\n",
              "      <td>-0.002717</td>\n",
              "      <td>0.266332</td>\n",
              "      <td>-0.006583</td>\n",
              "      <td>0.063747</td>\n",
              "      <td>0.103820</td>\n",
              "      <td>0.021601</td>\n",
              "      <td>0.023711</td>\n",
              "      <td>1.000000</td>\n",
              "      <td>0.401993</td>\n",
              "      <td>0.016652</td>\n",
              "      <td>0.082785</td>\n",
              "      <td>0.072080</td>\n",
              "      <td>0.080585</td>\n",
              "      <td>-0.026159</td>\n",
              "      <td>0.092950</td>\n",
              "      <td>0.030277</td>\n",
              "      <td>-0.014272</td>\n",
              "      <td>-0.041904</td>\n",
              "      <td>0.086469</td>\n",
              "      <td>0.030702</td>\n",
              "    </tr>\n",
              "    <tr>\n",
              "      <th>view</th>\n",
              "      <td>0.011785</td>\n",
              "      <td>0.397466</td>\n",
              "      <td>0.079433</td>\n",
              "      <td>0.187891</td>\n",
              "      <td>0.284641</td>\n",
              "      <td>0.074753</td>\n",
              "      <td>0.029325</td>\n",
              "      <td>0.401993</td>\n",
              "      <td>1.000000</td>\n",
              "      <td>0.045836</td>\n",
              "      <td>0.251378</td>\n",
              "      <td>0.167659</td>\n",
              "      <td>0.276996</td>\n",
              "      <td>-0.053229</td>\n",
              "      <td>0.103208</td>\n",
              "      <td>0.084838</td>\n",
              "      <td>0.006049</td>\n",
              "      <td>-0.078560</td>\n",
              "      <td>0.280404</td>\n",
              "      <td>0.072577</td>\n",
              "    </tr>\n",
              "    <tr>\n",
              "      <th>condition</th>\n",
              "      <td>-0.023686</td>\n",
              "      <td>0.036397</td>\n",
              "      <td>0.028422</td>\n",
              "      <td>-0.124940</td>\n",
              "      <td>-0.058768</td>\n",
              "      <td>-0.008967</td>\n",
              "      <td>-0.263779</td>\n",
              "      <td>0.016652</td>\n",
              "      <td>0.045836</td>\n",
              "      <td>1.000000</td>\n",
              "      <td>-0.144655</td>\n",
              "      <td>-0.158212</td>\n",
              "      <td>0.174071</td>\n",
              "      <td>-0.361347</td>\n",
              "      <td>-0.060862</td>\n",
              "      <td>0.002962</td>\n",
              "      <td>-0.014971</td>\n",
              "      <td>-0.106512</td>\n",
              "      <td>-0.092854</td>\n",
              "      <td>-0.003424</td>\n",
              "    </tr>\n",
              "    <tr>\n",
              "      <th>grade</th>\n",
              "      <td>0.008093</td>\n",
              "      <td>0.667478</td>\n",
              "      <td>0.357003</td>\n",
              "      <td>0.664990</td>\n",
              "      <td>0.762719</td>\n",
              "      <td>0.113644</td>\n",
              "      <td>0.458151</td>\n",
              "      <td>0.082785</td>\n",
              "      <td>0.251378</td>\n",
              "      <td>-0.144655</td>\n",
              "      <td>1.000000</td>\n",
              "      <td>0.755919</td>\n",
              "      <td>0.168443</td>\n",
              "      <td>0.446966</td>\n",
              "      <td>0.014372</td>\n",
              "      <td>-0.184795</td>\n",
              "      <td>0.114086</td>\n",
              "      <td>0.198347</td>\n",
              "      <td>0.713208</td>\n",
              "      <td>0.119265</td>\n",
              "    </tr>\n",
              "    <tr>\n",
              "      <th>sqft_above</th>\n",
              "      <td>-0.010857</td>\n",
              "      <td>0.605569</td>\n",
              "      <td>0.477619</td>\n",
              "      <td>0.685351</td>\n",
              "      <td>0.876600</td>\n",
              "      <td>0.183527</td>\n",
              "      <td>0.523874</td>\n",
              "      <td>0.072080</td>\n",
              "      <td>0.167659</td>\n",
              "      <td>-0.158212</td>\n",
              "      <td>0.755919</td>\n",
              "      <td>1.000000</td>\n",
              "      <td>-0.051923</td>\n",
              "      <td>0.423922</td>\n",
              "      <td>0.023233</td>\n",
              "      <td>-0.261163</td>\n",
              "      <td>-0.000823</td>\n",
              "      <td>0.343791</td>\n",
              "      <td>0.731870</td>\n",
              "      <td>0.194060</td>\n",
              "    </tr>\n",
              "    <tr>\n",
              "      <th>sqft_basement</th>\n",
              "      <td>-0.005084</td>\n",
              "      <td>0.323849</td>\n",
              "      <td>0.303077</td>\n",
              "      <td>0.283814</td>\n",
              "      <td>0.435054</td>\n",
              "      <td>0.015271</td>\n",
              "      <td>-0.245673</td>\n",
              "      <td>0.080585</td>\n",
              "      <td>0.276996</td>\n",
              "      <td>0.174071</td>\n",
              "      <td>0.168443</td>\n",
              "      <td>-0.051923</td>\n",
              "      <td>1.000000</td>\n",
              "      <td>-0.133062</td>\n",
              "      <td>0.071320</td>\n",
              "      <td>0.074781</td>\n",
              "      <td>0.110535</td>\n",
              "      <td>-0.144743</td>\n",
              "      <td>0.200367</td>\n",
              "      <td>0.017260</td>\n",
              "    </tr>\n",
              "    <tr>\n",
              "      <th>yr_built</th>\n",
              "      <td>0.021218</td>\n",
              "      <td>0.053980</td>\n",
              "      <td>0.154276</td>\n",
              "      <td>0.505997</td>\n",
              "      <td>0.318099</td>\n",
              "      <td>0.053105</td>\n",
              "      <td>0.489347</td>\n",
              "      <td>-0.026159</td>\n",
              "      <td>-0.053229</td>\n",
              "      <td>-0.361347</td>\n",
              "      <td>0.446966</td>\n",
              "      <td>0.423922</td>\n",
              "      <td>-0.133062</td>\n",
              "      <td>1.000000</td>\n",
              "      <td>-0.224729</td>\n",
              "      <td>-0.346808</td>\n",
              "      <td>-0.148099</td>\n",
              "      <td>0.409395</td>\n",
              "      <td>0.326298</td>\n",
              "      <td>0.070999</td>\n",
              "    </tr>\n",
              "    <tr>\n",
              "      <th>yr_renovated</th>\n",
              "      <td>-0.016688</td>\n",
              "      <td>0.126503</td>\n",
              "      <td>0.018695</td>\n",
              "      <td>0.050879</td>\n",
              "      <td>0.055314</td>\n",
              "      <td>0.007677</td>\n",
              "      <td>0.006156</td>\n",
              "      <td>0.092950</td>\n",
              "      <td>0.103208</td>\n",
              "      <td>-0.060862</td>\n",
              "      <td>0.014372</td>\n",
              "      <td>0.023233</td>\n",
              "      <td>0.071320</td>\n",
              "      <td>-0.224729</td>\n",
              "      <td>1.000000</td>\n",
              "      <td>0.064388</td>\n",
              "      <td>0.029271</td>\n",
              "      <td>-0.068594</td>\n",
              "      <td>-0.002841</td>\n",
              "      <td>0.007837</td>\n",
              "    </tr>\n",
              "    <tr>\n",
              "      <th>zipcode</th>\n",
              "      <td>-0.008129</td>\n",
              "      <td>-0.053162</td>\n",
              "      <td>-0.152721</td>\n",
              "      <td>-0.203831</td>\n",
              "      <td>-0.199435</td>\n",
              "      <td>-0.129611</td>\n",
              "      <td>-0.059025</td>\n",
              "      <td>0.030277</td>\n",
              "      <td>0.084838</td>\n",
              "      <td>0.002962</td>\n",
              "      <td>-0.184795</td>\n",
              "      <td>-0.261163</td>\n",
              "      <td>0.074781</td>\n",
              "      <td>-0.346808</td>\n",
              "      <td>0.064388</td>\n",
              "      <td>1.000000</td>\n",
              "      <td>0.267064</td>\n",
              "      <td>-0.564069</td>\n",
              "      <td>-0.279033</td>\n",
              "      <td>-0.147257</td>\n",
              "    </tr>\n",
              "    <tr>\n",
              "      <th>lat</th>\n",
              "      <td>-0.001861</td>\n",
              "      <td>0.306922</td>\n",
              "      <td>-0.008953</td>\n",
              "      <td>0.024590</td>\n",
              "      <td>0.052521</td>\n",
              "      <td>-0.085680</td>\n",
              "      <td>0.049593</td>\n",
              "      <td>-0.014272</td>\n",
              "      <td>0.006049</td>\n",
              "      <td>-0.014971</td>\n",
              "      <td>0.114086</td>\n",
              "      <td>-0.000823</td>\n",
              "      <td>0.110535</td>\n",
              "      <td>-0.148099</td>\n",
              "      <td>0.029271</td>\n",
              "      <td>0.267064</td>\n",
              "      <td>1.000000</td>\n",
              "      <td>-0.135545</td>\n",
              "      <td>0.048839</td>\n",
              "      <td>-0.086423</td>\n",
              "    </tr>\n",
              "    <tr>\n",
              "      <th>long</th>\n",
              "      <td>0.020776</td>\n",
              "      <td>0.021567</td>\n",
              "      <td>0.129474</td>\n",
              "      <td>0.223047</td>\n",
              "      <td>0.240221</td>\n",
              "      <td>0.229552</td>\n",
              "      <td>0.125343</td>\n",
              "      <td>-0.041904</td>\n",
              "      <td>-0.078560</td>\n",
              "      <td>-0.106512</td>\n",
              "      <td>0.198347</td>\n",
              "      <td>0.343791</td>\n",
              "      <td>-0.144743</td>\n",
              "      <td>0.409395</td>\n",
              "      <td>-0.068594</td>\n",
              "      <td>-0.564069</td>\n",
              "      <td>-0.135545</td>\n",
              "      <td>1.000000</td>\n",
              "      <td>0.334592</td>\n",
              "      <td>0.254475</td>\n",
              "    </tr>\n",
              "    <tr>\n",
              "      <th>sqft_living15</th>\n",
              "      <td>-0.002869</td>\n",
              "      <td>0.585382</td>\n",
              "      <td>0.391633</td>\n",
              "      <td>0.568665</td>\n",
              "      <td>0.756420</td>\n",
              "      <td>0.144620</td>\n",
              "      <td>0.279861</td>\n",
              "      <td>0.086469</td>\n",
              "      <td>0.280404</td>\n",
              "      <td>-0.092854</td>\n",
              "      <td>0.713208</td>\n",
              "      <td>0.731870</td>\n",
              "      <td>0.200367</td>\n",
              "      <td>0.326298</td>\n",
              "      <td>-0.002841</td>\n",
              "      <td>-0.279033</td>\n",
              "      <td>0.048839</td>\n",
              "      <td>0.334592</td>\n",
              "      <td>1.000000</td>\n",
              "      <td>0.183194</td>\n",
              "    </tr>\n",
              "    <tr>\n",
              "      <th>sqft_lot15</th>\n",
              "      <td>-0.138778</td>\n",
              "      <td>0.082457</td>\n",
              "      <td>0.029233</td>\n",
              "      <td>0.087191</td>\n",
              "      <td>0.183285</td>\n",
              "      <td>0.718556</td>\n",
              "      <td>-0.011250</td>\n",
              "      <td>0.030702</td>\n",
              "      <td>0.072577</td>\n",
              "      <td>-0.003424</td>\n",
              "      <td>0.119265</td>\n",
              "      <td>0.194060</td>\n",
              "      <td>0.017260</td>\n",
              "      <td>0.070999</td>\n",
              "      <td>0.007837</td>\n",
              "      <td>-0.147257</td>\n",
              "      <td>-0.086423</td>\n",
              "      <td>0.254475</td>\n",
              "      <td>0.183194</td>\n",
              "      <td>1.000000</td>\n",
              "    </tr>\n",
              "  </tbody>\n",
              "</table>\n",
              "</div>"
            ],
            "text/plain": [
              "                     id     price  ...  sqft_living15  sqft_lot15\n",
              "id             1.000000 -0.016803  ...      -0.002869   -0.138778\n",
              "price         -0.016803  1.000000  ...       0.585382    0.082457\n",
              "bedrooms       0.001354  0.308346  ...       0.391633    0.029233\n",
              "bathrooms      0.005093  0.525140  ...       0.568665    0.087191\n",
              "sqft_living   -0.012239  0.702046  ...       0.756420    0.183285\n",
              "sqft_lot      -0.132101  0.089658  ...       0.144620    0.718556\n",
              "floors         0.018482  0.256793  ...       0.279861   -0.011250\n",
              "waterfront    -0.002717  0.266332  ...       0.086469    0.030702\n",
              "view           0.011785  0.397466  ...       0.280404    0.072577\n",
              "condition     -0.023686  0.036397  ...      -0.092854   -0.003424\n",
              "grade          0.008093  0.667478  ...       0.713208    0.119265\n",
              "sqft_above    -0.010857  0.605569  ...       0.731870    0.194060\n",
              "sqft_basement -0.005084  0.323849  ...       0.200367    0.017260\n",
              "yr_built       0.021218  0.053980  ...       0.326298    0.070999\n",
              "yr_renovated  -0.016688  0.126503  ...      -0.002841    0.007837\n",
              "zipcode       -0.008129 -0.053162  ...      -0.279033   -0.147257\n",
              "lat           -0.001861  0.306922  ...       0.048839   -0.086423\n",
              "long           0.020776  0.021567  ...       0.334592    0.254475\n",
              "sqft_living15 -0.002869  0.585382  ...       1.000000    0.183194\n",
              "sqft_lot15    -0.138778  0.082457  ...       0.183194    1.000000\n",
              "\n",
              "[20 rows x 20 columns]"
            ]
          },
          "metadata": {
            "tags": []
          },
          "execution_count": 171
        }
      ]
    },
    {
      "cell_type": "markdown",
      "metadata": {
        "id": "B8xbexpHWXz9"
      },
      "source": [
        "## MULTIPLE LINEAR REGRESSION"
      ]
    },
    {
      "cell_type": "markdown",
      "metadata": {
        "id": "QpQ7ZF4jlxIE"
      },
      "source": [
        "CHECKING FOR MULTICOLLINEARLITY"
      ]
    },
    {
      "cell_type": "code",
      "metadata": {
        "id": "h8AXmC6IlxUA",
        "colab": {
          "base_uri": "https://localhost:8080/",
          "height": 526
        },
        "outputId": "82778edf-53f3-4f47-bde9-e79316d9a3f7"
      },
      "source": [
        "independent_only = hp_df[['bedrooms','bathrooms','sqft_living','sqft_lot','floors','waterfront','view','condition',\n",
        "             'grade','sqft_above','sqft_basement','yr_built','yr_renovated','sqft_living15','sqft_lot15']]\n",
        "# Let's display the correlations between the variables\n",
        "correlations = independent_only.corr()\n",
        "\n",
        "correlations"
      ],
      "execution_count": null,
      "outputs": [
        {
          "output_type": "execute_result",
          "data": {
            "text/html": [
              "<div>\n",
              "<style scoped>\n",
              "    .dataframe tbody tr th:only-of-type {\n",
              "        vertical-align: middle;\n",
              "    }\n",
              "\n",
              "    .dataframe tbody tr th {\n",
              "        vertical-align: top;\n",
              "    }\n",
              "\n",
              "    .dataframe thead th {\n",
              "        text-align: right;\n",
              "    }\n",
              "</style>\n",
              "<table border=\"1\" class=\"dataframe\">\n",
              "  <thead>\n",
              "    <tr style=\"text-align: right;\">\n",
              "      <th></th>\n",
              "      <th>bedrooms</th>\n",
              "      <th>bathrooms</th>\n",
              "      <th>sqft_living</th>\n",
              "      <th>sqft_lot</th>\n",
              "      <th>floors</th>\n",
              "      <th>waterfront</th>\n",
              "      <th>view</th>\n",
              "      <th>condition</th>\n",
              "      <th>grade</th>\n",
              "      <th>sqft_above</th>\n",
              "      <th>sqft_basement</th>\n",
              "      <th>yr_built</th>\n",
              "      <th>yr_renovated</th>\n",
              "      <th>sqft_living15</th>\n",
              "      <th>sqft_lot15</th>\n",
              "    </tr>\n",
              "  </thead>\n",
              "  <tbody>\n",
              "    <tr>\n",
              "      <th>bedrooms</th>\n",
              "      <td>1.000000</td>\n",
              "      <td>0.515935</td>\n",
              "      <td>0.576674</td>\n",
              "      <td>0.031699</td>\n",
              "      <td>0.175448</td>\n",
              "      <td>-0.006583</td>\n",
              "      <td>0.079433</td>\n",
              "      <td>0.028422</td>\n",
              "      <td>0.357003</td>\n",
              "      <td>0.477619</td>\n",
              "      <td>0.303077</td>\n",
              "      <td>0.154276</td>\n",
              "      <td>0.018695</td>\n",
              "      <td>0.391633</td>\n",
              "      <td>0.029233</td>\n",
              "    </tr>\n",
              "    <tr>\n",
              "      <th>bathrooms</th>\n",
              "      <td>0.515935</td>\n",
              "      <td>1.000000</td>\n",
              "      <td>0.754688</td>\n",
              "      <td>0.087750</td>\n",
              "      <td>0.500669</td>\n",
              "      <td>0.063747</td>\n",
              "      <td>0.187891</td>\n",
              "      <td>-0.124940</td>\n",
              "      <td>0.664990</td>\n",
              "      <td>0.685351</td>\n",
              "      <td>0.283814</td>\n",
              "      <td>0.505997</td>\n",
              "      <td>0.050879</td>\n",
              "      <td>0.568665</td>\n",
              "      <td>0.087191</td>\n",
              "    </tr>\n",
              "    <tr>\n",
              "      <th>sqft_living</th>\n",
              "      <td>0.576674</td>\n",
              "      <td>0.754688</td>\n",
              "      <td>1.000000</td>\n",
              "      <td>0.172830</td>\n",
              "      <td>0.353954</td>\n",
              "      <td>0.103820</td>\n",
              "      <td>0.284641</td>\n",
              "      <td>-0.058768</td>\n",
              "      <td>0.762719</td>\n",
              "      <td>0.876600</td>\n",
              "      <td>0.435054</td>\n",
              "      <td>0.318099</td>\n",
              "      <td>0.055314</td>\n",
              "      <td>0.756420</td>\n",
              "      <td>0.183285</td>\n",
              "    </tr>\n",
              "    <tr>\n",
              "      <th>sqft_lot</th>\n",
              "      <td>0.031699</td>\n",
              "      <td>0.087750</td>\n",
              "      <td>0.172830</td>\n",
              "      <td>1.000000</td>\n",
              "      <td>-0.005171</td>\n",
              "      <td>0.021601</td>\n",
              "      <td>0.074753</td>\n",
              "      <td>-0.008967</td>\n",
              "      <td>0.113644</td>\n",
              "      <td>0.183527</td>\n",
              "      <td>0.015271</td>\n",
              "      <td>0.053105</td>\n",
              "      <td>0.007677</td>\n",
              "      <td>0.144620</td>\n",
              "      <td>0.718556</td>\n",
              "    </tr>\n",
              "    <tr>\n",
              "      <th>floors</th>\n",
              "      <td>0.175448</td>\n",
              "      <td>0.500669</td>\n",
              "      <td>0.353954</td>\n",
              "      <td>-0.005171</td>\n",
              "      <td>1.000000</td>\n",
              "      <td>0.023711</td>\n",
              "      <td>0.029325</td>\n",
              "      <td>-0.263779</td>\n",
              "      <td>0.458151</td>\n",
              "      <td>0.523874</td>\n",
              "      <td>-0.245673</td>\n",
              "      <td>0.489347</td>\n",
              "      <td>0.006156</td>\n",
              "      <td>0.279861</td>\n",
              "      <td>-0.011250</td>\n",
              "    </tr>\n",
              "    <tr>\n",
              "      <th>waterfront</th>\n",
              "      <td>-0.006583</td>\n",
              "      <td>0.063747</td>\n",
              "      <td>0.103820</td>\n",
              "      <td>0.021601</td>\n",
              "      <td>0.023711</td>\n",
              "      <td>1.000000</td>\n",
              "      <td>0.401993</td>\n",
              "      <td>0.016652</td>\n",
              "      <td>0.082785</td>\n",
              "      <td>0.072080</td>\n",
              "      <td>0.080585</td>\n",
              "      <td>-0.026159</td>\n",
              "      <td>0.092950</td>\n",
              "      <td>0.086469</td>\n",
              "      <td>0.030702</td>\n",
              "    </tr>\n",
              "    <tr>\n",
              "      <th>view</th>\n",
              "      <td>0.079433</td>\n",
              "      <td>0.187891</td>\n",
              "      <td>0.284641</td>\n",
              "      <td>0.074753</td>\n",
              "      <td>0.029325</td>\n",
              "      <td>0.401993</td>\n",
              "      <td>1.000000</td>\n",
              "      <td>0.045836</td>\n",
              "      <td>0.251378</td>\n",
              "      <td>0.167659</td>\n",
              "      <td>0.276996</td>\n",
              "      <td>-0.053229</td>\n",
              "      <td>0.103208</td>\n",
              "      <td>0.280404</td>\n",
              "      <td>0.072577</td>\n",
              "    </tr>\n",
              "    <tr>\n",
              "      <th>condition</th>\n",
              "      <td>0.028422</td>\n",
              "      <td>-0.124940</td>\n",
              "      <td>-0.058768</td>\n",
              "      <td>-0.008967</td>\n",
              "      <td>-0.263779</td>\n",
              "      <td>0.016652</td>\n",
              "      <td>0.045836</td>\n",
              "      <td>1.000000</td>\n",
              "      <td>-0.144655</td>\n",
              "      <td>-0.158212</td>\n",
              "      <td>0.174071</td>\n",
              "      <td>-0.361347</td>\n",
              "      <td>-0.060862</td>\n",
              "      <td>-0.092854</td>\n",
              "      <td>-0.003424</td>\n",
              "    </tr>\n",
              "    <tr>\n",
              "      <th>grade</th>\n",
              "      <td>0.357003</td>\n",
              "      <td>0.664990</td>\n",
              "      <td>0.762719</td>\n",
              "      <td>0.113644</td>\n",
              "      <td>0.458151</td>\n",
              "      <td>0.082785</td>\n",
              "      <td>0.251378</td>\n",
              "      <td>-0.144655</td>\n",
              "      <td>1.000000</td>\n",
              "      <td>0.755919</td>\n",
              "      <td>0.168443</td>\n",
              "      <td>0.446966</td>\n",
              "      <td>0.014372</td>\n",
              "      <td>0.713208</td>\n",
              "      <td>0.119265</td>\n",
              "    </tr>\n",
              "    <tr>\n",
              "      <th>sqft_above</th>\n",
              "      <td>0.477619</td>\n",
              "      <td>0.685351</td>\n",
              "      <td>0.876600</td>\n",
              "      <td>0.183527</td>\n",
              "      <td>0.523874</td>\n",
              "      <td>0.072080</td>\n",
              "      <td>0.167659</td>\n",
              "      <td>-0.158212</td>\n",
              "      <td>0.755919</td>\n",
              "      <td>1.000000</td>\n",
              "      <td>-0.051923</td>\n",
              "      <td>0.423922</td>\n",
              "      <td>0.023233</td>\n",
              "      <td>0.731870</td>\n",
              "      <td>0.194060</td>\n",
              "    </tr>\n",
              "    <tr>\n",
              "      <th>sqft_basement</th>\n",
              "      <td>0.303077</td>\n",
              "      <td>0.283814</td>\n",
              "      <td>0.435054</td>\n",
              "      <td>0.015271</td>\n",
              "      <td>-0.245673</td>\n",
              "      <td>0.080585</td>\n",
              "      <td>0.276996</td>\n",
              "      <td>0.174071</td>\n",
              "      <td>0.168443</td>\n",
              "      <td>-0.051923</td>\n",
              "      <td>1.000000</td>\n",
              "      <td>-0.133062</td>\n",
              "      <td>0.071320</td>\n",
              "      <td>0.200367</td>\n",
              "      <td>0.017260</td>\n",
              "    </tr>\n",
              "    <tr>\n",
              "      <th>yr_built</th>\n",
              "      <td>0.154276</td>\n",
              "      <td>0.505997</td>\n",
              "      <td>0.318099</td>\n",
              "      <td>0.053105</td>\n",
              "      <td>0.489347</td>\n",
              "      <td>-0.026159</td>\n",
              "      <td>-0.053229</td>\n",
              "      <td>-0.361347</td>\n",
              "      <td>0.446966</td>\n",
              "      <td>0.423922</td>\n",
              "      <td>-0.133062</td>\n",
              "      <td>1.000000</td>\n",
              "      <td>-0.224729</td>\n",
              "      <td>0.326298</td>\n",
              "      <td>0.070999</td>\n",
              "    </tr>\n",
              "    <tr>\n",
              "      <th>yr_renovated</th>\n",
              "      <td>0.018695</td>\n",
              "      <td>0.050879</td>\n",
              "      <td>0.055314</td>\n",
              "      <td>0.007677</td>\n",
              "      <td>0.006156</td>\n",
              "      <td>0.092950</td>\n",
              "      <td>0.103208</td>\n",
              "      <td>-0.060862</td>\n",
              "      <td>0.014372</td>\n",
              "      <td>0.023233</td>\n",
              "      <td>0.071320</td>\n",
              "      <td>-0.224729</td>\n",
              "      <td>1.000000</td>\n",
              "      <td>-0.002841</td>\n",
              "      <td>0.007837</td>\n",
              "    </tr>\n",
              "    <tr>\n",
              "      <th>sqft_living15</th>\n",
              "      <td>0.391633</td>\n",
              "      <td>0.568665</td>\n",
              "      <td>0.756420</td>\n",
              "      <td>0.144620</td>\n",
              "      <td>0.279861</td>\n",
              "      <td>0.086469</td>\n",
              "      <td>0.280404</td>\n",
              "      <td>-0.092854</td>\n",
              "      <td>0.713208</td>\n",
              "      <td>0.731870</td>\n",
              "      <td>0.200367</td>\n",
              "      <td>0.326298</td>\n",
              "      <td>-0.002841</td>\n",
              "      <td>1.000000</td>\n",
              "      <td>0.183194</td>\n",
              "    </tr>\n",
              "    <tr>\n",
              "      <th>sqft_lot15</th>\n",
              "      <td>0.029233</td>\n",
              "      <td>0.087191</td>\n",
              "      <td>0.183285</td>\n",
              "      <td>0.718556</td>\n",
              "      <td>-0.011250</td>\n",
              "      <td>0.030702</td>\n",
              "      <td>0.072577</td>\n",
              "      <td>-0.003424</td>\n",
              "      <td>0.119265</td>\n",
              "      <td>0.194060</td>\n",
              "      <td>0.017260</td>\n",
              "      <td>0.070999</td>\n",
              "      <td>0.007837</td>\n",
              "      <td>0.183194</td>\n",
              "      <td>1.000000</td>\n",
              "    </tr>\n",
              "  </tbody>\n",
              "</table>\n",
              "</div>"
            ],
            "text/plain": [
              "               bedrooms  bathrooms  ...  sqft_living15  sqft_lot15\n",
              "bedrooms       1.000000   0.515935  ...       0.391633    0.029233\n",
              "bathrooms      0.515935   1.000000  ...       0.568665    0.087191\n",
              "sqft_living    0.576674   0.754688  ...       0.756420    0.183285\n",
              "sqft_lot       0.031699   0.087750  ...       0.144620    0.718556\n",
              "floors         0.175448   0.500669  ...       0.279861   -0.011250\n",
              "waterfront    -0.006583   0.063747  ...       0.086469    0.030702\n",
              "view           0.079433   0.187891  ...       0.280404    0.072577\n",
              "condition      0.028422  -0.124940  ...      -0.092854   -0.003424\n",
              "grade          0.357003   0.664990  ...       0.713208    0.119265\n",
              "sqft_above     0.477619   0.685351  ...       0.731870    0.194060\n",
              "sqft_basement  0.303077   0.283814  ...       0.200367    0.017260\n",
              "yr_built       0.154276   0.505997  ...       0.326298    0.070999\n",
              "yr_renovated   0.018695   0.050879  ...      -0.002841    0.007837\n",
              "sqft_living15  0.391633   0.568665  ...       1.000000    0.183194\n",
              "sqft_lot15     0.029233   0.087191  ...       0.183194    1.000000\n",
              "\n",
              "[15 rows x 15 columns]"
            ]
          },
          "metadata": {
            "tags": []
          },
          "execution_count": 172
        }
      ]
    },
    {
      "cell_type": "code",
      "metadata": {
        "id": "ksu3EBbSl9DH",
        "colab": {
          "base_uri": "https://localhost:8080/",
          "height": 526
        },
        "outputId": "3d5224e9-c19a-4d31-bc45-88d539695812"
      },
      "source": [
        "#checking the vif \n",
        "pd.DataFrame(np.linalg.inv(correlations.values), index = correlations.index, columns=correlations.columns)"
      ],
      "execution_count": null,
      "outputs": [
        {
          "output_type": "execute_result",
          "data": {
            "text/html": [
              "<div>\n",
              "<style scoped>\n",
              "    .dataframe tbody tr th:only-of-type {\n",
              "        vertical-align: middle;\n",
              "    }\n",
              "\n",
              "    .dataframe tbody tr th {\n",
              "        vertical-align: top;\n",
              "    }\n",
              "\n",
              "    .dataframe thead th {\n",
              "        text-align: right;\n",
              "    }\n",
              "</style>\n",
              "<table border=\"1\" class=\"dataframe\">\n",
              "  <thead>\n",
              "    <tr style=\"text-align: right;\">\n",
              "      <th></th>\n",
              "      <th>bedrooms</th>\n",
              "      <th>bathrooms</th>\n",
              "      <th>sqft_living</th>\n",
              "      <th>sqft_lot</th>\n",
              "      <th>floors</th>\n",
              "      <th>waterfront</th>\n",
              "      <th>view</th>\n",
              "      <th>condition</th>\n",
              "      <th>grade</th>\n",
              "      <th>sqft_above</th>\n",
              "      <th>sqft_basement</th>\n",
              "      <th>yr_built</th>\n",
              "      <th>yr_renovated</th>\n",
              "      <th>sqft_living15</th>\n",
              "      <th>sqft_lot15</th>\n",
              "    </tr>\n",
              "  </thead>\n",
              "  <tbody>\n",
              "    <tr>\n",
              "      <th>bedrooms</th>\n",
              "      <td>1.644186</td>\n",
              "      <td>-0.461011</td>\n",
              "      <td>-5.846287e-01</td>\n",
              "      <td>0.044586</td>\n",
              "      <td>0.070643</td>\n",
              "      <td>0.061394</td>\n",
              "      <td>0.117541</td>\n",
              "      <td>-0.064963</td>\n",
              "      <td>0.326244</td>\n",
              "      <td>-3.578592e-01</td>\n",
              "      <td>-1.900137e-01</td>\n",
              "      <td>0.092827</td>\n",
              "      <td>0.039971</td>\n",
              "      <td>0.012496</td>\n",
              "      <td>0.082130</td>\n",
              "    </tr>\n",
              "    <tr>\n",
              "      <th>bathrooms</th>\n",
              "      <td>-0.461011</td>\n",
              "      <td>3.348329</td>\n",
              "      <td>-3.152916e+00</td>\n",
              "      <td>-0.019162</td>\n",
              "      <td>-0.681763</td>\n",
              "      <td>0.009537</td>\n",
              "      <td>-0.039280</td>\n",
              "      <td>-0.136581</td>\n",
              "      <td>-0.288261</td>\n",
              "      <td>1.582848e+00</td>\n",
              "      <td>4.341495e-01</td>\n",
              "      <td>-0.916321</td>\n",
              "      <td>-0.258046</td>\n",
              "      <td>0.095868</td>\n",
              "      <td>0.076591</td>\n",
              "    </tr>\n",
              "    <tr>\n",
              "      <th>sqft_living</th>\n",
              "      <td>-0.585043</td>\n",
              "      <td>-3.151582</td>\n",
              "      <td>1.814600e+13</td>\n",
              "      <td>-0.043879</td>\n",
              "      <td>2.609511</td>\n",
              "      <td>-0.073368</td>\n",
              "      <td>-0.064042</td>\n",
              "      <td>-0.109850</td>\n",
              "      <td>-2.051717</td>\n",
              "      <td>-1.636081e+13</td>\n",
              "      <td>-8.743992e+12</td>\n",
              "      <td>0.720161</td>\n",
              "      <td>0.188967</td>\n",
              "      <td>-0.920061</td>\n",
              "      <td>-0.011172</td>\n",
              "    </tr>\n",
              "    <tr>\n",
              "      <th>sqft_lot</th>\n",
              "      <td>0.044586</td>\n",
              "      <td>-0.019162</td>\n",
              "      <td>-4.303527e-02</td>\n",
              "      <td>2.088118</td>\n",
              "      <td>0.074213</td>\n",
              "      <td>0.028246</td>\n",
              "      <td>-0.051996</td>\n",
              "      <td>0.019147</td>\n",
              "      <td>-0.006197</td>\n",
              "      <td>-1.962482e-01</td>\n",
              "      <td>-7.614872e-04</td>\n",
              "      <td>0.026133</td>\n",
              "      <td>0.012442</td>\n",
              "      <td>0.127176</td>\n",
              "      <td>-1.474744</td>\n",
              "    </tr>\n",
              "    <tr>\n",
              "      <th>floors</th>\n",
              "      <td>0.070643</td>\n",
              "      <td>-0.681763</td>\n",
              "      <td>2.612696e+00</td>\n",
              "      <td>0.074213</td>\n",
              "      <td>1.931962</td>\n",
              "      <td>-0.003969</td>\n",
              "      <td>-0.062789</td>\n",
              "      <td>0.132884</td>\n",
              "      <td>-0.326805</td>\n",
              "      <td>-2.791937e+00</td>\n",
              "      <td>-6.957629e-01</td>\n",
              "      <td>-0.301452</td>\n",
              "      <td>-0.056955</td>\n",
              "      <td>0.358992</td>\n",
              "      <td>0.101144</td>\n",
              "    </tr>\n",
              "    <tr>\n",
              "      <th>waterfront</th>\n",
              "      <td>0.061394</td>\n",
              "      <td>0.009537</td>\n",
              "      <td>-7.404783e-02</td>\n",
              "      <td>0.028246</td>\n",
              "      <td>-0.003969</td>\n",
              "      <td>1.203300</td>\n",
              "      <td>-0.493571</td>\n",
              "      <td>-0.015267</td>\n",
              "      <td>0.047955</td>\n",
              "      <td>-4.273821e-02</td>\n",
              "      <td>3.223536e-02</td>\n",
              "      <td>-0.021977</td>\n",
              "      <td>-0.066202</td>\n",
              "      <td>0.057239</td>\n",
              "      <td>-0.016950</td>\n",
              "    </tr>\n",
              "    <tr>\n",
              "      <th>view</th>\n",
              "      <td>0.117541</td>\n",
              "      <td>-0.039280</td>\n",
              "      <td>-6.259227e-02</td>\n",
              "      <td>-0.051996</td>\n",
              "      <td>-0.062789</td>\n",
              "      <td>-0.493571</td>\n",
              "      <td>1.404335</td>\n",
              "      <td>-0.008112</td>\n",
              "      <td>-0.184309</td>\n",
              "      <td>1.027080e-01</td>\n",
              "      <td>-2.416016e-01</td>\n",
              "      <td>0.198983</td>\n",
              "      <td>-0.034075</td>\n",
              "      <td>-0.264061</td>\n",
              "      <td>0.001992</td>\n",
              "    </tr>\n",
              "    <tr>\n",
              "      <th>condition</th>\n",
              "      <td>-0.064963</td>\n",
              "      <td>-0.136581</td>\n",
              "      <td>-1.101784e-01</td>\n",
              "      <td>0.019147</td>\n",
              "      <td>0.132884</td>\n",
              "      <td>-0.015267</td>\n",
              "      <td>-0.008112</td>\n",
              "      <td>1.221674</td>\n",
              "      <td>-0.016480</td>\n",
              "      <td>1.312175e-01</td>\n",
              "      <td>-1.841904e-02</td>\n",
              "      <td>0.472734</td>\n",
              "      <td>0.195040</td>\n",
              "      <td>0.036100</td>\n",
              "      <td>-0.037930</td>\n",
              "    </tr>\n",
              "    <tr>\n",
              "      <th>grade</th>\n",
              "      <td>0.326244</td>\n",
              "      <td>-0.288261</td>\n",
              "      <td>-2.055144e+00</td>\n",
              "      <td>-0.006197</td>\n",
              "      <td>-0.326805</td>\n",
              "      <td>0.047955</td>\n",
              "      <td>-0.184309</td>\n",
              "      <td>-0.016480</td>\n",
              "      <td>3.234547</td>\n",
              "      <td>3.712191e-01</td>\n",
              "      <td>4.355286e-01</td>\n",
              "      <td>-0.397166</td>\n",
              "      <td>-0.040833</td>\n",
              "      <td>-0.828842</td>\n",
              "      <td>0.120046</td>\n",
              "    </tr>\n",
              "    <tr>\n",
              "      <th>sqft_above</th>\n",
              "      <td>-0.357956</td>\n",
              "      <td>1.582899</td>\n",
              "      <td>-1.636081e+13</td>\n",
              "      <td>-0.195683</td>\n",
              "      <td>-2.790159</td>\n",
              "      <td>-0.043390</td>\n",
              "      <td>0.104330</td>\n",
              "      <td>0.131041</td>\n",
              "      <td>0.367545</td>\n",
              "      <td>1.475124e+13</td>\n",
              "      <td>7.883763e+12</td>\n",
              "      <td>-0.302630</td>\n",
              "      <td>-0.192756</td>\n",
              "      <td>-0.781367</td>\n",
              "      <td>-0.203780</td>\n",
              "    </tr>\n",
              "    <tr>\n",
              "      <th>sqft_basement</th>\n",
              "      <td>-0.190431</td>\n",
              "      <td>0.433906</td>\n",
              "      <td>-8.743992e+12</td>\n",
              "      <td>-0.000402</td>\n",
              "      <td>-0.694666</td>\n",
              "      <td>0.031896</td>\n",
              "      <td>-0.240810</td>\n",
              "      <td>-0.018591</td>\n",
              "      <td>0.433720</td>\n",
              "      <td>7.883763e+12</td>\n",
              "      <td>4.213458e+12</td>\n",
              "      <td>0.019835</td>\n",
              "      <td>-0.089823</td>\n",
              "      <td>0.033170</td>\n",
              "      <td>-0.032752</td>\n",
              "    </tr>\n",
              "    <tr>\n",
              "      <th>yr_built</th>\n",
              "      <td>0.092827</td>\n",
              "      <td>-0.916321</td>\n",
              "      <td>7.184166e-01</td>\n",
              "      <td>0.026133</td>\n",
              "      <td>-0.301452</td>\n",
              "      <td>-0.021977</td>\n",
              "      <td>0.198983</td>\n",
              "      <td>0.472734</td>\n",
              "      <td>-0.397166</td>\n",
              "      <td>-3.010567e-01</td>\n",
              "      <td>2.067583e-02</td>\n",
              "      <td>2.011854</td>\n",
              "      <td>0.480917</td>\n",
              "      <td>-0.124109</td>\n",
              "      <td>-0.107249</td>\n",
              "    </tr>\n",
              "    <tr>\n",
              "      <th>yr_renovated</th>\n",
              "      <td>0.039971</td>\n",
              "      <td>-0.258046</td>\n",
              "      <td>1.885657e-01</td>\n",
              "      <td>0.012442</td>\n",
              "      <td>-0.056955</td>\n",
              "      <td>-0.066202</td>\n",
              "      <td>-0.034075</td>\n",
              "      <td>0.195040</td>\n",
              "      <td>-0.040833</td>\n",
              "      <td>-1.923942e-01</td>\n",
              "      <td>-8.962942e-02</td>\n",
              "      <td>0.480917</td>\n",
              "      <td>1.143730</td>\n",
              "      <td>0.075857</td>\n",
              "      <td>-0.030889</td>\n",
              "    </tr>\n",
              "    <tr>\n",
              "      <th>sqft_living15</th>\n",
              "      <td>0.012496</td>\n",
              "      <td>0.095868</td>\n",
              "      <td>-9.194213e-01</td>\n",
              "      <td>0.127176</td>\n",
              "      <td>0.358992</td>\n",
              "      <td>0.057239</td>\n",
              "      <td>-0.264061</td>\n",
              "      <td>0.036100</td>\n",
              "      <td>-0.828842</td>\n",
              "      <td>-7.819436e-01</td>\n",
              "      <td>3.286164e-02</td>\n",
              "      <td>-0.124109</td>\n",
              "      <td>0.075857</td>\n",
              "      <td>2.817969</td>\n",
              "      <td>-0.168011</td>\n",
              "    </tr>\n",
              "    <tr>\n",
              "      <th>sqft_lot15</th>\n",
              "      <td>0.082130</td>\n",
              "      <td>0.076591</td>\n",
              "      <td>-1.167351e-02</td>\n",
              "      <td>-1.474744</td>\n",
              "      <td>0.101144</td>\n",
              "      <td>-0.016950</td>\n",
              "      <td>0.001992</td>\n",
              "      <td>-0.037930</td>\n",
              "      <td>0.120046</td>\n",
              "      <td>-2.033277e-01</td>\n",
              "      <td>-3.251083e-02</td>\n",
              "      <td>-0.107249</td>\n",
              "      <td>-0.030889</td>\n",
              "      <td>-0.168011</td>\n",
              "      <td>2.118467</td>\n",
              "    </tr>\n",
              "  </tbody>\n",
              "</table>\n",
              "</div>"
            ],
            "text/plain": [
              "               bedrooms  bathrooms  ...  sqft_living15  sqft_lot15\n",
              "bedrooms       1.644186  -0.461011  ...       0.012496    0.082130\n",
              "bathrooms     -0.461011   3.348329  ...       0.095868    0.076591\n",
              "sqft_living   -0.585043  -3.151582  ...      -0.920061   -0.011172\n",
              "sqft_lot       0.044586  -0.019162  ...       0.127176   -1.474744\n",
              "floors         0.070643  -0.681763  ...       0.358992    0.101144\n",
              "waterfront     0.061394   0.009537  ...       0.057239   -0.016950\n",
              "view           0.117541  -0.039280  ...      -0.264061    0.001992\n",
              "condition     -0.064963  -0.136581  ...       0.036100   -0.037930\n",
              "grade          0.326244  -0.288261  ...      -0.828842    0.120046\n",
              "sqft_above    -0.357956   1.582899  ...      -0.781367   -0.203780\n",
              "sqft_basement -0.190431   0.433906  ...       0.033170   -0.032752\n",
              "yr_built       0.092827  -0.916321  ...      -0.124109   -0.107249\n",
              "yr_renovated   0.039971  -0.258046  ...       0.075857   -0.030889\n",
              "sqft_living15  0.012496   0.095868  ...       2.817969   -0.168011\n",
              "sqft_lot15     0.082130   0.076591  ...      -0.168011    2.118467\n",
              "\n",
              "[15 rows x 15 columns]"
            ]
          },
          "metadata": {
            "tags": []
          },
          "execution_count": 173
        }
      ]
    },
    {
      "cell_type": "markdown",
      "metadata": {
        "id": "f0vJfOsIkdb-"
      },
      "source": [
        "We can see sqrtliving had alot of values greater than 10 which showed there was \n",
        "\n",
        "a problem so we removed to see if the vif would improve"
      ]
    },
    {
      "cell_type": "code",
      "metadata": {
        "id": "qCBMy0ULlfn-"
      },
      "source": [
        "independent_only = hp_df[['bedrooms','bathrooms','sqft_lot','floors','waterfront','view','condition',\n",
        "             'grade','sqft_above','sqft_basement','yr_built','yr_renovated','sqft_living15','sqft_lot15']]\n",
        "# Let's display the correlations between the variables\n"
      ],
      "execution_count": null,
      "outputs": []
    },
    {
      "cell_type": "code",
      "metadata": {
        "colab": {
          "base_uri": "https://localhost:8080/",
          "height": 496
        },
        "id": "MgbtoIcClqhT",
        "outputId": "52732876-9225-410c-8c05-02beec368222"
      },
      "source": [
        "correlations = independent_only.corr()\n",
        "\n",
        "correlations"
      ],
      "execution_count": null,
      "outputs": [
        {
          "output_type": "execute_result",
          "data": {
            "text/html": [
              "<div>\n",
              "<style scoped>\n",
              "    .dataframe tbody tr th:only-of-type {\n",
              "        vertical-align: middle;\n",
              "    }\n",
              "\n",
              "    .dataframe tbody tr th {\n",
              "        vertical-align: top;\n",
              "    }\n",
              "\n",
              "    .dataframe thead th {\n",
              "        text-align: right;\n",
              "    }\n",
              "</style>\n",
              "<table border=\"1\" class=\"dataframe\">\n",
              "  <thead>\n",
              "    <tr style=\"text-align: right;\">\n",
              "      <th></th>\n",
              "      <th>bedrooms</th>\n",
              "      <th>bathrooms</th>\n",
              "      <th>sqft_lot</th>\n",
              "      <th>floors</th>\n",
              "      <th>waterfront</th>\n",
              "      <th>view</th>\n",
              "      <th>condition</th>\n",
              "      <th>grade</th>\n",
              "      <th>sqft_above</th>\n",
              "      <th>sqft_basement</th>\n",
              "      <th>yr_built</th>\n",
              "      <th>yr_renovated</th>\n",
              "      <th>sqft_living15</th>\n",
              "      <th>sqft_lot15</th>\n",
              "    </tr>\n",
              "  </thead>\n",
              "  <tbody>\n",
              "    <tr>\n",
              "      <th>bedrooms</th>\n",
              "      <td>1.000000</td>\n",
              "      <td>0.583605</td>\n",
              "      <td>-0.006519</td>\n",
              "      <td>0.291424</td>\n",
              "      <td>-0.040199</td>\n",
              "      <td>0.053262</td>\n",
              "      <td>0.004406</td>\n",
              "      <td>0.358605</td>\n",
              "      <td>0.469379</td>\n",
              "      <td>0.345219</td>\n",
              "      <td>0.081707</td>\n",
              "      <td>0.156740</td>\n",
              "      <td>0.273585</td>\n",
              "      <td>-0.040286</td>\n",
              "    </tr>\n",
              "    <tr>\n",
              "      <th>bathrooms</th>\n",
              "      <td>0.583605</td>\n",
              "      <td>1.000000</td>\n",
              "      <td>0.020357</td>\n",
              "      <td>0.441260</td>\n",
              "      <td>0.105226</td>\n",
              "      <td>0.271189</td>\n",
              "      <td>-0.014962</td>\n",
              "      <td>0.647486</td>\n",
              "      <td>0.670708</td>\n",
              "      <td>0.479878</td>\n",
              "      <td>0.137468</td>\n",
              "      <td>0.252638</td>\n",
              "      <td>0.465997</td>\n",
              "      <td>0.042977</td>\n",
              "    </tr>\n",
              "    <tr>\n",
              "      <th>sqft_lot</th>\n",
              "      <td>-0.006519</td>\n",
              "      <td>0.020357</td>\n",
              "      <td>1.000000</td>\n",
              "      <td>-0.061993</td>\n",
              "      <td>0.042009</td>\n",
              "      <td>0.011554</td>\n",
              "      <td>0.023896</td>\n",
              "      <td>0.000076</td>\n",
              "      <td>0.128745</td>\n",
              "      <td>0.004726</td>\n",
              "      <td>0.093371</td>\n",
              "      <td>-0.070969</td>\n",
              "      <td>0.164726</td>\n",
              "      <td>0.790744</td>\n",
              "    </tr>\n",
              "    <tr>\n",
              "      <th>floors</th>\n",
              "      <td>0.291424</td>\n",
              "      <td>0.441260</td>\n",
              "      <td>-0.061993</td>\n",
              "      <td>1.000000</td>\n",
              "      <td>0.069610</td>\n",
              "      <td>0.174611</td>\n",
              "      <td>0.019196</td>\n",
              "      <td>0.416875</td>\n",
              "      <td>0.540576</td>\n",
              "      <td>-0.074566</td>\n",
              "      <td>-0.095266</td>\n",
              "      <td>0.049459</td>\n",
              "      <td>0.206796</td>\n",
              "      <td>-0.055639</td>\n",
              "    </tr>\n",
              "    <tr>\n",
              "      <th>waterfront</th>\n",
              "      <td>-0.040199</td>\n",
              "      <td>0.105226</td>\n",
              "      <td>0.042009</td>\n",
              "      <td>0.069610</td>\n",
              "      <td>1.000000</td>\n",
              "      <td>0.572649</td>\n",
              "      <td>0.067117</td>\n",
              "      <td>0.143750</td>\n",
              "      <td>0.152597</td>\n",
              "      <td>0.101990</td>\n",
              "      <td>0.060946</td>\n",
              "      <td>-0.105547</td>\n",
              "      <td>0.212484</td>\n",
              "      <td>0.092014</td>\n",
              "    </tr>\n",
              "    <tr>\n",
              "      <th>view</th>\n",
              "      <td>0.053262</td>\n",
              "      <td>0.271189</td>\n",
              "      <td>0.011554</td>\n",
              "      <td>0.174611</td>\n",
              "      <td>0.572649</td>\n",
              "      <td>1.000000</td>\n",
              "      <td>0.069236</td>\n",
              "      <td>0.379965</td>\n",
              "      <td>0.272991</td>\n",
              "      <td>0.282875</td>\n",
              "      <td>0.052247</td>\n",
              "      <td>-0.054921</td>\n",
              "      <td>0.441441</td>\n",
              "      <td>0.048982</td>\n",
              "    </tr>\n",
              "    <tr>\n",
              "      <th>condition</th>\n",
              "      <td>0.004406</td>\n",
              "      <td>-0.014962</td>\n",
              "      <td>0.023896</td>\n",
              "      <td>0.019196</td>\n",
              "      <td>0.067117</td>\n",
              "      <td>0.069236</td>\n",
              "      <td>1.000000</td>\n",
              "      <td>0.008420</td>\n",
              "      <td>0.022540</td>\n",
              "      <td>-0.005006</td>\n",
              "      <td>-0.094876</td>\n",
              "      <td>-0.369285</td>\n",
              "      <td>0.040926</td>\n",
              "      <td>0.037250</td>\n",
              "    </tr>\n",
              "    <tr>\n",
              "      <th>grade</th>\n",
              "      <td>0.358605</td>\n",
              "      <td>0.647486</td>\n",
              "      <td>0.000076</td>\n",
              "      <td>0.416875</td>\n",
              "      <td>0.143750</td>\n",
              "      <td>0.379965</td>\n",
              "      <td>0.008420</td>\n",
              "      <td>1.000000</td>\n",
              "      <td>0.667815</td>\n",
              "      <td>0.398170</td>\n",
              "      <td>0.180548</td>\n",
              "      <td>0.240556</td>\n",
              "      <td>0.633876</td>\n",
              "      <td>0.015348</td>\n",
              "    </tr>\n",
              "    <tr>\n",
              "      <th>sqft_above</th>\n",
              "      <td>0.469379</td>\n",
              "      <td>0.670708</td>\n",
              "      <td>0.128745</td>\n",
              "      <td>0.540576</td>\n",
              "      <td>0.152597</td>\n",
              "      <td>0.272991</td>\n",
              "      <td>0.022540</td>\n",
              "      <td>0.667815</td>\n",
              "      <td>1.000000</td>\n",
              "      <td>0.174493</td>\n",
              "      <td>0.204230</td>\n",
              "      <td>0.060187</td>\n",
              "      <td>0.568875</td>\n",
              "      <td>0.139567</td>\n",
              "    </tr>\n",
              "    <tr>\n",
              "      <th>sqft_basement</th>\n",
              "      <td>0.345219</td>\n",
              "      <td>0.479878</td>\n",
              "      <td>0.004726</td>\n",
              "      <td>-0.074566</td>\n",
              "      <td>0.101990</td>\n",
              "      <td>0.282875</td>\n",
              "      <td>-0.005006</td>\n",
              "      <td>0.398170</td>\n",
              "      <td>0.174493</td>\n",
              "      <td>1.000000</td>\n",
              "      <td>-0.012919</td>\n",
              "      <td>0.182085</td>\n",
              "      <td>0.361434</td>\n",
              "      <td>0.007770</td>\n",
              "    </tr>\n",
              "    <tr>\n",
              "      <th>yr_built</th>\n",
              "      <td>0.081707</td>\n",
              "      <td>0.137468</td>\n",
              "      <td>0.093371</td>\n",
              "      <td>-0.095266</td>\n",
              "      <td>0.060946</td>\n",
              "      <td>0.052247</td>\n",
              "      <td>-0.094876</td>\n",
              "      <td>0.180548</td>\n",
              "      <td>0.204230</td>\n",
              "      <td>-0.012919</td>\n",
              "      <td>1.000000</td>\n",
              "      <td>0.248438</td>\n",
              "      <td>0.238861</td>\n",
              "      <td>0.132459</td>\n",
              "    </tr>\n",
              "    <tr>\n",
              "      <th>yr_renovated</th>\n",
              "      <td>0.156740</td>\n",
              "      <td>0.252638</td>\n",
              "      <td>-0.070969</td>\n",
              "      <td>0.049459</td>\n",
              "      <td>-0.105547</td>\n",
              "      <td>-0.054921</td>\n",
              "      <td>-0.369285</td>\n",
              "      <td>0.240556</td>\n",
              "      <td>0.060187</td>\n",
              "      <td>0.182085</td>\n",
              "      <td>0.248438</td>\n",
              "      <td>1.000000</td>\n",
              "      <td>0.046302</td>\n",
              "      <td>-0.044301</td>\n",
              "    </tr>\n",
              "    <tr>\n",
              "      <th>sqft_living15</th>\n",
              "      <td>0.273585</td>\n",
              "      <td>0.465997</td>\n",
              "      <td>0.164726</td>\n",
              "      <td>0.206796</td>\n",
              "      <td>0.212484</td>\n",
              "      <td>0.441441</td>\n",
              "      <td>0.040926</td>\n",
              "      <td>0.633876</td>\n",
              "      <td>0.568875</td>\n",
              "      <td>0.361434</td>\n",
              "      <td>0.238861</td>\n",
              "      <td>0.046302</td>\n",
              "      <td>1.000000</td>\n",
              "      <td>0.175256</td>\n",
              "    </tr>\n",
              "    <tr>\n",
              "      <th>sqft_lot15</th>\n",
              "      <td>-0.040286</td>\n",
              "      <td>0.042977</td>\n",
              "      <td>0.790744</td>\n",
              "      <td>-0.055639</td>\n",
              "      <td>0.092014</td>\n",
              "      <td>0.048982</td>\n",
              "      <td>0.037250</td>\n",
              "      <td>0.015348</td>\n",
              "      <td>0.139567</td>\n",
              "      <td>0.007770</td>\n",
              "      <td>0.132459</td>\n",
              "      <td>-0.044301</td>\n",
              "      <td>0.175256</td>\n",
              "      <td>1.000000</td>\n",
              "    </tr>\n",
              "  </tbody>\n",
              "</table>\n",
              "</div>"
            ],
            "text/plain": [
              "               bedrooms  bathrooms  ...  sqft_living15  sqft_lot15\n",
              "bedrooms       1.000000   0.583605  ...       0.273585   -0.040286\n",
              "bathrooms      0.583605   1.000000  ...       0.465997    0.042977\n",
              "sqft_lot      -0.006519   0.020357  ...       0.164726    0.790744\n",
              "floors         0.291424   0.441260  ...       0.206796   -0.055639\n",
              "waterfront    -0.040199   0.105226  ...       0.212484    0.092014\n",
              "view           0.053262   0.271189  ...       0.441441    0.048982\n",
              "condition      0.004406  -0.014962  ...       0.040926    0.037250\n",
              "grade          0.358605   0.647486  ...       0.633876    0.015348\n",
              "sqft_above     0.469379   0.670708  ...       0.568875    0.139567\n",
              "sqft_basement  0.345219   0.479878  ...       0.361434    0.007770\n",
              "yr_built       0.081707   0.137468  ...       0.238861    0.132459\n",
              "yr_renovated   0.156740   0.252638  ...       0.046302   -0.044301\n",
              "sqft_living15  0.273585   0.465997  ...       1.000000    0.175256\n",
              "sqft_lot15    -0.040286   0.042977  ...       0.175256    1.000000\n",
              "\n",
              "[14 rows x 14 columns]"
            ]
          },
          "metadata": {
            "tags": []
          },
          "execution_count": 216
        }
      ]
    },
    {
      "cell_type": "code",
      "metadata": {
        "colab": {
          "base_uri": "https://localhost:8080/",
          "height": 496
        },
        "id": "JI88IN7UlJ2s",
        "outputId": "15085e68-88fe-4f17-c776-150789b790f8"
      },
      "source": [
        "pd.DataFrame(np.linalg.inv(correlations.values), index = correlations.index, columns=correlations.columns)"
      ],
      "execution_count": null,
      "outputs": [
        {
          "output_type": "execute_result",
          "data": {
            "text/html": [
              "<div>\n",
              "<style scoped>\n",
              "    .dataframe tbody tr th:only-of-type {\n",
              "        vertical-align: middle;\n",
              "    }\n",
              "\n",
              "    .dataframe tbody tr th {\n",
              "        vertical-align: top;\n",
              "    }\n",
              "\n",
              "    .dataframe thead th {\n",
              "        text-align: right;\n",
              "    }\n",
              "</style>\n",
              "<table border=\"1\" class=\"dataframe\">\n",
              "  <thead>\n",
              "    <tr style=\"text-align: right;\">\n",
              "      <th></th>\n",
              "      <th>bedrooms</th>\n",
              "      <th>bathrooms</th>\n",
              "      <th>sqft_lot</th>\n",
              "      <th>floors</th>\n",
              "      <th>waterfront</th>\n",
              "      <th>view</th>\n",
              "      <th>condition</th>\n",
              "      <th>grade</th>\n",
              "      <th>sqft_above</th>\n",
              "      <th>sqft_basement</th>\n",
              "      <th>yr_built</th>\n",
              "      <th>yr_renovated</th>\n",
              "      <th>sqft_living15</th>\n",
              "      <th>sqft_lot15</th>\n",
              "    </tr>\n",
              "  </thead>\n",
              "  <tbody>\n",
              "    <tr>\n",
              "      <th>bedrooms</th>\n",
              "      <td>1.680123</td>\n",
              "      <td>-0.682632</td>\n",
              "      <td>-0.098861</td>\n",
              "      <td>-0.108197</td>\n",
              "      <td>0.099455</td>\n",
              "      <td>0.175817</td>\n",
              "      <td>-0.054609</td>\n",
              "      <td>0.262534</td>\n",
              "      <td>-0.448950</td>\n",
              "      <td>-0.333670</td>\n",
              "      <td>-0.038197</td>\n",
              "      <td>-0.047883</td>\n",
              "      <td>-0.017144</td>\n",
              "      <td>0.220612</td>\n",
              "    </tr>\n",
              "    <tr>\n",
              "      <th>bathrooms</th>\n",
              "      <td>-0.682632</td>\n",
              "      <td>3.084102</td>\n",
              "      <td>0.120467</td>\n",
              "      <td>-0.476576</td>\n",
              "      <td>-0.015632</td>\n",
              "      <td>-0.055170</td>\n",
              "      <td>-0.040283</td>\n",
              "      <td>-0.476445</td>\n",
              "      <td>-1.031172</td>\n",
              "      <td>-0.879531</td>\n",
              "      <td>-0.070562</td>\n",
              "      <td>-0.317223</td>\n",
              "      <td>0.120898</td>\n",
              "      <td>-0.144012</td>\n",
              "    </tr>\n",
              "    <tr>\n",
              "      <th>sqft_lot</th>\n",
              "      <td>-0.098861</td>\n",
              "      <td>0.120467</td>\n",
              "      <td>2.726518</td>\n",
              "      <td>0.084584</td>\n",
              "      <td>0.065907</td>\n",
              "      <td>0.069683</td>\n",
              "      <td>0.054350</td>\n",
              "      <td>0.087092</td>\n",
              "      <td>-0.150379</td>\n",
              "      <td>-0.009736</td>\n",
              "      <td>0.052141</td>\n",
              "      <td>0.094940</td>\n",
              "      <td>-0.152722</td>\n",
              "      <td>-2.128143</td>\n",
              "    </tr>\n",
              "    <tr>\n",
              "      <th>floors</th>\n",
              "      <td>-0.108197</td>\n",
              "      <td>-0.476576</td>\n",
              "      <td>0.084584</td>\n",
              "      <td>1.841055</td>\n",
              "      <td>0.027852</td>\n",
              "      <td>-0.185239</td>\n",
              "      <td>-0.004819</td>\n",
              "      <td>-0.351937</td>\n",
              "      <td>-0.667713</td>\n",
              "      <td>0.656306</td>\n",
              "      <td>0.419542</td>\n",
              "      <td>-0.061771</td>\n",
              "      <td>0.190914</td>\n",
              "      <td>0.060089</td>\n",
              "    </tr>\n",
              "    <tr>\n",
              "      <th>waterfront</th>\n",
              "      <td>0.099455</td>\n",
              "      <td>-0.015632</td>\n",
              "      <td>0.065907</td>\n",
              "      <td>0.027852</td>\n",
              "      <td>1.539033</td>\n",
              "      <td>-0.918231</td>\n",
              "      <td>-0.015296</td>\n",
              "      <td>0.137190</td>\n",
              "      <td>-0.151613</td>\n",
              "      <td>0.007932</td>\n",
              "      <td>-0.072138</td>\n",
              "      <td>0.081771</td>\n",
              "      <td>0.073781</td>\n",
              "      <td>-0.122714</td>\n",
              "    </tr>\n",
              "    <tr>\n",
              "      <th>view</th>\n",
              "      <td>0.175817</td>\n",
              "      <td>-0.055170</td>\n",
              "      <td>0.069683</td>\n",
              "      <td>-0.185239</td>\n",
              "      <td>-0.918231</td>\n",
              "      <td>1.916837</td>\n",
              "      <td>-0.004047</td>\n",
              "      <td>-0.275703</td>\n",
              "      <td>0.148918</td>\n",
              "      <td>-0.266032</td>\n",
              "      <td>0.020007</td>\n",
              "      <td>0.130315</td>\n",
              "      <td>-0.472156</td>\n",
              "      <td>0.006182</td>\n",
              "    </tr>\n",
              "    <tr>\n",
              "      <th>condition</th>\n",
              "      <td>-0.054609</td>\n",
              "      <td>-0.040283</td>\n",
              "      <td>0.054350</td>\n",
              "      <td>-0.004819</td>\n",
              "      <td>-0.015296</td>\n",
              "      <td>-0.004047</td>\n",
              "      <td>1.179324</td>\n",
              "      <td>-0.142835</td>\n",
              "      <td>0.095947</td>\n",
              "      <td>-0.002942</td>\n",
              "      <td>0.013355</td>\n",
              "      <td>0.478421</td>\n",
              "      <td>0.008088</td>\n",
              "      <td>-0.079205</td>\n",
              "    </tr>\n",
              "    <tr>\n",
              "      <th>grade</th>\n",
              "      <td>0.262534</td>\n",
              "      <td>-0.476445</td>\n",
              "      <td>0.087092</td>\n",
              "      <td>-0.351937</td>\n",
              "      <td>0.137190</td>\n",
              "      <td>-0.275703</td>\n",
              "      <td>-0.142835</td>\n",
              "      <td>2.881488</td>\n",
              "      <td>-0.928908</td>\n",
              "      <td>-0.429919</td>\n",
              "      <td>-0.053200</td>\n",
              "      <td>-0.450281</td>\n",
              "      <td>-0.831976</td>\n",
              "      <td>0.170474</td>\n",
              "    </tr>\n",
              "    <tr>\n",
              "      <th>sqft_above</th>\n",
              "      <td>-0.448950</td>\n",
              "      <td>-1.031172</td>\n",
              "      <td>-0.150379</td>\n",
              "      <td>-0.667713</td>\n",
              "      <td>-0.151613</td>\n",
              "      <td>0.148918</td>\n",
              "      <td>0.095947</td>\n",
              "      <td>-0.928908</td>\n",
              "      <td>3.195956</td>\n",
              "      <td>0.535216</td>\n",
              "      <td>-0.269123</td>\n",
              "      <td>0.402837</td>\n",
              "      <td>-0.619824</td>\n",
              "      <td>-0.162756</td>\n",
              "    </tr>\n",
              "    <tr>\n",
              "      <th>sqft_basement</th>\n",
              "      <td>-0.333670</td>\n",
              "      <td>-0.879531</td>\n",
              "      <td>-0.009736</td>\n",
              "      <td>0.656306</td>\n",
              "      <td>0.007932</td>\n",
              "      <td>-0.266032</td>\n",
              "      <td>-0.002942</td>\n",
              "      <td>-0.429919</td>\n",
              "      <td>0.535216</td>\n",
              "      <td>1.868544</td>\n",
              "      <td>0.313659</td>\n",
              "      <td>-0.106630</td>\n",
              "      <td>-0.295061</td>\n",
              "      <td>0.003805</td>\n",
              "    </tr>\n",
              "    <tr>\n",
              "      <th>yr_built</th>\n",
              "      <td>-0.038197</td>\n",
              "      <td>-0.070562</td>\n",
              "      <td>0.052141</td>\n",
              "      <td>0.419542</td>\n",
              "      <td>-0.072138</td>\n",
              "      <td>0.020007</td>\n",
              "      <td>0.013355</td>\n",
              "      <td>-0.053200</td>\n",
              "      <td>-0.269123</td>\n",
              "      <td>0.313659</td>\n",
              "      <td>1.277450</td>\n",
              "      <td>-0.334291</td>\n",
              "      <td>-0.241775</td>\n",
              "      <td>-0.116939</td>\n",
              "    </tr>\n",
              "    <tr>\n",
              "      <th>yr_renovated</th>\n",
              "      <td>-0.047883</td>\n",
              "      <td>-0.317223</td>\n",
              "      <td>0.094940</td>\n",
              "      <td>-0.061771</td>\n",
              "      <td>0.081771</td>\n",
              "      <td>0.130315</td>\n",
              "      <td>0.478421</td>\n",
              "      <td>-0.450281</td>\n",
              "      <td>0.402837</td>\n",
              "      <td>-0.106630</td>\n",
              "      <td>-0.334291</td>\n",
              "      <td>1.464889</td>\n",
              "      <td>0.182640</td>\n",
              "      <td>-0.069851</td>\n",
              "    </tr>\n",
              "    <tr>\n",
              "      <th>sqft_living15</th>\n",
              "      <td>-0.017144</td>\n",
              "      <td>0.120898</td>\n",
              "      <td>-0.152722</td>\n",
              "      <td>0.190914</td>\n",
              "      <td>0.073781</td>\n",
              "      <td>-0.472156</td>\n",
              "      <td>0.008088</td>\n",
              "      <td>-0.831976</td>\n",
              "      <td>-0.619824</td>\n",
              "      <td>-0.295061</td>\n",
              "      <td>-0.241775</td>\n",
              "      <td>0.182640</td>\n",
              "      <td>2.179673</td>\n",
              "      <td>-0.098779</td>\n",
              "    </tr>\n",
              "    <tr>\n",
              "      <th>sqft_lot15</th>\n",
              "      <td>0.220612</td>\n",
              "      <td>-0.144012</td>\n",
              "      <td>-2.128143</td>\n",
              "      <td>0.060089</td>\n",
              "      <td>-0.122714</td>\n",
              "      <td>0.006182</td>\n",
              "      <td>-0.079205</td>\n",
              "      <td>0.170474</td>\n",
              "      <td>-0.162756</td>\n",
              "      <td>0.003805</td>\n",
              "      <td>-0.116939</td>\n",
              "      <td>-0.069851</td>\n",
              "      <td>-0.098779</td>\n",
              "      <td>2.764953</td>\n",
              "    </tr>\n",
              "  </tbody>\n",
              "</table>\n",
              "</div>"
            ],
            "text/plain": [
              "               bedrooms  bathrooms  ...  sqft_living15  sqft_lot15\n",
              "bedrooms       1.680123  -0.682632  ...      -0.017144    0.220612\n",
              "bathrooms     -0.682632   3.084102  ...       0.120898   -0.144012\n",
              "sqft_lot      -0.098861   0.120467  ...      -0.152722   -2.128143\n",
              "floors        -0.108197  -0.476576  ...       0.190914    0.060089\n",
              "waterfront     0.099455  -0.015632  ...       0.073781   -0.122714\n",
              "view           0.175817  -0.055170  ...      -0.472156    0.006182\n",
              "condition     -0.054609  -0.040283  ...       0.008088   -0.079205\n",
              "grade          0.262534  -0.476445  ...      -0.831976    0.170474\n",
              "sqft_above    -0.448950  -1.031172  ...      -0.619824   -0.162756\n",
              "sqft_basement -0.333670  -0.879531  ...      -0.295061    0.003805\n",
              "yr_built      -0.038197  -0.070562  ...      -0.241775   -0.116939\n",
              "yr_renovated  -0.047883  -0.317223  ...       0.182640   -0.069851\n",
              "sqft_living15 -0.017144   0.120898  ...       2.179673   -0.098779\n",
              "sqft_lot15     0.220612  -0.144012  ...      -0.098779    2.764953\n",
              "\n",
              "[14 rows x 14 columns]"
            ]
          },
          "metadata": {
            "tags": []
          },
          "execution_count": 217
        }
      ]
    },
    {
      "cell_type": "markdown",
      "metadata": {
        "id": "Rp3zZ08_kabP"
      },
      "source": [
        "Our data improved after we got rid of the sqrftliving  column"
      ]
    },
    {
      "cell_type": "markdown",
      "metadata": {
        "id": "GI_wEORamKdb"
      },
      "source": [
        "## USING THE MULTIPLE LINEAR REGRESSION"
      ]
    },
    {
      "cell_type": "code",
      "metadata": {
        "id": "VRMzyq4IYe0I",
        "colab": {
          "base_uri": "https://localhost:8080/"
        },
        "outputId": "f9417f31-8c1d-4d5b-d4a9-646f1cdf985f"
      },
      "source": [
        "hp_df.shape"
      ],
      "execution_count": null,
      "outputs": [
        {
          "output_type": "execute_result",
          "data": {
            "text/plain": [
              "(21610, 20)"
            ]
          },
          "metadata": {
            "tags": []
          },
          "execution_count": 174
        }
      ]
    },
    {
      "cell_type": "code",
      "metadata": {
        "id": "Gs1WTNdgYhrp",
        "colab": {
          "base_uri": "https://localhost:8080/"
        },
        "outputId": "d5bd1983-165e-40ac-f43d-8005d2885f7f"
      },
      "source": [
        "hp_df.columns"
      ],
      "execution_count": null,
      "outputs": [
        {
          "output_type": "execute_result",
          "data": {
            "text/plain": [
              "Index(['id', 'price', 'bedrooms', 'bathrooms', 'sqft_living', 'sqft_lot',\n",
              "       'floors', 'waterfront', 'view', 'condition', 'grade', 'sqft_above',\n",
              "       'sqft_basement', 'yr_built', 'yr_renovated', 'zipcode', 'lat', 'long',\n",
              "       'sqft_living15', 'sqft_lot15'],\n",
              "      dtype='object')"
            ]
          },
          "metadata": {
            "tags": []
          },
          "execution_count": 175
        }
      ]
    },
    {
      "cell_type": "code",
      "metadata": {
        "id": "RxgqN1C6c_fX"
      },
      "source": [
        "#We label encoded year since t is a categorical variable\n",
        "from sklearn.preprocessing import LabelEncoder\n",
        "\n",
        "labelencoder = LabelEncoder()\n",
        "hp_df['yr_built'] = labelencoder.fit_transform(hp_df['yr_built'])"
      ],
      "execution_count": null,
      "outputs": []
    },
    {
      "cell_type": "code",
      "metadata": {
        "id": "Je6HY52wdLns"
      },
      "source": [
        "hp_df['yr_renovated'] = labelencoder.fit_transform(hp_df['yr_renovated'])"
      ],
      "execution_count": null,
      "outputs": []
    },
    {
      "cell_type": "code",
      "metadata": {
        "id": "z9n8EtrvdZGC",
        "colab": {
          "base_uri": "https://localhost:8080/"
        },
        "outputId": "f5551dbb-e9de-476d-abdb-bf99b1b24c6c"
      },
      "source": [
        "hp_df.yr_renovated.value_counts()"
      ],
      "execution_count": null,
      "outputs": [
        {
          "output_type": "execute_result",
          "data": {
            "text/plain": [
              "0     20697\n",
              "68       91\n",
              "67       37\n",
              "57       36\n",
              "54       35\n",
              "      ...  \n",
              "8         1\n",
              "15        1\n",
              "1         1\n",
              "10        1\n",
              "3         1\n",
              "Name: yr_renovated, Length: 70, dtype: int64"
            ]
          },
          "metadata": {
            "tags": []
          },
          "execution_count": 178
        }
      ]
    },
    {
      "cell_type": "code",
      "metadata": {
        "id": "fQ0ZqmXhfl_n"
      },
      "source": [
        "#we filtered to make sure the year renovated was greater than 0\n",
        "hp_df = hp_df[hp_df[\"yr_renovated\"] > 0]"
      ],
      "execution_count": null,
      "outputs": []
    },
    {
      "cell_type": "code",
      "metadata": {
        "id": "eshO3cLGWdf-"
      },
      "source": [
        "X = hp_df[['bedrooms','bathrooms','sqft_living','sqft_lot','floors','waterfront','view','condition',\n",
        "             'grade','sqft_above','sqft_basement','yr_built','yr_renovated','sqft_living15','sqft_lot15']]\n",
        "\n",
        "y = hp_df['price']"
      ],
      "execution_count": null,
      "outputs": []
    },
    {
      "cell_type": "code",
      "metadata": {
        "id": "qOEtbJh1c97K"
      },
      "source": [
        "from sklearn.model_selection import train_test_split\n",
        "X_train, X_test, y_train, y_test = train_test_split(X, y, test_size=0.2, random_state=0)"
      ],
      "execution_count": null,
      "outputs": []
    },
    {
      "cell_type": "code",
      "metadata": {
        "id": "6r3vZjwGdsks",
        "colab": {
          "base_uri": "https://localhost:8080/"
        },
        "outputId": "5eec80b7-4a79-4487-d974-600844e9e284"
      },
      "source": [
        "from sklearn.linear_model import LinearRegression\n",
        "regressor = LinearRegression()\n",
        "regressor.fit(X_train, y_train)\n"
      ],
      "execution_count": null,
      "outputs": [
        {
          "output_type": "execute_result",
          "data": {
            "text/plain": [
              "LinearRegression(copy_X=True, fit_intercept=True, n_jobs=None, normalize=False)"
            ]
          },
          "metadata": {
            "tags": []
          },
          "execution_count": 182
        }
      ]
    },
    {
      "cell_type": "code",
      "metadata": {
        "id": "ZMFu9eeddxek",
        "colab": {
          "base_uri": "https://localhost:8080/",
          "height": 506
        },
        "outputId": "e1ef2084-bea4-4f11-dd35-e0b0c60f57f3"
      },
      "source": [
        "coeff_df = pd.DataFrame(regressor.coef_, X.columns, columns=['Coefficient'])\n",
        "coeff_df"
      ],
      "execution_count": null,
      "outputs": [
        {
          "output_type": "execute_result",
          "data": {
            "text/html": [
              "<div>\n",
              "<style scoped>\n",
              "    .dataframe tbody tr th:only-of-type {\n",
              "        vertical-align: middle;\n",
              "    }\n",
              "\n",
              "    .dataframe tbody tr th {\n",
              "        vertical-align: top;\n",
              "    }\n",
              "\n",
              "    .dataframe thead th {\n",
              "        text-align: right;\n",
              "    }\n",
              "</style>\n",
              "<table border=\"1\" class=\"dataframe\">\n",
              "  <thead>\n",
              "    <tr style=\"text-align: right;\">\n",
              "      <th></th>\n",
              "      <th>Coefficient</th>\n",
              "    </tr>\n",
              "  </thead>\n",
              "  <tbody>\n",
              "    <tr>\n",
              "      <th>bedrooms</th>\n",
              "      <td>-63975.416154</td>\n",
              "    </tr>\n",
              "    <tr>\n",
              "      <th>bathrooms</th>\n",
              "      <td>-22299.853920</td>\n",
              "    </tr>\n",
              "    <tr>\n",
              "      <th>sqft_living</th>\n",
              "      <td>227.469754</td>\n",
              "    </tr>\n",
              "    <tr>\n",
              "      <th>sqft_lot</th>\n",
              "      <td>-0.542357</td>\n",
              "    </tr>\n",
              "    <tr>\n",
              "      <th>floors</th>\n",
              "      <td>-118637.891475</td>\n",
              "    </tr>\n",
              "    <tr>\n",
              "      <th>waterfront</th>\n",
              "      <td>497924.271366</td>\n",
              "    </tr>\n",
              "    <tr>\n",
              "      <th>view</th>\n",
              "      <td>-2455.751646</td>\n",
              "    </tr>\n",
              "    <tr>\n",
              "      <th>condition</th>\n",
              "      <td>23927.393991</td>\n",
              "    </tr>\n",
              "    <tr>\n",
              "      <th>grade</th>\n",
              "      <td>120066.910742</td>\n",
              "    </tr>\n",
              "    <tr>\n",
              "      <th>sqft_above</th>\n",
              "      <td>132.079704</td>\n",
              "    </tr>\n",
              "    <tr>\n",
              "      <th>sqft_basement</th>\n",
              "      <td>95.390050</td>\n",
              "    </tr>\n",
              "    <tr>\n",
              "      <th>yr_built</th>\n",
              "      <td>-3172.890180</td>\n",
              "    </tr>\n",
              "    <tr>\n",
              "      <th>yr_renovated</th>\n",
              "      <td>2246.403083</td>\n",
              "    </tr>\n",
              "    <tr>\n",
              "      <th>sqft_living15</th>\n",
              "      <td>172.952994</td>\n",
              "    </tr>\n",
              "    <tr>\n",
              "      <th>sqft_lot15</th>\n",
              "      <td>-1.772436</td>\n",
              "    </tr>\n",
              "  </tbody>\n",
              "</table>\n",
              "</div>"
            ],
            "text/plain": [
              "                 Coefficient\n",
              "bedrooms       -63975.416154\n",
              "bathrooms      -22299.853920\n",
              "sqft_living       227.469754\n",
              "sqft_lot           -0.542357\n",
              "floors        -118637.891475\n",
              "waterfront     497924.271366\n",
              "view            -2455.751646\n",
              "condition       23927.393991\n",
              "grade          120066.910742\n",
              "sqft_above        132.079704\n",
              "sqft_basement      95.390050\n",
              "yr_built        -3172.890180\n",
              "yr_renovated     2246.403083\n",
              "sqft_living15     172.952994\n",
              "sqft_lot15         -1.772436"
            ]
          },
          "metadata": {
            "tags": []
          },
          "execution_count": 183
        }
      ]
    },
    {
      "cell_type": "code",
      "metadata": {
        "id": "eSZEAWo-d32S",
        "colab": {
          "base_uri": "https://localhost:8080/",
          "height": 413
        },
        "outputId": "0493c52f-370e-4738-8a56-ae83cfe67a44"
      },
      "source": [
        "# Making Predictions\n",
        "# ---\n",
        "# To make pre-dictions on the test data, execute the following\n",
        "# ---\n",
        "# \n",
        "y_pred = regressor.predict(X_test)\n",
        "\n",
        "# To compare the actual output values for X_test with the predicted values\n",
        "# \n",
        "df = pd.DataFrame({'Actual': y_test, 'Predicted': y_pred})\n",
        "df\n"
      ],
      "execution_count": null,
      "outputs": [
        {
          "output_type": "execute_result",
          "data": {
            "text/html": [
              "<div>\n",
              "<style scoped>\n",
              "    .dataframe tbody tr th:only-of-type {\n",
              "        vertical-align: middle;\n",
              "    }\n",
              "\n",
              "    .dataframe tbody tr th {\n",
              "        vertical-align: top;\n",
              "    }\n",
              "\n",
              "    .dataframe thead th {\n",
              "        text-align: right;\n",
              "    }\n",
              "</style>\n",
              "<table border=\"1\" class=\"dataframe\">\n",
              "  <thead>\n",
              "    <tr style=\"text-align: right;\">\n",
              "      <th></th>\n",
              "      <th>Actual</th>\n",
              "      <th>Predicted</th>\n",
              "    </tr>\n",
              "  </thead>\n",
              "  <tbody>\n",
              "    <tr>\n",
              "      <th>5328</th>\n",
              "      <td>385000.0</td>\n",
              "      <td>2.870362e+05</td>\n",
              "    </tr>\n",
              "    <tr>\n",
              "      <th>15350</th>\n",
              "      <td>900000.0</td>\n",
              "      <td>7.315446e+05</td>\n",
              "    </tr>\n",
              "    <tr>\n",
              "      <th>3054</th>\n",
              "      <td>308000.0</td>\n",
              "      <td>3.890082e+05</td>\n",
              "    </tr>\n",
              "    <tr>\n",
              "      <th>16622</th>\n",
              "      <td>675000.0</td>\n",
              "      <td>1.086203e+06</td>\n",
              "    </tr>\n",
              "    <tr>\n",
              "      <th>3065</th>\n",
              "      <td>950000.0</td>\n",
              "      <td>9.367656e+05</td>\n",
              "    </tr>\n",
              "    <tr>\n",
              "      <th>...</th>\n",
              "      <td>...</td>\n",
              "      <td>...</td>\n",
              "    </tr>\n",
              "    <tr>\n",
              "      <th>19522</th>\n",
              "      <td>268000.0</td>\n",
              "      <td>3.946883e+05</td>\n",
              "    </tr>\n",
              "    <tr>\n",
              "      <th>13972</th>\n",
              "      <td>212000.0</td>\n",
              "      <td>3.319077e+05</td>\n",
              "    </tr>\n",
              "    <tr>\n",
              "      <th>16944</th>\n",
              "      <td>2300000.0</td>\n",
              "      <td>1.529085e+06</td>\n",
              "    </tr>\n",
              "    <tr>\n",
              "      <th>95</th>\n",
              "      <td>905000.0</td>\n",
              "      <td>9.857383e+05</td>\n",
              "    </tr>\n",
              "    <tr>\n",
              "      <th>9072</th>\n",
              "      <td>581000.0</td>\n",
              "      <td>5.603364e+05</td>\n",
              "    </tr>\n",
              "  </tbody>\n",
              "</table>\n",
              "<p>183 rows × 2 columns</p>\n",
              "</div>"
            ],
            "text/plain": [
              "          Actual     Predicted\n",
              "5328    385000.0  2.870362e+05\n",
              "15350   900000.0  7.315446e+05\n",
              "3054    308000.0  3.890082e+05\n",
              "16622   675000.0  1.086203e+06\n",
              "3065    950000.0  9.367656e+05\n",
              "...          ...           ...\n",
              "19522   268000.0  3.946883e+05\n",
              "13972   212000.0  3.319077e+05\n",
              "16944  2300000.0  1.529085e+06\n",
              "95      905000.0  9.857383e+05\n",
              "9072    581000.0  5.603364e+05\n",
              "\n",
              "[183 rows x 2 columns]"
            ]
          },
          "metadata": {
            "tags": []
          },
          "execution_count": 184
        }
      ]
    },
    {
      "cell_type": "code",
      "metadata": {
        "id": "-fDsWqZDeBUJ",
        "colab": {
          "base_uri": "https://localhost:8080/"
        },
        "outputId": "0db41f24-417d-4a6e-aa10-16e41a2ee948"
      },
      "source": [
        "from sklearn import metrics\n",
        "print('Mean Absolute Error:', metrics.mean_absolute_error(y_test, y_pred))\n",
        "print('Mean Squared Error:', metrics.mean_squared_error(y_test, y_pred))\n",
        "print('Root Mean Squared Error:', np.sqrt(metrics.mean_squared_error(y_test, y_pred)))\n"
      ],
      "execution_count": null,
      "outputs": [
        {
          "output_type": "stream",
          "text": [
            "Mean Absolute Error: 203841.77787673075\n",
            "Mean Squared Error: 79595614946.55832\n",
            "Root Mean Squared Error: 282126.9482813691\n"
          ],
          "name": "stdout"
        }
      ]
    },
    {
      "cell_type": "markdown",
      "metadata": {
        "id": "cLSwEFzjZaE_"
      },
      "source": [
        "### Barlettes Test for homoskedaticity"
      ]
    },
    {
      "cell_type": "code",
      "metadata": {
        "id": "wK6nwZTwZamX",
        "colab": {
          "base_uri": "https://localhost:8080/",
          "height": 293
        },
        "outputId": "b149dc35-a249-42c3-bf24-e47c4a092d54"
      },
      "source": [
        "residuals = np.subtract(y_pred, y_test)\n",
        "\n",
        "# Let's describe our residual:\n",
        "pd.DataFrame(residuals).describe()"
      ],
      "execution_count": null,
      "outputs": [
        {
          "output_type": "execute_result",
          "data": {
            "text/html": [
              "<div>\n",
              "<style scoped>\n",
              "    .dataframe tbody tr th:only-of-type {\n",
              "        vertical-align: middle;\n",
              "    }\n",
              "\n",
              "    .dataframe tbody tr th {\n",
              "        vertical-align: top;\n",
              "    }\n",
              "\n",
              "    .dataframe thead th {\n",
              "        text-align: right;\n",
              "    }\n",
              "</style>\n",
              "<table border=\"1\" class=\"dataframe\">\n",
              "  <thead>\n",
              "    <tr style=\"text-align: right;\">\n",
              "      <th></th>\n",
              "      <th>price</th>\n",
              "    </tr>\n",
              "  </thead>\n",
              "  <tbody>\n",
              "    <tr>\n",
              "      <th>count</th>\n",
              "      <td>1.830000e+02</td>\n",
              "    </tr>\n",
              "    <tr>\n",
              "      <th>mean</th>\n",
              "      <td>1.556287e+04</td>\n",
              "    </tr>\n",
              "    <tr>\n",
              "      <th>std</th>\n",
              "      <td>2.824702e+05</td>\n",
              "    </tr>\n",
              "    <tr>\n",
              "      <th>min</th>\n",
              "      <td>-1.287624e+06</td>\n",
              "    </tr>\n",
              "    <tr>\n",
              "      <th>25%</th>\n",
              "      <td>-1.331952e+05</td>\n",
              "    </tr>\n",
              "    <tr>\n",
              "      <th>50%</th>\n",
              "      <td>8.522260e+03</td>\n",
              "    </tr>\n",
              "    <tr>\n",
              "      <th>75%</th>\n",
              "      <td>1.716422e+05</td>\n",
              "    </tr>\n",
              "    <tr>\n",
              "      <th>max</th>\n",
              "      <td>1.093306e+06</td>\n",
              "    </tr>\n",
              "  </tbody>\n",
              "</table>\n",
              "</div>"
            ],
            "text/plain": [
              "              price\n",
              "count  1.830000e+02\n",
              "mean   1.556287e+04\n",
              "std    2.824702e+05\n",
              "min   -1.287624e+06\n",
              "25%   -1.331952e+05\n",
              "50%    8.522260e+03\n",
              "75%    1.716422e+05\n",
              "max    1.093306e+06"
            ]
          },
          "metadata": {
            "tags": []
          },
          "execution_count": 186
        }
      ]
    },
    {
      "cell_type": "code",
      "metadata": {
        "id": "JLchcg1PZtzk",
        "colab": {
          "base_uri": "https://localhost:8080/"
        },
        "outputId": "150730da-c31a-4057-e178-ca5711885568"
      },
      "source": [
        "residuals.mean()"
      ],
      "execution_count": null,
      "outputs": [
        {
          "output_type": "execute_result",
          "data": {
            "text/plain": [
              "15562.86958741617"
            ]
          },
          "metadata": {
            "tags": []
          },
          "execution_count": 187
        }
      ]
    },
    {
      "cell_type": "code",
      "metadata": {
        "id": "0o9zlsa1Zwt_",
        "colab": {
          "base_uri": "https://localhost:8080/"
        },
        "outputId": "7a4ead33-175e-447d-9890-00f30b321741"
      },
      "source": [
        "import scipy as sp\n",
        "\n",
        "test_result, p_value = sp.stats.bartlett(y_pred, residuals)\n",
        "test_result, p_value"
      ],
      "execution_count": null,
      "outputs": [
        {
          "output_type": "execute_result",
          "data": {
            "text/plain": [
              "(44.53121584627878, 2.503338166097669e-11)"
            ]
          },
          "metadata": {
            "tags": []
          },
          "execution_count": 188
        }
      ]
    },
    {
      "cell_type": "code",
      "metadata": {
        "id": "cdTodNhMZ0FG",
        "colab": {
          "base_uri": "https://localhost:8080/"
        },
        "outputId": "c36dac15-6a61-4371-dc95-acd1567f9501"
      },
      "source": [
        "degree_of_freedom = len(y_pred)-1\n",
        "probability = 1 - p_value\n",
        "\n",
        "critical_value = sp.stats.chi2.ppf(probability, degree_of_freedom)\n",
        "print(critical_value)\n"
      ],
      "execution_count": null,
      "outputs": [
        {
          "output_type": "stream",
          "text": [
            "336.7137905405628\n"
          ],
          "name": "stdout"
        }
      ]
    },
    {
      "cell_type": "code",
      "metadata": {
        "id": "kdbUASa3Z5zb",
        "colab": {
          "base_uri": "https://localhost:8080/"
        },
        "outputId": "61c3ea02-9601-40c9-d6c8-c8ab043f4302"
      },
      "source": [
        "if (test_result > critical_value):\n",
        "  print('the variances are unequal, and the model should be reassessed')\n",
        "else:\n",
        "  print('the variances are homogeneous!')"
      ],
      "execution_count": null,
      "outputs": [
        {
          "output_type": "stream",
          "text": [
            "the variances are homogeneous!\n"
          ],
          "name": "stdout"
        }
      ]
    },
    {
      "cell_type": "code",
      "metadata": {
        "colab": {
          "base_uri": "https://localhost:8080/",
          "height": 888
        },
        "id": "yD947Lixu2JV",
        "outputId": "1a5b357c-ffa5-4957-d8dd-9d8b6a65e518"
      },
      "source": [
        "import matplotlib.pyplot as plt\n",
        "#residual plot for homoskedaticity\n",
        "\n",
        "plt.figure(figsize = (15,15))\n",
        "plt.scatter(y_pred, residuals, color='midnightblue')\n",
        "plt.ylabel('residual')\n",
        "plt.xlabel('fitted values')\n",
        "plt.axhline(y= residuals.mean(), color='red', linewidth=1)\n",
        "plt.show()"
      ],
      "execution_count": null,
      "outputs": [
        {
          "output_type": "display_data",
          "data": {
            "image/png": "[encoded data removed]",
            "text/plain": [
              "<Figure size 1080x1080 with 1 Axes>"
            ]
          },
          "metadata": {
            "tags": [],
            "needs_background": "light"
          }
        }
      ]
    },
    {
      "cell_type": "markdown",
      "metadata": {
        "id": "zoGTv2TVazVq"
      },
      "source": [
        "### QUANTILE REGRESSION\n",
        "\n"
      ]
    },
    {
      "cell_type": "code",
      "metadata": {
        "id": "lmIuzMGUl5JF",
        "colab": {
          "base_uri": "https://localhost:8080/"
        },
        "outputId": "5700aa45-d5af-459c-c8af-1f15116ab850"
      },
      "source": [
        "from sklearn.linear_model import LinearRegression\n",
        "\n",
        "X = hp_df[['bedrooms','bathrooms','sqft_living','sqft_lot','floors','waterfront','view','condition',\n",
        "             'grade','sqft_above','sqft_basement','yr_built','yr_renovated','sqft_living15','sqft_lot15']]\n",
        "\n",
        "y = hp_df['price']\n",
        "\n",
        "model1 = LinearRegression(fit_intercept = True, normalize = False)\n",
        "model1.fit(X, y)\n",
        "\n",
        "y_pred1 = model1.predict(X)\n",
        "\n",
        "print(\"Mean squared error: {0:.2f}\"\n",
        "      .format(np.mean((y_pred1 - y) ** 2)))\n",
        "print('Variance score: {0:.2f}'.format(model1.score(X, y)))\n"
      ],
      "execution_count": null,
      "outputs": [
        {
          "output_type": "stream",
          "text": [
            "Mean squared error: 93260961894.70\n",
            "Variance score: 0.75\n"
          ],
          "name": "stdout"
        }
      ]
    },
    {
      "cell_type": "code",
      "metadata": {
        "id": "mm17SCWovS36"
      },
      "source": [
        "X_train, X_test, y_train, y_test = train_test_split(X, y, test_size=0.25, random_state=0)"
      ],
      "execution_count": null,
      "outputs": []
    },
    {
      "cell_type": "code",
      "metadata": {
        "colab": {
          "base_uri": "https://localhost:8080/"
        },
        "id": "VKT1D-RVvRUZ",
        "outputId": "f136ac4b-8b94-45de-8409-16218251440a"
      },
      "source": [
        "\n",
        "# Finding the regression coefficients for the conditioned median, 0.5 quantile\n",
        "\n",
        "import statsmodels.formula.api as smf\n",
        "mod = smf.quantreg('y ~ X', hp_df)\n",
        "res = mod.fit(q=.5)\n",
        "res\n",
        "# Then print out the summary of our model\n",
        "#\n",
        "print(res.summary())"
      ],
      "execution_count": null,
      "outputs": [
        {
          "output_type": "stream",
          "text": [
            "                         QuantReg Regression Results                          \n",
            "==============================================================================\n",
            "Dep. Variable:                      y   Pseudo R-squared:               0.4801\n",
            "Model:                       QuantReg   Bandwidth:                   9.466e+04\n",
            "Method:                 Least Squares   Sparsity:                    4.470e+05\n",
            "Date:                Thu, 27 May 2021   No. Observations:                  913\n",
            "Time:                        07:33:56   Df Residuals:                      898\n",
            "                                        Df Model:                           14\n",
            "==============================================================================\n",
            "                 coef    std err          t      P>|t|      [0.025      0.975]\n",
            "------------------------------------------------------------------------------\n",
            "Intercept   7.358e+05   7397.526     99.471      0.000    7.21e+05     7.5e+05\n",
            "X[0]       -3.021e+04   9588.642     -3.151      0.002    -4.9e+04   -1.14e+04\n",
            "X[1]        1.707e+04    1.3e+04      1.314      0.189   -8425.531    4.26e+04\n",
            "X[2]       -2.007e+04   1.22e+04     -1.643      0.101    -4.4e+04    3900.494\n",
            "X[3]       -2.885e+04      1e+04     -2.874      0.004   -4.85e+04   -9150.387\n",
            "X[4]        7.386e+04   9177.207      8.048      0.000    5.58e+04    9.19e+04\n",
            "X[5]        1.259e+04   1.02e+04      1.229      0.219   -7513.396    3.27e+04\n",
            "X[6]       -2747.9856   8033.467     -0.342      0.732   -1.85e+04     1.3e+04\n",
            "X[7]        1.774e+05   1.26e+04     14.124      0.000    1.53e+05    2.02e+05\n",
            "X[8]        1.352e+05   1.32e+04     10.223      0.000    1.09e+05    1.61e+05\n",
            "X[9]        1.063e+05   1.01e+04     10.514      0.000    8.65e+04    1.26e+05\n",
            "X[10]      -5.451e+04   8361.005     -6.519      0.000   -7.09e+04   -3.81e+04\n",
            "X[11]       2.013e+04   8953.419      2.248      0.025    2557.345    3.77e+04\n",
            "X[12]       1.041e+05   1.09e+04      9.530      0.000    8.26e+04    1.26e+05\n",
            "X[13]      -2.582e+04   1.23e+04     -2.099      0.036      -5e+04   -1683.070\n",
            "==============================================================================\n"
          ],
          "name": "stdout"
        },
        {
          "output_type": "stream",
          "text": [
            "/usr/local/lib/python3.7/dist-packages/statsmodels/regression/quantile_regression.py:192: IterationLimitWarning: Maximum number of iterations (1000) reached.\n",
            "  \") reached.\", IterationLimitWarning)\n"
          ],
          "name": "stderr"
        }
      ]
    },
    {
      "cell_type": "code",
      "metadata": {
        "id": "pGhHsFA2vq5x"
      },
      "source": [
        ""
      ],
      "execution_count": null,
      "outputs": []
    },
    {
      "cell_type": "markdown",
      "metadata": {
        "id": "3n486nbnfDs8"
      },
      "source": [
        "### RIDGE REGRESSION"
      ]
    },
    {
      "cell_type": "code",
      "metadata": {
        "id": "ZoZe99V47pei"
      },
      "source": [
        "\n",
        "from sklearn.model_selection import GridSearchCV\n",
        "from sklearn.linear_model import Ridge\n",
        "from sklearn.linear_model import LinearRegression\n",
        "from sklearn.metrics import mean_squared_error"
      ],
      "execution_count": null,
      "outputs": []
    },
    {
      "cell_type": "code",
      "metadata": {
        "id": "DGmbWb-x8J9T"
      },
      "source": [
        " #Setting up our X and y datasets\n",
        "X = hp_df[['bedrooms','bathrooms','sqft_lot','floors','waterfront','view','condition',\n",
        "             'grade','sqft_above','sqft_basement','yr_built','yr_renovated','sqft_living15','sqft_lot15']]\n",
        "\n",
        "y = hp_df['price']"
      ],
      "execution_count": null,
      "outputs": []
    },
    {
      "cell_type": "code",
      "metadata": {
        "id": "jAGsUuCqoAgm"
      },
      "source": [
        "from sklearn.model_selection import train_test_split\n",
        "X_train,X_test,y_train,y_test = train_test_split(X,y,random_state=13,test_size=0.2)"
      ],
      "execution_count": null,
      "outputs": []
    },
    {
      "cell_type": "code",
      "metadata": {
        "id": "WN1hVZua9SJa",
        "colab": {
          "base_uri": "https://localhost:8080/"
        },
        "outputId": "cf3dd585-1004-4028-b7b9-7c5508779f7a"
      },
      "source": [
        "# Creating our baseline regression model\n",
        "# This is a model that has no regularization to it\n",
        "# \n",
        "regression = LinearRegression()\n",
        "regression.fit(X,y)\n",
        "first_model = (mean_squared_error(y_true=y,y_pred=regression.predict(X)))\n",
        "print(first_model)\n",
        "\n",
        "# The output  value of 0.355289 will be our indicator to determine if the regularized ridge regression model is superior or not."
      ],
      "execution_count": null,
      "outputs": [
        {
          "output_type": "stream",
          "text": [
            "93260961894.69803\n"
          ],
          "name": "stdout"
        }
      ]
    },
    {
      "cell_type": "code",
      "metadata": {
        "id": "G17v0-md9VE6"
      },
      "source": [
        "# In order to create our ridge model we need to first determine the most appropriate value for the l2 regularization. \n",
        "\n",
        "ridge = Ridge(normalize=True)\n",
        "search = GridSearchCV(estimator=ridge,param_grid={'alpha':np.logspace(-5,2,8)},scoring='neg_mean_squared_error',n_jobs=1,refit=True,cv=10)\n",
        "\n",
        "\n",
        "\n",
        "\n"
      ],
      "execution_count": null,
      "outputs": []
    },
    {
      "cell_type": "code",
      "metadata": {
        "id": "ZHr5EvJh90ml",
        "colab": {
          "base_uri": "https://localhost:8080/"
        },
        "outputId": "2de60a81-1ce2-4413-d936-0286d6a08517"
      },
      "source": [
        "# We now use the .fit function to run the model and then use the .best_params_ and\n",
        "#  .best_scores_ function to determine the models strength. \n",
        "# \n",
        "search.fit(X,y)\n",
        "search.best_params_\n",
        "{'alpha': 0.01}\n",
        "abs(search.best_score_) \n",
        "\n",
        "# The best_params_ tells us what to set alpha  which in this case is 0.01. \n",
        "# The best_score_ tells us what the best possible mean squared error is. \n",
        "# In this case, the value of 0.38 is worse than what the baseline model was."
      ],
      "execution_count": null,
      "outputs": [
        {
          "output_type": "execute_result",
          "data": {
            "text/plain": [
              "105422224222.52405"
            ]
          },
          "metadata": {
            "tags": []
          },
          "execution_count": 232
        }
      ]
    },
    {
      "cell_type": "code",
      "metadata": {
        "id": "9uGxSGHy-ZTb",
        "colab": {
          "base_uri": "https://localhost:8080/"
        },
        "outputId": "18fdf480-3da9-4b1f-932b-a6beaa8f9490"
      },
      "source": [
        "#the ridge value is not cross validated\n",
        "ridge = Ridge(normalize=True,alpha=0.01)\n",
        "ridge.fit(X,y)\n",
        "second_model =(mean_squared_error(y_true=y,y_pred=ridge.predict(X)))\n",
        "print(second_model)"
      ],
      "execution_count": null,
      "outputs": [
        {
          "output_type": "stream",
          "text": [
            "93296078743.987\n"
          ],
          "name": "stdout"
        }
      ]
    },
    {
      "cell_type": "code",
      "metadata": {
        "id": "IN0m5LqI98SJ",
        "colab": {
          "base_uri": "https://localhost:8080/"
        },
        "outputId": "fb02ec0c-ae12-4340-c308-a5e9621e2b58"
      },
      "source": [
        "from sklearn.metrics import r2_score\n",
        "from sklearn import metrics\n",
        "y_pred = ridge.predict(X_test)\n",
        "C = r2_score(y_test,y_pred)\n",
        "print(C)"
      ],
      "execution_count": null,
      "outputs": [
        {
          "output_type": "stream",
          "text": [
            "0.76053013771502\n"
          ],
          "name": "stdout"
        }
      ]
    },
    {
      "cell_type": "code",
      "metadata": {
        "id": "eG4aebJH-jjD",
        "colab": {
          "base_uri": "https://localhost:8080/"
        },
        "outputId": "b0d0b355-b9ea-43da-cb7d-526d4b9c5647"
      },
      "source": [
        "coef_dict_baseline = {}\n",
        "for coef,feat in zip(regression.coef_,hp_df.columns):\n",
        "  coef_dict_baseline[feat] = coef\n",
        "\n",
        "coef_dict_baseline"
      ],
      "execution_count": null,
      "outputs": [
        {
          "output_type": "execute_result",
          "data": {
            "text/plain": [
              "{'bathrooms': -105639.95775192842,\n",
              " 'bedrooms': -0.5874163378366575,\n",
              " 'condition': 338.85406265752954,\n",
              " 'floors': -6092.6088123904665,\n",
              " 'grade': 303.9264560119916,\n",
              " 'id': -59947.80192024907,\n",
              " 'price': -12778.0203974269,\n",
              " 'sqft_above': -3296.486141847326,\n",
              " 'sqft_basement': 2009.2478778947802,\n",
              " 'sqft_lot': 442289.5067550993,\n",
              " 'view': 124600.09770471597,\n",
              " 'waterfront': 18122.56038060935,\n",
              " 'yr_built': 180.81298017022618,\n",
              " 'yr_renovated': -1.7807213373744162}"
            ]
          },
          "metadata": {
            "tags": []
          },
          "execution_count": 235
        }
      ]
    },
    {
      "cell_type": "code",
      "metadata": {
        "colab": {
          "base_uri": "https://localhost:8080/"
        },
        "id": "ax-GjBTBtGDT",
        "outputId": "3cfe59fc-5ce0-417d-c51b-865d57898b24"
      },
      "source": [
        "coef_dict_baseline = {}\n",
        "for coef,feat in zip(ridge.coef_,hp_df.columns):\n",
        "  coef_dict_baseline[feat] = coef\n",
        "\n",
        "coef_dict_baseline"
      ],
      "execution_count": null,
      "outputs": [
        {
          "output_type": "execute_result",
          "data": {
            "text/plain": [
              "{'bathrooms': -101102.84987838581,\n",
              " 'bedrooms': -0.5859046861519341,\n",
              " 'condition': 328.77397990504306,\n",
              " 'floors': -4467.487626621592,\n",
              " 'grade': 298.04949306317644,\n",
              " 'id': -57720.459222087535,\n",
              " 'price': -7790.564401691556,\n",
              " 'sqft_above': -3214.1314631713713,\n",
              " 'sqft_basement': 1917.841786324248,\n",
              " 'sqft_lot': 435658.2859196227,\n",
              " 'view': 124627.15124676032,\n",
              " 'waterfront': 17460.953451642654,\n",
              " 'yr_built': 181.33012034147143,\n",
              " 'yr_renovated': -1.7309584116810506}"
            ]
          },
          "metadata": {
            "tags": []
          },
          "execution_count": 251
        }
      ]
    },
    {
      "cell_type": "markdown",
      "metadata": {
        "id": "DYKqQG4toYx5"
      },
      "source": [
        "Conclusion \n",
        "\n",
        "Our R^2  for the ridge is 0.76 which shows that our X variables explains the dependent variable by 76%\n",
        "\n",
        "The MSE in Ridge was 93296078743.987 while that in linear was 93260961894.69803 \n",
        "which was quite close to one another\n"
      ]
    },
    {
      "cell_type": "markdown",
      "metadata": {
        "id": "wRVgv5cEfNka"
      },
      "source": [
        "## LASSO REGRESSION"
      ]
    },
    {
      "cell_type": "code",
      "metadata": {
        "id": "bVWYrV4RKLb6",
        "colab": {
          "base_uri": "https://localhost:8080/"
        },
        "outputId": "ba88bc9d-e176-4e46-fdb6-126724bc9e0a"
      },
      "source": [
        "hp_df.columns"
      ],
      "execution_count": null,
      "outputs": [
        {
          "output_type": "execute_result",
          "data": {
            "text/plain": [
              "Index(['id', 'price', 'bedrooms', 'bathrooms', 'sqft_living', 'sqft_lot',\n",
              "       'floors', 'waterfront', 'view', 'condition', 'grade', 'sqft_above',\n",
              "       'sqft_basement', 'yr_built', 'yr_renovated', 'zipcode', 'lat', 'long',\n",
              "       'sqft_living15', 'sqft_lot15'],\n",
              "      dtype='object')"
            ]
          },
          "metadata": {
            "tags": []
          },
          "execution_count": 200
        }
      ]
    },
    {
      "cell_type": "code",
      "metadata": {
        "id": "_-TZffyRLFxs",
        "colab": {
          "base_uri": "https://localhost:8080/"
        },
        "outputId": "f1876f7b-f732-4b6c-a523-a961f55a5209"
      },
      "source": [
        "hp_df.yr_renovated.unique()"
      ],
      "execution_count": null,
      "outputs": [
        {
          "output_type": "execute_result",
          "data": {
            "text/plain": [
              "array([45, 56, 64, 53, 46, 67, 48, 32, 59, 62, 57, 38, 10, 68, 65, 28, 37,\n",
              "        4, 44, 42, 13, 31, 35, 49, 54, 52, 24, 43, 58, 40, 63, 61, 41, 27,\n",
              "       60, 39, 55, 34, 25, 33, 51,  7, 23,  6, 69, 22, 66, 18,  8, 47, 17,\n",
              "       50, 26,  9, 11, 36, 12,  2, 30,  5, 29, 14, 19, 15, 16, 21, 20,  1,\n",
              "        3])"
            ]
          },
          "metadata": {
            "tags": []
          },
          "execution_count": 201
        }
      ]
    },
    {
      "cell_type": "code",
      "metadata": {
        "id": "Qg9a8-rSMyjY",
        "colab": {
          "base_uri": "https://localhost:8080/"
        },
        "outputId": "850a2019-d81e-4ea9-98db-f8c9c28de178"
      },
      "source": [
        "hp_df.yr_renovated.unique()"
      ],
      "execution_count": null,
      "outputs": [
        {
          "output_type": "execute_result",
          "data": {
            "text/plain": [
              "array([45, 56, 64, 53, 46, 67, 48, 32, 59, 62, 57, 38, 10, 68, 65, 28, 37,\n",
              "        4, 44, 42, 13, 31, 35, 49, 54, 52, 24, 43, 58, 40, 63, 61, 41, 27,\n",
              "       60, 39, 55, 34, 25, 33, 51,  7, 23,  6, 69, 22, 66, 18,  8, 47, 17,\n",
              "       50, 26,  9, 11, 36, 12,  2, 30,  5, 29, 14, 19, 15, 16, 21, 20,  1,\n",
              "        3])"
            ]
          },
          "metadata": {
            "tags": []
          },
          "execution_count": 202
        }
      ]
    },
    {
      "cell_type": "code",
      "metadata": {
        "id": "0mGTGKreOLLo",
        "colab": {
          "base_uri": "https://localhost:8080/"
        },
        "outputId": "6bcc66aa-a1d9-4369-99e7-46ef4ce56f44"
      },
      "source": [
        "hp_df.yr_built.value_counts()"
      ],
      "execution_count": null,
      "outputs": [
        {
          "output_type": "execute_result",
          "data": {
            "text/plain": [
              "50     31\n",
              "42     24\n",
              "24     20\n",
              "30     20\n",
              "0      19\n",
              "       ..\n",
              "89      1\n",
              "91      1\n",
              "90      1\n",
              "66      1\n",
              "103     1\n",
              "Name: yr_built, Length: 95, dtype: int64"
            ]
          },
          "metadata": {
            "tags": []
          },
          "execution_count": 203
        }
      ]
    },
    {
      "cell_type": "code",
      "metadata": {
        "id": "KYbLHYKKO6D8"
      },
      "source": [
        "\n",
        "\n",
        "# Creating features and target matrixes\n",
        "#\n",
        "X = hp_df[['bedrooms','bathrooms','sqft_lot','floors','waterfront','view','condition',\n",
        "             'grade','sqft_above','sqft_basement','yr_built','yr_renovated','sqft_living15','sqft_lot15']]\n",
        "\n",
        "y = hp_df['price']\n",
        "\n",
        "# Scaling data \n",
        "#\n"
      ],
      "execution_count": null,
      "outputs": []
    },
    {
      "cell_type": "code",
      "metadata": {
        "id": "kmPmTsPLPUjG"
      },
      "source": [
        "from sklearn.preprocessing import StandardScaler\n",
        "scaler = StandardScaler()\n",
        "scaler.fit(X)\n",
        "X = scaler.transform(X)"
      ],
      "execution_count": null,
      "outputs": []
    },
    {
      "cell_type": "code",
      "metadata": {
        "id": "SFoJNmvjPcp4",
        "colab": {
          "base_uri": "https://localhost:8080/"
        },
        "outputId": "c71bc286-18ee-4a5c-f837-951ad4275976"
      },
      "source": [
        "from sklearn import linear_model\n",
        "from sklearn.metrics import mean_squared_error\n",
        "\n",
        "# Creating lasso object\n",
        "# \n",
        "lasso = linear_model.Lasso() \n",
        "\n",
        "# Fitting the models\n",
        "# \n",
        "lasso.fit(X, y) \n",
        "\n",
        "# Print scores, MSE, and coefficients\n",
        "# \n",
        "print(\"lasso score:\", lasso.score(X, y)) \n",
        "print(\"lasso MSE:\", mean_squared_error(y, lasso.predict(X))) \n",
        "print(\"lasso coef:\", lasso.coef_) "
      ],
      "execution_count": null,
      "outputs": [
        {
          "output_type": "stream",
          "text": [
            "lasso score: 0.7476948066871894\n",
            "lasso MSE: 93260961927.1557\n",
            "lasso coef: [-62365.38743619 -11371.93988125 -22335.00909822 -52255.24997763\n",
            "  92652.53743025  -7413.08931619   9402.6955011  150151.13549286\n",
            " 287536.37708952 164796.25311768 -74567.98261755  30317.3460824\n",
            " 127300.74443483 -47847.72494066]\n"
          ],
          "name": "stdout"
        }
      ]
    },
    {
      "cell_type": "code",
      "metadata": {
        "id": "3EtbfRULQK6v",
        "colab": {
          "base_uri": "https://localhost:8080/"
        },
        "outputId": "36a24438-c3a9-43e8-89bb-c500c961a86e"
      },
      "source": [
        "# Splitting the data into training and test sets, building Lasso, \n",
        "# and choosing the regularization parameter with the help of GridSearch. \n",
        "# For that, we have to define the set of parameters for GridSearch. \n",
        "# In this case, a model with the highest R-squared score will give us the best parameters.\n",
        "# \n",
        "\n",
        "# Making necessary imports, split data into training and test sets, and choose a set of parameters \n",
        "from sklearn.model_selection import train_test_split\n",
        "from sklearn.model_selection import GridSearchCV\n",
        "import warnings\n",
        "warnings.filterwarnings(\"ignore\")\n",
        "\n",
        "X_train, X_test, y_train, y_test = train_test_split(X, y, test_size=0.2, random_state=101)\n",
        "parameters = {'alpha': np.concatenate((np.arange(0.1,2,0.1), np.arange(2, 5, 0.5), np.arange(5, 25, 1)))}\n",
        "\n",
        "linear = linear_model.LinearRegression()\n",
        "lasso = linear_model.Lasso() \n",
        "gridlasso = GridSearchCV(lasso, parameters, scoring ='r2') \n",
        "\n",
        "# Fitting models and print the best parameters, R-squared scores, MSE, and coefficients\n",
        "gridlasso.fit(X_train, y_train) \n",
        "linear.fit(X_train, y_train) \n",
        "print(\"lasso best parameters:\", gridlasso.best_params_) \n",
        "print(\"lasso score:\", gridlasso.score(X_test, y_test))\n",
        "print(\"linear score:\", linear.score(X_test, y_test)) \n",
        "print(\"lasso MSE:\", mean_squared_error(y_test, gridlasso.predict(X_test)))\n",
        "print(\"linear MSE:\", mean_squared_error(y_test, linear.predict(X_test))) \n",
        "print(\"lasso best estimator coef:\", gridlasso.best_estimator_.coef_)\n",
        "print(\"linear coef:\", linear.coef_)"
      ],
      "execution_count": null,
      "outputs": [
        {
          "output_type": "stream",
          "text": [
            "lasso best parameters: {'alpha': 24.0}\n",
            "lasso score: 0.7358136551173147\n",
            "linear score: 0.735853115191972\n",
            "lasso MSE: 131637493363.71999\n",
            "linear MSE: 131617831388.69194\n",
            "lasso best estimator coef: [-50371.47732519 -10614.95559615 -27017.6782135  -47542.80291504\n",
            "  65441.28236599  13308.68851659   8943.26385243 168599.59647631\n",
            " 255351.42901568 139926.58951939 -70919.49519411  28265.41590681\n",
            " 127502.82805109 -38472.89370758]\n",
            "linear coef: [-50407.08320359 -10726.81553131 -27038.4141108  -47598.81618756\n",
            "  65465.04372565  13312.61177031   8982.60009924 168607.19514672\n",
            " 255493.86107463 139964.27450057 -70969.26894922  28332.53494844\n",
            " 127513.23897561 -38492.41539766]\n"
          ],
          "name": "stdout"
        }
      ]
    },
    {
      "cell_type": "markdown",
      "metadata": {
        "id": "fydpiJI7pdkq"
      },
      "source": [
        "Conclusion \n",
        "Before we use grid search our \n",
        "\n",
        "r^2 was  0.7476948066871894\n",
        "MSE was 93260961927.1557\n",
        "\n",
        "Our r^2 in Lasso regression was 0.73 after using gridsearch to get the best parameters \n",
        "\n",
        "MSE FOR Lasso was 131637493363"
      ]
    },
    {
      "cell_type": "markdown",
      "metadata": {
        "id": "Vg7AZAZIURAL"
      },
      "source": [
        "### ELASTIC NET REGRESSION"
      ]
    },
    {
      "cell_type": "code",
      "metadata": {
        "id": "kbVFueq5rhY-"
      },
      "source": [
        "#importing the libraries\n",
        "\n",
        "import numpy as np\n",
        "import pandas as pd\n",
        "pd.set_option('display.max_rows', 5000)\n",
        "pd.set_option('display.max_columns', 5000)\n",
        "pd.set_option('display.width', 10000)\n",
        "\n",
        "from sklearn.model_selection import GridSearchCV\n",
        "from sklearn.linear_model import ElasticNet\n",
        "from sklearn.linear_model import LinearRegression\n",
        "from sklearn.metrics import mean_squared_error"
      ],
      "execution_count": null,
      "outputs": []
    },
    {
      "cell_type": "code",
      "metadata": {
        "id": "CH_s6MTSraNi"
      },
      "source": [
        "#\n",
        "elastic=ElasticNet(normalize=True)\n",
        "search=GridSearchCV(estimator=elastic,param_grid={'alpha':np.logspace(-5,2,8),'l1_ratio':[.2,.4,.6,.8]},scoring='neg_mean_squared_error',n_jobs=1,refit=True,cv=10)"
      ],
      "execution_count": null,
      "outputs": []
    },
    {
      "cell_type": "code",
      "metadata": {
        "colab": {
          "base_uri": "https://localhost:8080/"
        },
        "id": "FZPZ6GxbsUEI",
        "outputId": "3037023d-e4a2-41e4-ea7e-56399c25840e"
      },
      "source": [
        "search.fit(X,y)\n",
        "search.best_params_\n",
        "abs(search.best_score_)"
      ],
      "execution_count": null,
      "outputs": [
        {
          "output_type": "execute_result",
          "data": {
            "text/plain": [
              "105387933740.57623"
            ]
          },
          "metadata": {
            "tags": []
          },
          "execution_count": 245
        }
      ]
    },
    {
      "cell_type": "code",
      "metadata": {
        "colab": {
          "base_uri": "https://localhost:8080/"
        },
        "id": "CgP4XT3ssenl",
        "outputId": "cc4587ba-6550-44fc-d256-ee4b30f70dc1"
      },
      "source": [
        "elastic=ElasticNet(normalize=True,alpha=0.001,l1_ratio=0.75)\n",
        "elastic.fit(X,y)\n",
        "second_model=(mean_squared_error(y_true=y,y_pred=elastic.predict(X)))\n",
        "print(second_model)"
      ],
      "execution_count": null,
      "outputs": [
        {
          "output_type": "stream",
          "text": [
            "99879347774.23607\n"
          ],
          "name": "stdout"
        }
      ]
    },
    {
      "cell_type": "code",
      "metadata": {
        "colab": {
          "base_uri": "https://localhost:8080/"
        },
        "id": "9W-Eev8Ztsaw",
        "outputId": "eedc4692-486a-4cae-e15f-69e080fb3e93"
      },
      "source": [
        "coef_dict_baseline = {}\n",
        "for coef,feat in zip(elastic.coef_,hp_df.columns):\n",
        "  coef_dict_baseline[feat] = coef\n",
        "\n",
        "coef_dict_baseline"
      ],
      "execution_count": null,
      "outputs": [
        {
          "output_type": "execute_result",
          "data": {
            "text/plain": [
              "{'bathrooms': -19599.9532942779,\n",
              " 'bedrooms': -19382.48463725399,\n",
              " 'condition': 183632.68284237638,\n",
              " 'floors': 22045.48561184341,\n",
              " 'grade': 124384.74110664235,\n",
              " 'id': -27653.746457277815,\n",
              " 'price': 36776.36517724339,\n",
              " 'sqft_above': -46281.61695045213,\n",
              " 'sqft_basement': 16072.505813925785,\n",
              " 'sqft_lot': 71237.58366172784,\n",
              " 'view': 139212.8849482191,\n",
              " 'waterfront': 6381.699569906292,\n",
              " 'yr_built': 123144.53171640939,\n",
              " 'yr_renovated': -30175.771327914146}"
            ]
          },
          "metadata": {
            "tags": []
          },
          "execution_count": 255
        }
      ]
    },
    {
      "cell_type": "markdown",
      "metadata": {
        "id": "xrmHVMVsVS--"
      },
      "source": [
        "## 9. Follow up questions"
      ]
    },
    {
      "cell_type": "markdown",
      "metadata": {
        "id": "pth2qSWhuBIy"
      },
      "source": [
        "> At this point, we can refine our question or collect new data, all in an iterative process to get at the truth.\n",
        "\n"
      ]
    },
    {
      "cell_type": "markdown",
      "metadata": {
        "id": "HPQviDmNtta8"
      },
      "source": [
        "### a). Did we have the right data?\n",
        "\n",
        "Yes our data was convenient since r^2 was quite high hence most of our X independent cariables explained the y dependent variable"
      ]
    },
    {
      "cell_type": "markdown",
      "metadata": {
        "id": "qjFHK1CKty7o"
      },
      "source": [
        "### b). Do we need other data to answer our question?"
      ]
    },
    {
      "cell_type": "markdown",
      "metadata": {
        "id": "HSsicSdvt4Zs"
      },
      "source": [
        "### c). Did we have the right question?"
      ]
    }
  ]
}